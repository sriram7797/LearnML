{
 "cells": [
  {
   "cell_type": "code",
   "execution_count": 1,
   "metadata": {},
   "outputs": [],
   "source": [
    "import warnings;warnings.filterwarnings(\"ignore\")\n",
    "import torch\n",
    "import torch.nn as nn\n",
    "import torch.optim as optim\n",
    "import torch.nn.functional as F\n",
    "import numpy as np\n",
    "import matplotlib.pyplot as plt\n",
    "from IPython.display import Image"
   ]
  },
  {
   "cell_type": "code",
   "execution_count": 2,
   "metadata": {},
   "outputs": [
    {
     "data": {
      "text/html": [
       "<img src=\"https://ujwlkarn.files.wordpress.com/2016/08/screen-shot-2016-08-09-at-3-42-21-am.png?w=568&h=303\"/>"
      ],
      "text/plain": [
       "<IPython.core.display.Image object>"
      ]
     },
     "execution_count": 2,
     "metadata": {},
     "output_type": "execute_result"
    }
   ],
   "source": [
    "Image(url=\"https://ujwlkarn.files.wordpress.com/2016/08/screen-shot-2016-08-09-at-3-42-21-am.png?w=568&h=303\")"
   ]
  },
  {
   "cell_type": "code",
   "execution_count": 3,
   "metadata": {},
   "outputs": [],
   "source": [
    "class Net(nn.Module):\n",
    "    def __init__(self):\n",
    "        super().__init__()\n",
    "        self.linear = nn.Linear(1,1)\n",
    "    def forward(self,x):\n",
    "        return self.linear(x)"
   ]
  },
  {
   "cell_type": "code",
   "execution_count": 4,
   "metadata": {},
   "outputs": [],
   "source": [
    "n = Net()\n",
    "\n",
    "inp = torch.tensor([float(i) for i in range(1,1000)])\n",
    "\n",
    "target = torch.tensor([float(i)*2 for i in range(1,1000)])\n",
    "\n",
    "crit = nn.MSELoss()\n",
    "\n",
    "optimizer = optim.SGD(n.parameters(),lr=1e-8)"
   ]
  },
  {
   "cell_type": "markdown",
   "metadata": {},
   "source": [
    "# Initial Weights and Bias:-"
   ]
  },
  {
   "cell_type": "markdown",
   "metadata": {},
   "source": [
    "**Weights are initialized using:**<br> \n",
    "    \\begin{equation*}\n",
    "    u(-\\sqrt{k},\\sqrt{k})\n",
    "    \\end{equation*}\n",
    "    where,<br>\n",
    "    \\begin{equation*}\n",
    "    k=\\frac{1}{in\\_features}\n",
    "    \\end{equation*}\n",
    "    <br>\n",
    "    u - uniform distribution\n",
    "       \n",
    "       \n",
    "**Reference:** <a href=\"https://pytorch.org/docs/stable/nn.html?highlight=nn%20linear#torch.nn.Linear\">Pytorch Linear</a>    \n",
    "    "
   ]
  },
  {
   "cell_type": "code",
   "execution_count": 5,
   "metadata": {},
   "outputs": [
    {
     "name": "stdout",
     "output_type": "stream",
     "text": [
      "linear.weight Parameter containing:\n",
      "tensor([[0.8856]], requires_grad=True) torch.Size([1, 1])\n",
      "linear.bias Parameter containing:\n",
      "tensor([-0.0203], requires_grad=True) torch.Size([1])\n"
     ]
    }
   ],
   "source": [
    "for param in n.named_parameters():\n",
    "    print(param[0],param[1],param[1].shape)"
   ]
  },
  {
   "cell_type": "code",
   "execution_count": 6,
   "metadata": {},
   "outputs": [
    {
     "name": "stdout",
     "output_type": "stream",
     "text": [
      "tensor(2979.5950, grad_fn=<MseLossBackward>)\n",
      "tensor(12022.5811, grad_fn=<MseLossBackward>)\n",
      "tensor(26400.6113, grad_fn=<MseLossBackward>)\n",
      "tensor(44318.3906, grad_fn=<MseLossBackward>)\n",
      "tensor(62757.8242, grad_fn=<MseLossBackward>)\n",
      "tensor(77874.6875, grad_fn=<MseLossBackward>)\n",
      "tensor(86003.8281, grad_fn=<MseLossBackward>)\n",
      "tensor(84973.4062, grad_fn=<MseLossBackward>)\n",
      "tensor(75088.9453, grad_fn=<MseLossBackward>)\n",
      "tensor(59144.7305, grad_fn=<MseLossBackward>)\n",
      "tensor(41302.3516, grad_fn=<MseLossBackward>)\n",
      "tensor(25401.8691, grad_fn=<MseLossBackward>)\n",
      "tensor(13655.9141, grad_fn=<MseLossBackward>)\n",
      "tensor(6364.9507, grad_fn=<MseLossBackward>)\n",
      "tensor(2549.9912, grad_fn=<MseLossBackward>)\n",
      "tensor(870.2500, grad_fn=<MseLossBackward>)\n",
      "tensor(250.6455, grad_fn=<MseLossBackward>)\n",
      "tensor(60.3466, grad_fn=<MseLossBackward>)\n",
      "tensor(12.0263, grad_fn=<MseLossBackward>)\n",
      "tensor(1.9631, grad_fn=<MseLossBackward>)\n"
     ]
    }
   ],
   "source": [
    "updated_weights=[]\n",
    "losses=[]\n",
    "loss=None\n",
    "for epoch in range(1):\n",
    "    for idx,(data,targ) in enumerate(zip(inp,target)):\n",
    "        if (idx+1)%50==0:\n",
    "            print(loss)\n",
    "        optimizer.zero_grad()\n",
    "        output = n(data.reshape(-1))\n",
    "        loss =crit(output,targ.reshape(-1))\n",
    "        updated_weights.append(n.linear.weight.data[0,0].item())\n",
    "        losses.append(loss)\n",
    "        loss.backward()\n",
    "        optimizer.step()\n",
    "print(loss)"
   ]
  },
  {
   "cell_type": "code",
   "execution_count": 7,
   "metadata": {},
   "outputs": [
    {
     "name": "stdout",
     "output_type": "stream",
     "text": [
      "('linear.weight', Parameter containing:\n",
      "tensor([[1.9986]], requires_grad=True))\n",
      "('linear.bias', Parameter containing:\n",
      "tensor([-0.0175], requires_grad=True))\n"
     ]
    }
   ],
   "source": [
    "for param in n.named_parameters():\n",
    "    print(param)"
   ]
  },
  {
   "cell_type": "code",
   "execution_count": 8,
   "metadata": {},
   "outputs": [
    {
     "data": {
      "text/plain": [
       "tensor([1998.6255], grad_fn=<AddBackward0>)"
      ]
     },
     "execution_count": 8,
     "metadata": {},
     "output_type": "execute_result"
    }
   ],
   "source": [
    "n(torch.tensor([float(1000)]))"
   ]
  },
  {
   "cell_type": "code",
   "execution_count": 9,
   "metadata": {},
   "outputs": [],
   "source": [
    "updated_weights = np.array(updated_weights)\n",
    "losses = np.array(losses)"
   ]
  },
  {
   "cell_type": "markdown",
   "metadata": {},
   "source": [
    "# Gradient Descent"
   ]
  },
  {
   "cell_type": "code",
   "execution_count": 10,
   "metadata": {},
   "outputs": [
    {
     "data": {
      "text/plain": [
       "[<matplotlib.lines.Line2D at 0x21a830a63c8>]"
      ]
     },
     "execution_count": 10,
     "metadata": {},
     "output_type": "execute_result"
    },
    {
     "data": {
      "image/png": "[encoded data removed]",
      "text/plain": [
       "<Figure size 432x288 with 1 Axes>"
      ]
     },
     "metadata": {
      "needs_background": "light"
     },
     "output_type": "display_data"
    }
   ],
   "source": [
    "plt.plot(updated_weights,losses)"
   ]
  },
  {
   "cell_type": "code",
   "execution_count": null,
   "metadata": {},
   "outputs": [],
   "source": []
  }
 ],
 "metadata": {
  "kernelspec": {
   "display_name": "Python 3",
   "language": "python",
   "name": "python3"
  },
  "language_info": {
   "codemirror_mode": {
    "name": "ipython",
    "version": 3
   },
   "file_extension": ".py",
   "mimetype": "text/x-python",
   "name": "python",
   "nbconvert_exporter": "python",
   "pygments_lexer": "ipython3",
   "version": "3.7.3"
  }
 },
 "nbformat": 4,
 "nbformat_minor": 2
}
