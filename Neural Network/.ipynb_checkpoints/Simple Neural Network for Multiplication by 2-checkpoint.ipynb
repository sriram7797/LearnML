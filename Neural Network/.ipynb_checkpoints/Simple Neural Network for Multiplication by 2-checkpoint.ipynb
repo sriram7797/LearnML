{
 "cells": [
  {
   "cell_type": "code",
   "execution_count": 1,
   "metadata": {},
   "outputs": [],
   "source": [
    "import warnings;warnings.filterwarnings(\"ignore\")\n",
    "import torch\n",
    "import torch.nn as nn\n",
    "import torch.optim as optim\n",
    "import torch.nn.functional as F\n",
    "import numpy as np\n",
    "import matplotlib.pyplot as plt\n",
    "from IPython.display import Image"
   ]
  },
  {
   "cell_type": "code",
   "execution_count": 2,
   "metadata": {},
   "outputs": [
    {
     "data": {
      "text/html": [
       "<img src=\"https://ujwlkarn.files.wordpress.com/2016/08/screen-shot-2016-08-09-at-3-42-21-am.png?w=568&h=303\"/>"
      ],
      "text/plain": [
       "<IPython.core.display.Image object>"
      ]
     },
     "execution_count": 2,
     "metadata": {},
     "output_type": "execute_result"
    }
   ],
   "source": [
    "Image(url=\"https://ujwlkarn.files.wordpress.com/2016/08/screen-shot-2016-08-09-at-3-42-21-am.png?w=568&h=303\")"
   ]
  },
  {
   "cell_type": "code",
   "execution_count": 3,
   "metadata": {},
   "outputs": [],
   "source": [
    "class Net(nn.Module):\n",
    "    def __init__(self):\n",
    "        super().__init__()\n",
    "        self.linear = nn.Linear(1,1)\n",
    "    def forward(self,x):\n",
    "        return self.linear(x)"
   ]
  },
  {
   "cell_type": "code",
   "execution_count": 4,
   "metadata": {},
   "outputs": [],
   "source": [
    "n = Net()\n",
    "\n",
    "inp = torch.tensor([float(i) for i in range(1,1000)])\n",
    "\n",
    "target = torch.tensor([float(i)*2 for i in range(1,1000)])\n",
    "\n",
    "crit = nn.MSELoss()\n",
    "\n",
    "optimizer = optim.SGD(n.parameters(),lr=1e-8)"
   ]
  },
  {
   "cell_type": "markdown",
   "metadata": {},
   "source": [
    "# Initial Weights and Bias:-"
   ]
  },
  {
   "cell_type": "markdown",
   "metadata": {},
   "source": [
    "**Weights are initialized using:**<br> \n",
    "    \\begin{equation*}\n",
    "    u(-\\sqrt{k},\\sqrt{k})\n",
    "    \\end{equation*}\n",
    "    where,<br>\n",
    "    \\begin{equation*}\n",
    "    k=\\frac{1}{in\\_features}\n",
    "    \\end{equation*}\n",
    "    <br>\n",
    "    u - uniform distribution\n",
    "       \n",
    "       \n",
    "**Reference:** <a href=\"https://pytorch.org/docs/stable/nn.html?highlight=nn%20linear#torch.nn.Linear\">Pytorch Linear</a>    \n",
    "    "
   ]
  },
  {
   "cell_type": "code",
   "execution_count": 11,
   "metadata": {},
   "outputs": [
    {
     "name": "stdout",
     "output_type": "stream",
     "text": [
      "linear.weight Parameter containing:\n",
      "tensor([[1.9979]], requires_grad=True) torch.Size([1, 1])\n",
      "linear.bias Parameter containing:\n",
      "tensor([-0.0741], requires_grad=True) torch.Size([1])\n"
     ]
    }
   ],
   "source": [
    "for param in n.named_parameters():\n",
    "    print(param[0],param[1],param[1].shape)"
   ]
  },
  {
   "cell_type": "code",
   "execution_count": 12,
   "metadata": {},
   "outputs": [
    {
     "name": "stdout",
     "output_type": "stream",
     "text": [
      "tensor(0.0320, grad_fn=<MseLossBackward>)\n",
      "tensor(0.0807, grad_fn=<MseLossBackward>)\n",
      "tensor(0.1474, grad_fn=<MseLossBackward>)\n",
      "tensor(0.2238, grad_fn=<MseLossBackward>)\n",
      "tensor(0.2968, grad_fn=<MseLossBackward>)\n",
      "tensor(0.3512, grad_fn=<MseLossBackward>)\n",
      "tensor(0.3734, grad_fn=<MseLossBackward>)\n",
      "tensor(0.3570, grad_fn=<MseLossBackward>)\n",
      "tensor(0.3059, grad_fn=<MseLossBackward>)\n",
      "tensor(0.2335, grad_fn=<MseLossBackward>)\n",
      "tensor(0.1581, grad_fn=<MseLossBackward>)\n",
      "tensor(0.0937, grad_fn=<MseLossBackward>)\n",
      "tensor(0.0481, grad_fn=<MseLossBackward>)\n",
      "tensor(0.0211, grad_fn=<MseLossBackward>)\n",
      "tensor(0.0077, grad_fn=<MseLossBackward>)\n",
      "tensor(0.0023, grad_fn=<MseLossBackward>)\n",
      "tensor(0.0005, grad_fn=<MseLossBackward>)\n",
      "tensor(6.1035e-05, grad_fn=<MseLossBackward>)\n",
      "tensor(9.3132e-06, grad_fn=<MseLossBackward>)\n"
     ]
    }
   ],
   "source": [
    "updated_weights=[]\n",
    "losses=[]\n",
    "for epoch in range(1):\n",
    "    for idx,(data,targ) in enumerate(zip(inp,target)):\n",
    "        if (idx+1)%50==0:\n",
    "            print(loss)\n",
    "        optimizer.zero_grad()\n",
    "        output = n(data.reshape(-1))\n",
    "        loss =crit(output,targ.reshape(-1))\n",
    "        updated_weights.append(n.linear.weight.data[0,0].item())\n",
    "        losses.append(loss)\n",
    "        loss.backward()\n",
    "        optimizer.step()"
   ]
  },
  {
   "cell_type": "code",
   "execution_count": 13,
   "metadata": {},
   "outputs": [
    {
     "name": "stdout",
     "output_type": "stream",
     "text": [
      "('linear.weight', Parameter containing:\n",
      "tensor([[2.0001]], requires_grad=True))\n",
      "('linear.bias', Parameter containing:\n",
      "tensor([-0.0740], requires_grad=True))\n"
     ]
    }
   ],
   "source": [
    "for param in n.named_parameters():\n",
    "    print(param)"
   ]
  },
  {
   "cell_type": "code",
   "execution_count": 14,
   "metadata": {},
   "outputs": [
    {
     "data": {
      "text/plain": [
       "tensor([2000.0007], grad_fn=<AddBackward0>)"
      ]
     },
     "execution_count": 14,
     "metadata": {},
     "output_type": "execute_result"
    }
   ],
   "source": [
    "n(torch.tensor([float(1000)]))"
   ]
  },
  {
   "cell_type": "code",
   "execution_count": 15,
   "metadata": {},
   "outputs": [],
   "source": [
    "updated_weights = np.array(updated_weights)\n",
    "losses = np.array(losses)"
   ]
  },
  {
   "cell_type": "markdown",
   "metadata": {},
   "source": [
    "# Gradient Descent"
   ]
  },
  {
   "cell_type": "code",
   "execution_count": 16,
   "metadata": {},
   "outputs": [
    {
     "data": {
      "text/plain": [
       "[<matplotlib.lines.Line2D at 0x240a5678390>]"
      ]
     },
     "execution_count": 16,
     "metadata": {},
     "output_type": "execute_result"
    },
    {
     "data": {
      "image/png": "[encoded data removed]",
      "text/plain": [
       "<Figure size 432x288 with 1 Axes>"
      ]
     },
     "metadata": {
      "needs_background": "light"
     },
     "output_type": "display_data"
    }
   ],
   "source": [
    "plt.plot(updated_weights,losses)"
   ]
  },
  {
   "cell_type": "code",
   "execution_count": null,
   "metadata": {},
   "outputs": [],
   "source": []
  }
 ],
 "metadata": {
  "kernelspec": {
   "display_name": "Python 3",
   "language": "python",
   "name": "python3"
  },
  "language_info": {
   "codemirror_mode": {
    "name": "ipython",
    "version": 3
   },
   "file_extension": ".py",
   "mimetype": "text/x-python",
   "name": "python",
   "nbconvert_exporter": "python",
   "pygments_lexer": "ipython3",
   "version": "3.7.3"
  }
 },
 "nbformat": 4,
 "nbformat_minor": 2
}
