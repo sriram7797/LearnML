{
 "cells": [
  {
   "cell_type": "code",
   "execution_count": 1,
   "metadata": {},
   "outputs": [],
   "source": [
    "import warnings;warnings.filterwarnings('ignore')\n",
    "\n",
    "import numpy as np\n",
    "import torch\n",
    "\n",
    "import matplotlib.pyplot as plt\n",
    "import pandas as pd\n",
    "from pathlib import Path"
   ]
  },
  {
   "cell_type": "code",
   "execution_count": 2,
   "metadata": {},
   "outputs": [],
   "source": [
    "path = Path('C:/Users/sappusamy/Documents/SriWK/mnist/train.csv')"
   ]
  },
  {
   "cell_type": "code",
   "execution_count": 3,
   "metadata": {},
   "outputs": [],
   "source": [
    "dataset = pd.read_csv(path)"
   ]
  },
  {
   "cell_type": "code",
   "execution_count": 4,
   "metadata": {},
   "outputs": [],
   "source": [
    "y = dataset.label.to_numpy()"
   ]
  },
  {
   "cell_type": "code",
   "execution_count": 5,
   "metadata": {},
   "outputs": [],
   "source": [
    "x = dataset.iloc[:,1:].to_numpy()"
   ]
  },
  {
   "cell_type": "code",
   "execution_count": 6,
   "metadata": {},
   "outputs": [
    {
     "name": "stdout",
     "output_type": "stream",
     "text": [
      "(42000, 784)\n",
      "(42000,)\n"
     ]
    }
   ],
   "source": [
    "print(x.shape);print(y.shape)"
   ]
  },
  {
   "cell_type": "code",
   "execution_count": 7,
   "metadata": {},
   "outputs": [
    {
     "data": {
      "image/png": "[encoded data removed]",
      "text/plain": [
       "<Figure size 432x288 with 2 Axes>"
      ]
     },
     "metadata": {
      "needs_background": "light"
     },
     "output_type": "display_data"
    },
    {
     "name": "stdout",
     "output_type": "stream",
     "text": [
      "4\n"
     ]
    }
   ],
   "source": [
    "index_num = 143\n",
    "\n",
    "plt.figure()\n",
    "plt.imshow(x[index_num].reshape(28,28))\n",
    "plt.colorbar()\n",
    "plt.grid(False)\n",
    "plt.show()\n",
    "print(y[index_num])"
   ]
  },
  {
   "cell_type": "markdown",
   "metadata": {},
   "source": [
    "## Representation:"
   ]
  },
  {
   "cell_type": "markdown",
   "metadata": {},
   "source": [
    "*Torch differs from Andrew Ng's representation*<br>\n",
    "   \\begin{equation*}Andrew: Z = WX + b\\end{equation*}\n",
    "   <br>\n",
    "   \\begin{equation*}Torch: Z = X^TW^T + b\\end{equation*}\n",
    "   <br>\n",
    "   which is obtained by matrix property:\n",
    "   \\begin{equation*}(AB)^T = B^TA^T\\end{equation*}\n",
    "   \n",
    "   **Note:**<br>\n",
    "       In Andrew Ng's representation, training examples are **vertically stacked**<br>\n",
    "       In torch representation, training examples are **horizontally stacked**\n",
    "       \n",
    "**Hence torch equation becomes,**\n",
    "    \\begin{equation*} Z = XW^T + b\\end{equation*}\n",
    "  "
   ]
  },
  {
   "cell_type": "code",
   "execution_count": 13,
   "metadata": {},
   "outputs": [],
   "source": [
    "def linear(x,w,b):\n",
    "    return torch.matmul(x,w.transpose(0,1)) + b"
   ]
  },
  {
   "cell_type": "code",
   "execution_count": 14,
   "metadata": {},
   "outputs": [],
   "source": [
    "def sigmoid(z):\n",
    "    return 1/(1+torch.exp(-z))"
   ]
  },
  {
   "cell_type": "code",
   "execution_count": 15,
   "metadata": {},
   "outputs": [],
   "source": [
    "def softmax(z):\n",
    "    return torch.exp(z)/torch.exp(z).sum(1).view(len(z),-1)"
   ]
  },
  {
   "cell_type": "code",
   "execution_count": 16,
   "metadata": {},
   "outputs": [],
   "source": [
    "def cross_entropy_loss(yhat,y):\n",
    "    yhat = softmax(yhat)\n",
    "    return -yhat[range(len(y)),y].log().mean()"
   ]
  },
  {
   "cell_type": "code",
   "execution_count": 17,
   "metadata": {},
   "outputs": [],
   "source": [
    "def cross_entropy_derivative(yhat,y):\n",
    "    p = softmax(yhat)\n",
    "    q = torch.zeros(yhat.shape)\n",
    "    q[range(len(y)),y]=1\n",
    "    return (p-q)/y.shape[0]"
   ]
  },
  {
   "cell_type": "code",
   "execution_count": 18,
   "metadata": {},
   "outputs": [],
   "source": [
    "def sigmoid_derivative(a):\n",
    "    return a*(1-a)"
   ]
  },
  {
   "cell_type": "code",
   "execution_count": 19,
   "metadata": {},
   "outputs": [],
   "source": [
    "def weight_derivative(dz,a):\n",
    "    return torch.matmul(dz.transpose(0,1),a)"
   ]
  },
  {
   "cell_type": "code",
   "execution_count": 20,
   "metadata": {},
   "outputs": [],
   "source": [
    "def bias_derivative(dz):\n",
    "    return dz.sum(0)"
   ]
  },
  {
   "cell_type": "code",
   "execution_count": 21,
   "metadata": {},
   "outputs": [],
   "source": [
    "def a_derivative(dz,W):\n",
    "    return torch.matmul(dz,W)"
   ]
  },
  {
   "cell_type": "code",
   "execution_count": 22,
   "metadata": {},
   "outputs": [],
   "source": [
    "def z_derivative(da,act_derv):\n",
    "    return da*act_derv"
   ]
  },
  {
   "cell_type": "markdown",
   "metadata": {},
   "source": [
    "## TRAIN"
   ]
  },
  {
   "cell_type": "code",
   "execution_count": 23,
   "metadata": {},
   "outputs": [],
   "source": [
    "input_units = 784\n",
    "hidden_units = 50\n",
    "output_units = 10\n",
    "\n",
    "\n",
    "W1 = torch.FloatTensor(hidden_units,input_units).uniform_(-1/np.sqrt(input_units),1/np.sqrt(input_units))\n",
    "b1 = torch.FloatTensor(hidden_units).uniform_(-1/np.sqrt(input_units),1/np.sqrt(input_units))\n",
    "W2 = torch.FloatTensor(output_units,hidden_units).uniform_(-1/np.sqrt(hidden_units),1/np.sqrt(hidden_units))\n",
    "b2 = torch.FloatTensor(output_units).uniform_(-1/np.sqrt(hidden_units),1/np.sqrt(hidden_units))"
   ]
  },
  {
   "cell_type": "code",
   "execution_count": 24,
   "metadata": {},
   "outputs": [],
   "source": [
    "lr=0.1"
   ]
  },
  {
   "cell_type": "markdown",
   "metadata": {},
   "source": [
    "## 2 - layer NN"
   ]
  },
  {
   "cell_type": "code",
   "execution_count": 25,
   "metadata": {},
   "outputs": [],
   "source": [
    "X = torch.FloatTensor(x)"
   ]
  },
  {
   "cell_type": "code",
   "execution_count": 26,
   "metadata": {},
   "outputs": [
    {
     "name": "stdout",
     "output_type": "stream",
     "text": [
      "epoch 1: tensor(0.9448)\n"
     ]
    }
   ],
   "source": [
    "for epoch in range(1):\n",
    "    total_loss=0.0\n",
    "    itr=0\n",
    "    for i in range(0,len(X),256):\n",
    "        xb = X[i:i+256]\n",
    "        yb = y[i:i+256]\n",
    "        \n",
    "        z1 = linear(xb,W1,b1)\n",
    "        a1 = sigmoid(z1)\n",
    "        z2 = linear(a1,W2,b2)\n",
    "\n",
    "        loss = cross_entropy_loss(z2,yb)\n",
    "        \n",
    "        dz2 = cross_entropy_derivative(z2,yb)\n",
    "        dw2 = weight_derivative(dz2,a1)\n",
    "        db2 = bias_derivative(dz2)\n",
    "        da1 = a_derivative(dz2,W2)\n",
    "\n",
    "        dz1 = z_derivative(da1,sigmoid_derivative(a1))\n",
    "        dw1 = weight_derivative(dz1,xb)\n",
    "        db1 = bias_derivative(dz1)\n",
    "\n",
    "        W1 -= lr*dw1\n",
    "        W2 -= lr*dw2\n",
    "        b1 -= lr*db1\n",
    "        b2 -= lr*db2\n",
    "        total_loss+=loss\n",
    "        itr+=1\n",
    "    print(\"epoch 1:\",total_loss/itr)"
   ]
  },
  {
   "cell_type": "markdown",
   "metadata": {},
   "source": [
    "## TEST"
   ]
  },
  {
   "cell_type": "code",
   "execution_count": 27,
   "metadata": {},
   "outputs": [],
   "source": [
    "test = pd.read_csv('C:/Users/sappusamy/Documents/SriWK/mnist/test.csv')"
   ]
  },
  {
   "cell_type": "code",
   "execution_count": 28,
   "metadata": {},
   "outputs": [],
   "source": [
    "x_test = test.to_numpy()"
   ]
  },
  {
   "cell_type": "code",
   "execution_count": 33,
   "metadata": {},
   "outputs": [
    {
     "data": {
      "image/png": "[encoded data removed]",
      "text/plain": [
       "<Figure size 432x288 with 2 Axes>"
      ]
     },
     "metadata": {
      "needs_background": "light"
     },
     "output_type": "display_data"
    }
   ],
   "source": [
    "index_num = 90\n",
    "\n",
    "plt.figure()\n",
    "plt.imshow(x_test[index_num].reshape(28,28))\n",
    "plt.colorbar()\n",
    "plt.grid(False)\n",
    "plt.show()"
   ]
  },
  {
   "cell_type": "code",
   "execution_count": 34,
   "metadata": {},
   "outputs": [
    {
     "data": {
      "text/plain": [
       "tensor(2)"
      ]
     },
     "execution_count": 34,
     "metadata": {},
     "output_type": "execute_result"
    }
   ],
   "source": [
    "inp = torch.FloatTensor(x_test[index_num]).view(1,-1)\n",
    "z1 = linear(inp,W1,b1)\n",
    "a1 = sigmoid(z1)\n",
    "z2 = linear(a1,W2,b2)\n",
    "\n",
    "softmax(z2).argmax()"
   ]
  },
  {
   "cell_type": "markdown",
   "metadata": {},
   "source": [
    "## 3 - layer NN"
   ]
  },
  {
   "cell_type": "code",
   "execution_count": 35,
   "metadata": {},
   "outputs": [],
   "source": [
    "input_units = 784\n",
    "hidden_units_1 = 200\n",
    "hidden_units_2 = 50\n",
    "output_units = 10\n",
    "\n",
    "\n",
    "W1 = torch.FloatTensor(hidden_units_1,input_units).uniform_(-1/np.sqrt(input_units),1/np.sqrt(input_units))\n",
    "b1 = torch.FloatTensor(hidden_units_1).uniform_(-1/np.sqrt(input_units),1/np.sqrt(input_units))\n",
    "\n",
    "W2 = torch.FloatTensor(hidden_units_2,hidden_units_1).uniform_(-1/np.sqrt(hidden_units_1),1/np.sqrt(hidden_units_1))\n",
    "b2 = torch.FloatTensor(hidden_units_2).uniform_(-1/np.sqrt(hidden_units_1),1/np.sqrt(hidden_units_1))\n",
    "\n",
    "W3 = torch.FloatTensor(output_units,hidden_units_2).uniform_(-1/np.sqrt(hidden_units_2),1/np.sqrt(hidden_units_2))\n",
    "b3 = torch.FloatTensor(output_units).uniform_(-1/np.sqrt(hidden_units),1/np.sqrt(hidden_units_2))"
   ]
  },
  {
   "cell_type": "code",
   "execution_count": 36,
   "metadata": {},
   "outputs": [],
   "source": [
    "lr = 0.1"
   ]
  },
  {
   "cell_type": "code",
   "execution_count": 37,
   "metadata": {},
   "outputs": [
    {
     "name": "stdout",
     "output_type": "stream",
     "text": [
      "epoch 1: tensor(1.6762)\n"
     ]
    }
   ],
   "source": [
    "for epoch in range(1):\n",
    "    total_loss=0.0\n",
    "    itr=0\n",
    "    for i in range(0,len(X),256):\n",
    "        xb = X[i:i+256]\n",
    "        yb = y[i:i+256]\n",
    "        \n",
    "        z1 = linear(xb,W1,b1)\n",
    "        a1 = sigmoid(z1)\n",
    "        z2 = linear(a1,W2,b2)\n",
    "        a2 = sigmoid(z2)\n",
    "        z3 = linear(a2,W3,b3)\n",
    "\n",
    "        loss = cross_entropy_loss(z3,yb)\n",
    "        \n",
    "        dz3 = cross_entropy_derivative(z3,yb)\n",
    "        dw3 = weight_derivative(dz3,a2)\n",
    "        db3 = bias_derivative(dz3)\n",
    "        da2 = a_derivative(dz3,W3)\n",
    "\n",
    "        dz2 = z_derivative(da2,sigmoid_derivative(a2))\n",
    "        dw2 = weight_derivative(dz2,a1)\n",
    "        db2 = bias_derivative(dz2)\n",
    "        da1 = a_derivative(dz2,W2)\n",
    "        \n",
    "        dz1 = z_derivative(da1,sigmoid_derivative(a1))\n",
    "        dw1 = weight_derivative(dz1,xb)\n",
    "        db1 = bias_derivative(dz1)\n",
    "        \n",
    "        W1 -= lr*dw1\n",
    "        W2 -= lr*dw2\n",
    "        W3 -= lr*dw3\n",
    "        b1 -= lr*db1\n",
    "        b2 -= lr*db2\n",
    "        b3 -= lr*db3\n",
    "        total_loss+=loss\n",
    "        itr+=1\n",
    "    print(\"epoch 1:\",total_loss/itr)"
   ]
  },
  {
   "cell_type": "markdown",
   "metadata": {},
   "source": [
    "## TEST"
   ]
  },
  {
   "cell_type": "code",
   "execution_count": 38,
   "metadata": {},
   "outputs": [],
   "source": [
    "test = pd.read_csv('C:/Users/sappusamy/Documents/SriWK/mnist/test.csv')"
   ]
  },
  {
   "cell_type": "code",
   "execution_count": 39,
   "metadata": {},
   "outputs": [],
   "source": [
    "x_test = test.to_numpy()"
   ]
  },
  {
   "cell_type": "code",
   "execution_count": 42,
   "metadata": {},
   "outputs": [
    {
     "data": {
      "image/png": "[encoded data removed]",
      "text/plain": [
       "<Figure size 432x288 with 2 Axes>"
      ]
     },
     "metadata": {
      "needs_background": "light"
     },
     "output_type": "display_data"
    }
   ],
   "source": [
    "index_num = 9234\n",
    "plt.figure()\n",
    "plt.imshow(x_test[index_num].reshape(28,28))\n",
    "plt.colorbar()\n",
    "plt.grid(False)\n",
    "plt.show()"
   ]
  },
  {
   "cell_type": "code",
   "execution_count": 43,
   "metadata": {},
   "outputs": [
    {
     "data": {
      "text/plain": [
       "tensor(0)"
      ]
     },
     "execution_count": 43,
     "metadata": {},
     "output_type": "execute_result"
    }
   ],
   "source": [
    "inp = torch.FloatTensor(x_test[index_num]).view(1,-1)\n",
    "z1 = linear(inp,W1,b1)\n",
    "a1 = sigmoid(z1)\n",
    "z2 = linear(a1,W2,b2)\n",
    "a2 = sigmoid(z2)\n",
    "z3 = linear(a2,W3,b3)\n",
    "\n",
    "softmax(z3).argmax()"
   ]
  },
  {
   "cell_type": "code",
   "execution_count": null,
   "metadata": {},
   "outputs": [],
   "source": []
  }
 ],
 "metadata": {
  "kernelspec": {
   "display_name": "Python 3",
   "language": "python",
   "name": "python3"
  },
  "language_info": {
   "codemirror_mode": {
    "name": "ipython",
    "version": 3
   },
   "file_extension": ".py",
   "mimetype": "text/x-python",
   "name": "python",
   "nbconvert_exporter": "python",
   "pygments_lexer": "ipython3",
   "version": "3.7.3"
  }
 },
 "nbformat": 4,
 "nbformat_minor": 2
}
