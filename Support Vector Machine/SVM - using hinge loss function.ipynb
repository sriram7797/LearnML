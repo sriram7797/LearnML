{
 "cells": [
  {
   "cell_type": "code",
   "execution_count": 1,
   "id": "b44fda86",
   "metadata": {},
   "outputs": [],
   "source": [
    "import numpy as np\n",
    "import pandas as pd\n",
    "from sklearn.preprocessing import MinMaxScaler"
   ]
  },
  {
   "cell_type": "code",
   "execution_count": 2,
   "id": "0dce3916",
   "metadata": {},
   "outputs": [],
   "source": [
    "# data source link:\n",
    "# https://www.kaggle.com/datasets/uciml/breast-cancer-wisconsin-data?resource=download\n",
    "data = pd.read_csv(\"data/archive/data.csv\")"
   ]
  },
  {
   "cell_type": "code",
   "execution_count": 3,
   "id": "37d42f6e",
   "metadata": {},
   "outputs": [
    {
     "data": {
      "text/html": [
       "<div>\n",
       "<style scoped>\n",
       "    .dataframe tbody tr th:only-of-type {\n",
       "        vertical-align: middle;\n",
       "    }\n",
       "\n",
       "    .dataframe tbody tr th {\n",
       "        vertical-align: top;\n",
       "    }\n",
       "\n",
       "    .dataframe thead th {\n",
       "        text-align: right;\n",
       "    }\n",
       "</style>\n",
       "<table border=\"1\" class=\"dataframe\">\n",
       "  <thead>\n",
       "    <tr style=\"text-align: right;\">\n",
       "      <th></th>\n",
       "      <th>id</th>\n",
       "      <th>diagnosis</th>\n",
       "      <th>radius_mean</th>\n",
       "      <th>texture_mean</th>\n",
       "      <th>perimeter_mean</th>\n",
       "      <th>area_mean</th>\n",
       "      <th>smoothness_mean</th>\n",
       "      <th>compactness_mean</th>\n",
       "      <th>concavity_mean</th>\n",
       "      <th>concave points_mean</th>\n",
       "      <th>...</th>\n",
       "      <th>texture_worst</th>\n",
       "      <th>perimeter_worst</th>\n",
       "      <th>area_worst</th>\n",
       "      <th>smoothness_worst</th>\n",
       "      <th>compactness_worst</th>\n",
       "      <th>concavity_worst</th>\n",
       "      <th>concave points_worst</th>\n",
       "      <th>symmetry_worst</th>\n",
       "      <th>fractal_dimension_worst</th>\n",
       "      <th>Unnamed: 32</th>\n",
       "    </tr>\n",
       "  </thead>\n",
       "  <tbody>\n",
       "    <tr>\n",
       "      <th>0</th>\n",
       "      <td>842302</td>\n",
       "      <td>M</td>\n",
       "      <td>17.99</td>\n",
       "      <td>10.38</td>\n",
       "      <td>122.80</td>\n",
       "      <td>1001.0</td>\n",
       "      <td>0.11840</td>\n",
       "      <td>0.27760</td>\n",
       "      <td>0.3001</td>\n",
       "      <td>0.14710</td>\n",
       "      <td>...</td>\n",
       "      <td>17.33</td>\n",
       "      <td>184.60</td>\n",
       "      <td>2019.0</td>\n",
       "      <td>0.1622</td>\n",
       "      <td>0.6656</td>\n",
       "      <td>0.7119</td>\n",
       "      <td>0.2654</td>\n",
       "      <td>0.4601</td>\n",
       "      <td>0.11890</td>\n",
       "      <td>NaN</td>\n",
       "    </tr>\n",
       "    <tr>\n",
       "      <th>1</th>\n",
       "      <td>842517</td>\n",
       "      <td>M</td>\n",
       "      <td>20.57</td>\n",
       "      <td>17.77</td>\n",
       "      <td>132.90</td>\n",
       "      <td>1326.0</td>\n",
       "      <td>0.08474</td>\n",
       "      <td>0.07864</td>\n",
       "      <td>0.0869</td>\n",
       "      <td>0.07017</td>\n",
       "      <td>...</td>\n",
       "      <td>23.41</td>\n",
       "      <td>158.80</td>\n",
       "      <td>1956.0</td>\n",
       "      <td>0.1238</td>\n",
       "      <td>0.1866</td>\n",
       "      <td>0.2416</td>\n",
       "      <td>0.1860</td>\n",
       "      <td>0.2750</td>\n",
       "      <td>0.08902</td>\n",
       "      <td>NaN</td>\n",
       "    </tr>\n",
       "    <tr>\n",
       "      <th>2</th>\n",
       "      <td>84300903</td>\n",
       "      <td>M</td>\n",
       "      <td>19.69</td>\n",
       "      <td>21.25</td>\n",
       "      <td>130.00</td>\n",
       "      <td>1203.0</td>\n",
       "      <td>0.10960</td>\n",
       "      <td>0.15990</td>\n",
       "      <td>0.1974</td>\n",
       "      <td>0.12790</td>\n",
       "      <td>...</td>\n",
       "      <td>25.53</td>\n",
       "      <td>152.50</td>\n",
       "      <td>1709.0</td>\n",
       "      <td>0.1444</td>\n",
       "      <td>0.4245</td>\n",
       "      <td>0.4504</td>\n",
       "      <td>0.2430</td>\n",
       "      <td>0.3613</td>\n",
       "      <td>0.08758</td>\n",
       "      <td>NaN</td>\n",
       "    </tr>\n",
       "    <tr>\n",
       "      <th>3</th>\n",
       "      <td>84348301</td>\n",
       "      <td>M</td>\n",
       "      <td>11.42</td>\n",
       "      <td>20.38</td>\n",
       "      <td>77.58</td>\n",
       "      <td>386.1</td>\n",
       "      <td>0.14250</td>\n",
       "      <td>0.28390</td>\n",
       "      <td>0.2414</td>\n",
       "      <td>0.10520</td>\n",
       "      <td>...</td>\n",
       "      <td>26.50</td>\n",
       "      <td>98.87</td>\n",
       "      <td>567.7</td>\n",
       "      <td>0.2098</td>\n",
       "      <td>0.8663</td>\n",
       "      <td>0.6869</td>\n",
       "      <td>0.2575</td>\n",
       "      <td>0.6638</td>\n",
       "      <td>0.17300</td>\n",
       "      <td>NaN</td>\n",
       "    </tr>\n",
       "    <tr>\n",
       "      <th>4</th>\n",
       "      <td>84358402</td>\n",
       "      <td>M</td>\n",
       "      <td>20.29</td>\n",
       "      <td>14.34</td>\n",
       "      <td>135.10</td>\n",
       "      <td>1297.0</td>\n",
       "      <td>0.10030</td>\n",
       "      <td>0.13280</td>\n",
       "      <td>0.1980</td>\n",
       "      <td>0.10430</td>\n",
       "      <td>...</td>\n",
       "      <td>16.67</td>\n",
       "      <td>152.20</td>\n",
       "      <td>1575.0</td>\n",
       "      <td>0.1374</td>\n",
       "      <td>0.2050</td>\n",
       "      <td>0.4000</td>\n",
       "      <td>0.1625</td>\n",
       "      <td>0.2364</td>\n",
       "      <td>0.07678</td>\n",
       "      <td>NaN</td>\n",
       "    </tr>\n",
       "  </tbody>\n",
       "</table>\n",
       "<p>5 rows × 33 columns</p>\n",
       "</div>"
      ],
      "text/plain": [
       "         id diagnosis  radius_mean  texture_mean  perimeter_mean  area_mean  \\\n",
       "0    842302         M        17.99         10.38          122.80     1001.0   \n",
       "1    842517         M        20.57         17.77          132.90     1326.0   \n",
       "2  84300903         M        19.69         21.25          130.00     1203.0   \n",
       "3  84348301         M        11.42         20.38           77.58      386.1   \n",
       "4  84358402         M        20.29         14.34          135.10     1297.0   \n",
       "\n",
       "   smoothness_mean  compactness_mean  concavity_mean  concave points_mean  \\\n",
       "0          0.11840           0.27760          0.3001              0.14710   \n",
       "1          0.08474           0.07864          0.0869              0.07017   \n",
       "2          0.10960           0.15990          0.1974              0.12790   \n",
       "3          0.14250           0.28390          0.2414              0.10520   \n",
       "4          0.10030           0.13280          0.1980              0.10430   \n",
       "\n",
       "   ...  texture_worst  perimeter_worst  area_worst  smoothness_worst  \\\n",
       "0  ...          17.33           184.60      2019.0            0.1622   \n",
       "1  ...          23.41           158.80      1956.0            0.1238   \n",
       "2  ...          25.53           152.50      1709.0            0.1444   \n",
       "3  ...          26.50            98.87       567.7            0.2098   \n",
       "4  ...          16.67           152.20      1575.0            0.1374   \n",
       "\n",
       "   compactness_worst  concavity_worst  concave points_worst  symmetry_worst  \\\n",
       "0             0.6656           0.7119                0.2654          0.4601   \n",
       "1             0.1866           0.2416                0.1860          0.2750   \n",
       "2             0.4245           0.4504                0.2430          0.3613   \n",
       "3             0.8663           0.6869                0.2575          0.6638   \n",
       "4             0.2050           0.4000                0.1625          0.2364   \n",
       "\n",
       "   fractal_dimension_worst  Unnamed: 32  \n",
       "0                  0.11890          NaN  \n",
       "1                  0.08902          NaN  \n",
       "2                  0.08758          NaN  \n",
       "3                  0.17300          NaN  \n",
       "4                  0.07678          NaN  \n",
       "\n",
       "[5 rows x 33 columns]"
      ]
     },
     "execution_count": 3,
     "metadata": {},
     "output_type": "execute_result"
    }
   ],
   "source": [
    "data.head()"
   ]
  },
  {
   "cell_type": "code",
   "execution_count": 4,
   "id": "ac245b08",
   "metadata": {},
   "outputs": [],
   "source": [
    "diagnosis_map = {'M':1, 'B':-1}"
   ]
  },
  {
   "cell_type": "code",
   "execution_count": 5,
   "id": "3100481e",
   "metadata": {},
   "outputs": [],
   "source": [
    "data['diagnosis'] = data['diagnosis'].map(diagnosis_map)"
   ]
  },
  {
   "cell_type": "code",
   "execution_count": 6,
   "id": "e584f058",
   "metadata": {},
   "outputs": [],
   "source": [
    "data.drop(data.columns[[-1, 0]], axis=1, inplace=True)"
   ]
  },
  {
   "cell_type": "code",
   "execution_count": 7,
   "id": "f6d86bf8",
   "metadata": {},
   "outputs": [
    {
     "data": {
      "text/html": [
       "<div>\n",
       "<style scoped>\n",
       "    .dataframe tbody tr th:only-of-type {\n",
       "        vertical-align: middle;\n",
       "    }\n",
       "\n",
       "    .dataframe tbody tr th {\n",
       "        vertical-align: top;\n",
       "    }\n",
       "\n",
       "    .dataframe thead th {\n",
       "        text-align: right;\n",
       "    }\n",
       "</style>\n",
       "<table border=\"1\" class=\"dataframe\">\n",
       "  <thead>\n",
       "    <tr style=\"text-align: right;\">\n",
       "      <th></th>\n",
       "      <th>diagnosis</th>\n",
       "      <th>radius_mean</th>\n",
       "      <th>texture_mean</th>\n",
       "      <th>perimeter_mean</th>\n",
       "      <th>area_mean</th>\n",
       "      <th>smoothness_mean</th>\n",
       "      <th>compactness_mean</th>\n",
       "      <th>concavity_mean</th>\n",
       "      <th>concave points_mean</th>\n",
       "      <th>symmetry_mean</th>\n",
       "      <th>...</th>\n",
       "      <th>radius_worst</th>\n",
       "      <th>texture_worst</th>\n",
       "      <th>perimeter_worst</th>\n",
       "      <th>area_worst</th>\n",
       "      <th>smoothness_worst</th>\n",
       "      <th>compactness_worst</th>\n",
       "      <th>concavity_worst</th>\n",
       "      <th>concave points_worst</th>\n",
       "      <th>symmetry_worst</th>\n",
       "      <th>fractal_dimension_worst</th>\n",
       "    </tr>\n",
       "  </thead>\n",
       "  <tbody>\n",
       "    <tr>\n",
       "      <th>0</th>\n",
       "      <td>1</td>\n",
       "      <td>17.99</td>\n",
       "      <td>10.38</td>\n",
       "      <td>122.80</td>\n",
       "      <td>1001.0</td>\n",
       "      <td>0.11840</td>\n",
       "      <td>0.27760</td>\n",
       "      <td>0.3001</td>\n",
       "      <td>0.14710</td>\n",
       "      <td>0.2419</td>\n",
       "      <td>...</td>\n",
       "      <td>25.38</td>\n",
       "      <td>17.33</td>\n",
       "      <td>184.60</td>\n",
       "      <td>2019.0</td>\n",
       "      <td>0.1622</td>\n",
       "      <td>0.6656</td>\n",
       "      <td>0.7119</td>\n",
       "      <td>0.2654</td>\n",
       "      <td>0.4601</td>\n",
       "      <td>0.11890</td>\n",
       "    </tr>\n",
       "    <tr>\n",
       "      <th>1</th>\n",
       "      <td>1</td>\n",
       "      <td>20.57</td>\n",
       "      <td>17.77</td>\n",
       "      <td>132.90</td>\n",
       "      <td>1326.0</td>\n",
       "      <td>0.08474</td>\n",
       "      <td>0.07864</td>\n",
       "      <td>0.0869</td>\n",
       "      <td>0.07017</td>\n",
       "      <td>0.1812</td>\n",
       "      <td>...</td>\n",
       "      <td>24.99</td>\n",
       "      <td>23.41</td>\n",
       "      <td>158.80</td>\n",
       "      <td>1956.0</td>\n",
       "      <td>0.1238</td>\n",
       "      <td>0.1866</td>\n",
       "      <td>0.2416</td>\n",
       "      <td>0.1860</td>\n",
       "      <td>0.2750</td>\n",
       "      <td>0.08902</td>\n",
       "    </tr>\n",
       "    <tr>\n",
       "      <th>2</th>\n",
       "      <td>1</td>\n",
       "      <td>19.69</td>\n",
       "      <td>21.25</td>\n",
       "      <td>130.00</td>\n",
       "      <td>1203.0</td>\n",
       "      <td>0.10960</td>\n",
       "      <td>0.15990</td>\n",
       "      <td>0.1974</td>\n",
       "      <td>0.12790</td>\n",
       "      <td>0.2069</td>\n",
       "      <td>...</td>\n",
       "      <td>23.57</td>\n",
       "      <td>25.53</td>\n",
       "      <td>152.50</td>\n",
       "      <td>1709.0</td>\n",
       "      <td>0.1444</td>\n",
       "      <td>0.4245</td>\n",
       "      <td>0.4504</td>\n",
       "      <td>0.2430</td>\n",
       "      <td>0.3613</td>\n",
       "      <td>0.08758</td>\n",
       "    </tr>\n",
       "    <tr>\n",
       "      <th>3</th>\n",
       "      <td>1</td>\n",
       "      <td>11.42</td>\n",
       "      <td>20.38</td>\n",
       "      <td>77.58</td>\n",
       "      <td>386.1</td>\n",
       "      <td>0.14250</td>\n",
       "      <td>0.28390</td>\n",
       "      <td>0.2414</td>\n",
       "      <td>0.10520</td>\n",
       "      <td>0.2597</td>\n",
       "      <td>...</td>\n",
       "      <td>14.91</td>\n",
       "      <td>26.50</td>\n",
       "      <td>98.87</td>\n",
       "      <td>567.7</td>\n",
       "      <td>0.2098</td>\n",
       "      <td>0.8663</td>\n",
       "      <td>0.6869</td>\n",
       "      <td>0.2575</td>\n",
       "      <td>0.6638</td>\n",
       "      <td>0.17300</td>\n",
       "    </tr>\n",
       "    <tr>\n",
       "      <th>4</th>\n",
       "      <td>1</td>\n",
       "      <td>20.29</td>\n",
       "      <td>14.34</td>\n",
       "      <td>135.10</td>\n",
       "      <td>1297.0</td>\n",
       "      <td>0.10030</td>\n",
       "      <td>0.13280</td>\n",
       "      <td>0.1980</td>\n",
       "      <td>0.10430</td>\n",
       "      <td>0.1809</td>\n",
       "      <td>...</td>\n",
       "      <td>22.54</td>\n",
       "      <td>16.67</td>\n",
       "      <td>152.20</td>\n",
       "      <td>1575.0</td>\n",
       "      <td>0.1374</td>\n",
       "      <td>0.2050</td>\n",
       "      <td>0.4000</td>\n",
       "      <td>0.1625</td>\n",
       "      <td>0.2364</td>\n",
       "      <td>0.07678</td>\n",
       "    </tr>\n",
       "  </tbody>\n",
       "</table>\n",
       "<p>5 rows × 31 columns</p>\n",
       "</div>"
      ],
      "text/plain": [
       "   diagnosis  radius_mean  texture_mean  perimeter_mean  area_mean  \\\n",
       "0          1        17.99         10.38          122.80     1001.0   \n",
       "1          1        20.57         17.77          132.90     1326.0   \n",
       "2          1        19.69         21.25          130.00     1203.0   \n",
       "3          1        11.42         20.38           77.58      386.1   \n",
       "4          1        20.29         14.34          135.10     1297.0   \n",
       "\n",
       "   smoothness_mean  compactness_mean  concavity_mean  concave points_mean  \\\n",
       "0          0.11840           0.27760          0.3001              0.14710   \n",
       "1          0.08474           0.07864          0.0869              0.07017   \n",
       "2          0.10960           0.15990          0.1974              0.12790   \n",
       "3          0.14250           0.28390          0.2414              0.10520   \n",
       "4          0.10030           0.13280          0.1980              0.10430   \n",
       "\n",
       "   symmetry_mean  ...  radius_worst  texture_worst  perimeter_worst  \\\n",
       "0         0.2419  ...         25.38          17.33           184.60   \n",
       "1         0.1812  ...         24.99          23.41           158.80   \n",
       "2         0.2069  ...         23.57          25.53           152.50   \n",
       "3         0.2597  ...         14.91          26.50            98.87   \n",
       "4         0.1809  ...         22.54          16.67           152.20   \n",
       "\n",
       "   area_worst  smoothness_worst  compactness_worst  concavity_worst  \\\n",
       "0      2019.0            0.1622             0.6656           0.7119   \n",
       "1      1956.0            0.1238             0.1866           0.2416   \n",
       "2      1709.0            0.1444             0.4245           0.4504   \n",
       "3       567.7            0.2098             0.8663           0.6869   \n",
       "4      1575.0            0.1374             0.2050           0.4000   \n",
       "\n",
       "   concave points_worst  symmetry_worst  fractal_dimension_worst  \n",
       "0                0.2654          0.4601                  0.11890  \n",
       "1                0.1860          0.2750                  0.08902  \n",
       "2                0.2430          0.3613                  0.08758  \n",
       "3                0.2575          0.6638                  0.17300  \n",
       "4                0.1625          0.2364                  0.07678  \n",
       "\n",
       "[5 rows x 31 columns]"
      ]
     },
     "execution_count": 7,
     "metadata": {},
     "output_type": "execute_result"
    }
   ],
   "source": [
    "data.head()"
   ]
  },
  {
   "cell_type": "code",
   "execution_count": 8,
   "id": "e3fcbbdf",
   "metadata": {},
   "outputs": [],
   "source": [
    "Y = data.loc[:, 'diagnosis']"
   ]
  },
  {
   "cell_type": "code",
   "execution_count": 9,
   "id": "e8de9cff",
   "metadata": {},
   "outputs": [],
   "source": [
    "X = data.iloc[:, 1:] "
   ]
  },
  {
   "cell_type": "code",
   "execution_count": 10,
   "id": "d37d0258",
   "metadata": {},
   "outputs": [],
   "source": [
    "X_normalized = MinMaxScaler().fit_transform(X.values)"
   ]
  },
  {
   "cell_type": "code",
   "execution_count": 11,
   "id": "0ff6c78f",
   "metadata": {},
   "outputs": [],
   "source": [
    "X = pd.DataFrame(X_normalized)"
   ]
  },
  {
   "cell_type": "code",
   "execution_count": 12,
   "id": "0b6bac9d",
   "metadata": {},
   "outputs": [],
   "source": [
    "from sklearn.model_selection import train_test_split as tts"
   ]
  },
  {
   "cell_type": "code",
   "execution_count": 13,
   "id": "3bd9a13e",
   "metadata": {},
   "outputs": [],
   "source": [
    "X_train, X_test, y_train, y_test = tts(X, Y, test_size=0.2, random_state=42)"
   ]
  },
  {
   "cell_type": "code",
   "execution_count": 14,
   "id": "1dae8c14",
   "metadata": {},
   "outputs": [
    {
     "data": {
      "text/plain": [
       "(455, 30)"
      ]
     },
     "execution_count": 14,
     "metadata": {},
     "output_type": "execute_result"
    }
   ],
   "source": [
    "X_train.shape"
   ]
  },
  {
   "cell_type": "code",
   "execution_count": 15,
   "id": "35de9307",
   "metadata": {},
   "outputs": [],
   "source": [
    "def compute_cost(reg_strength, yi,z, w):\n",
    "    N = z.shape[0]\n",
    "    \n",
    "    hinge_loss = reg_strength * np.maximum(0, 1 - yi*z).sum() / N\n",
    "    cost = 0.5*np.dot(w,w) + hinge_loss\n",
    "    return cost"
   ]
  },
  {
   "cell_type": "code",
   "execution_count": 16,
   "id": "7ff30a96",
   "metadata": {},
   "outputs": [],
   "source": [
    "def svm(x,w,b):\n",
    "    z = np.dot(x,w) + b\n",
    "    return z"
   ]
  },
  {
   "cell_type": "code",
   "execution_count": 17,
   "id": "4b3f33d1",
   "metadata": {},
   "outputs": [],
   "source": [
    "def compute_gradient(x, yi, z, w, b, reg_strength):\n",
    "    \n",
    "    dw = np.zeros(x.shape)\n",
    "    \n",
    "    db = np.zeros(x.shape[0])\n",
    "    \n",
    "    loss_zero_indices = np.where(np.maximum(0, 1 - yi*z)==0)[0]\n",
    "    loss_non_zero_indices = np.where(np.maximum(0, 1 - yi*z)!=0)[0]\n",
    "    \n",
    "    dw[loss_zero_indices] = w\n",
    "    \n",
    "    dw[loss_non_zero_indices] = w - x[loss_non_zero_indices]*yi[loss_non_zero_indices].reshape(-1,1)*reg_strength\n",
    "    \n",
    "    dw = dw.mean(0)\n",
    "    \n",
    "    db[loss_non_zero_indices] = -reg_strength*yi[loss_non_zero_indices]\n",
    "    \n",
    "    db = db.mean(0)\n",
    "    \n",
    "    return dw,db"
   ]
  },
  {
   "cell_type": "code",
   "execution_count": 18,
   "id": "16282db6",
   "metadata": {},
   "outputs": [],
   "source": [
    "def train_loop(X_train,y_train,reg_strength=10000,lr=0.000001,epochs=5000):\n",
    "    weights = np.zeros(X_train.shape[1])\n",
    "    bias = np.ones(1)\n",
    "        \n",
    "    for epoch in range(epochs):\n",
    "        \n",
    "        for i in range(0,len(X_train),32):\n",
    "            x_batch = X_train[i:i+32]\n",
    "            y_batch = y_train[i:i+32]\n",
    "            z = svm(x_batch,weights,bias)\n",
    "            cost = compute_cost(reg_strength,y_batch, z, weights)\n",
    "            dw,db = compute_gradient(x_batch,y_batch,z,weights, bias, reg_strength)\n",
    "        \n",
    "        if (epoch+1)%500==0:\n",
    "            \n",
    "            print(f\"epoch = {epoch+1}, cost = {cost}\")\n",
    "        weights = weights - lr*dw\n",
    "        bias = bias - lr*db\n",
    "        \n",
    "    return weights,bias"
   ]
  },
  {
   "cell_type": "code",
   "execution_count": 19,
   "id": "599baf02",
   "metadata": {},
   "outputs": [
    {
     "name": "stdout",
     "output_type": "stream",
     "text": [
      "epoch = 500, cost = 5820.993581594298\n",
      "epoch = 1000, cost = 4125.597237467136\n",
      "epoch = 1500, cost = 2752.177066261198\n",
      "epoch = 2000, cost = 1445.5004584346518\n",
      "epoch = 2500, cost = 1174.9147426783366\n",
      "epoch = 3000, cost = 940.0713880113185\n",
      "epoch = 3500, cost = 705.5165149262159\n",
      "epoch = 4000, cost = 471.49734362353\n",
      "epoch = 4500, cost = 237.33959738781363\n",
      "epoch = 5000, cost = 10.484544130960854\n"
     ]
    }
   ],
   "source": [
    "weights,bias = train_loop(X_train.to_numpy(),y_train.to_numpy())"
   ]
  },
  {
   "cell_type": "code",
   "execution_count": 21,
   "id": "281f0f3f",
   "metadata": {},
   "outputs": [
    {
     "data": {
      "text/plain": [
       "array([ 0.62507405, -0.31629701,  0.64196856,  0.69212837, -0.75902792,\n",
       "        0.09291731,  1.33596283,  1.77818117, -1.14630078, -0.61472096,\n",
       "        0.288543  , -0.86811997,  0.27218941,  0.35851856, -0.64145014,\n",
       "       -0.35831545, -0.06079913, -0.28273895, -0.51663309, -0.22248662,\n",
       "        1.12345877, -0.16117158,  1.14198226,  0.9324921 , -0.12263141,\n",
       "        0.50677264,  0.96349698,  2.1439409 , -0.10614843,  0.62026399])"
      ]
     },
     "execution_count": 21,
     "metadata": {},
     "output_type": "execute_result"
    }
   ],
   "source": [
    "weights"
   ]
  },
  {
   "cell_type": "markdown",
   "id": "98efa3e6",
   "metadata": {},
   "source": [
    "### Training data metrics"
   ]
  },
  {
   "cell_type": "code",
   "execution_count": 22,
   "id": "9200784e",
   "metadata": {},
   "outputs": [],
   "source": [
    "z = svm(X_train.to_numpy(),weights,bias)"
   ]
  },
  {
   "cell_type": "code",
   "execution_count": 23,
   "id": "f096886f",
   "metadata": {},
   "outputs": [],
   "source": [
    "z[z>=0] = 1"
   ]
  },
  {
   "cell_type": "code",
   "execution_count": 24,
   "id": "54756e6d",
   "metadata": {},
   "outputs": [],
   "source": [
    "z[z<0] = -1"
   ]
  },
  {
   "cell_type": "code",
   "execution_count": 25,
   "id": "d582470a",
   "metadata": {},
   "outputs": [],
   "source": [
    "diagnosis_reverse_map = { 1:'M',  -1:'B'}"
   ]
  },
  {
   "cell_type": "code",
   "execution_count": 26,
   "id": "26eebe8c",
   "metadata": {},
   "outputs": [],
   "source": [
    "predictions = pd.DataFrame(z)[0].map(diagnosis_reverse_map).to_numpy()"
   ]
  },
  {
   "cell_type": "code",
   "execution_count": 27,
   "id": "61553439",
   "metadata": {},
   "outputs": [],
   "source": [
    "y = y_train.map(diagnosis_reverse_map).to_numpy()"
   ]
  },
  {
   "cell_type": "code",
   "execution_count": 19,
   "id": "66d97580",
   "metadata": {},
   "outputs": [],
   "source": [
    "from collections import defaultdict\n",
    "def metrics_calculation(preds, y, labels):\n",
    "    \n",
    "    metrics = {}\n",
    "    for label in labels:\n",
    "        metrics[label] = defaultdict(int)\n",
    "        for p,a in zip(preds,y):\n",
    "            if p==label and a==label:\n",
    "                metrics[label][\"tp\"]+=1\n",
    "            if p==label and a!=label:\n",
    "                metrics[label][\"fp\"]+=1\n",
    "            if p!=label and a==label:\n",
    "                metrics[label][\"fn\"]+=1\n",
    "            if p!=label and a!=label:\n",
    "                metrics[label][\"tn\"]+=1\n",
    "                \n",
    "        \n",
    "        try:\n",
    "            metrics[label][\"precision\"] = metrics[label][\"tp\"]/(metrics[label][\"tp\"]+metrics[label][\"fp\"])\n",
    "        except:\n",
    "            metrics[label][\"precision\"] = 0\n",
    "        try:\n",
    "            metrics[label][\"recall\"] = metrics[label][\"tp\"]/(metrics[label][\"tp\"]+metrics[label][\"fn\"])\n",
    "        except:\n",
    "            metrics[label][\"recall\"] = 0\n",
    "        try:\n",
    "            metrics[label][\"f1-score\"] = 2*metrics[label][\"precision\"]*metrics[label][\"recall\"]/(metrics[label][\"precision\"]+metrics[label][\"recall\"])\n",
    "        except:\n",
    "            metrics[label][\"f1-score\"] = 0\n",
    "    \n",
    "    return metrics\n",
    "    "
   ]
  },
  {
   "cell_type": "code",
   "execution_count": 29,
   "id": "d9f70def",
   "metadata": {},
   "outputs": [
    {
     "data": {
      "text/plain": [
       "{'M': defaultdict(int,\n",
       "             {'tn': 258,\n",
       "              'tp': 158,\n",
       "              'fp': 28,\n",
       "              'fn': 11,\n",
       "              'precision': 0.8494623655913979,\n",
       "              'recall': 0.9349112426035503,\n",
       "              'f1-score': 0.8901408450704226}),\n",
       " 'B': defaultdict(int,\n",
       "             {'tp': 258,\n",
       "              'tn': 158,\n",
       "              'fn': 28,\n",
       "              'fp': 11,\n",
       "              'precision': 0.9591078066914498,\n",
       "              'recall': 0.9020979020979021,\n",
       "              'f1-score': 0.9297297297297297})}"
      ]
     },
     "execution_count": 29,
     "metadata": {},
     "output_type": "execute_result"
    }
   ],
   "source": [
    "metrics_calculation(predictions,y,[\"M\",\"B\"])"
   ]
  },
  {
   "cell_type": "code",
   "execution_count": null,
   "id": "e5a94fc9",
   "metadata": {},
   "outputs": [],
   "source": []
  },
  {
   "cell_type": "markdown",
   "id": "06ded409",
   "metadata": {},
   "source": [
    "### Test data metrics"
   ]
  },
  {
   "cell_type": "code",
   "execution_count": 30,
   "id": "352b9641",
   "metadata": {},
   "outputs": [],
   "source": [
    "z = svm(X_test.to_numpy(),weights,bias)"
   ]
  },
  {
   "cell_type": "code",
   "execution_count": 31,
   "id": "507c9794",
   "metadata": {},
   "outputs": [],
   "source": [
    "z[z>=0] = 1"
   ]
  },
  {
   "cell_type": "code",
   "execution_count": 32,
   "id": "011421b4",
   "metadata": {},
   "outputs": [],
   "source": [
    "z[z<0] = -1"
   ]
  },
  {
   "cell_type": "code",
   "execution_count": 33,
   "id": "9d562a5f",
   "metadata": {},
   "outputs": [],
   "source": [
    "predictions = pd.DataFrame(z)[0].map(diagnosis_reverse_map).to_numpy()"
   ]
  },
  {
   "cell_type": "code",
   "execution_count": 34,
   "id": "b398ace1",
   "metadata": {},
   "outputs": [],
   "source": [
    "yt = y_test.map(diagnosis_reverse_map).to_numpy()"
   ]
  },
  {
   "cell_type": "code",
   "execution_count": 35,
   "id": "235718a3",
   "metadata": {},
   "outputs": [
    {
     "data": {
      "text/plain": [
       "{'M': defaultdict(int,\n",
       "             {'tn': 68,\n",
       "              'tp': 42,\n",
       "              'fp': 3,\n",
       "              'fn': 1,\n",
       "              'precision': 0.9333333333333333,\n",
       "              'recall': 0.9767441860465116,\n",
       "              'f1-score': 0.9545454545454545}),\n",
       " 'B': defaultdict(int,\n",
       "             {'tp': 68,\n",
       "              'tn': 42,\n",
       "              'fn': 3,\n",
       "              'fp': 1,\n",
       "              'precision': 0.9855072463768116,\n",
       "              'recall': 0.9577464788732394,\n",
       "              'f1-score': 0.9714285714285714})}"
      ]
     },
     "execution_count": 35,
     "metadata": {},
     "output_type": "execute_result"
    }
   ],
   "source": [
    "metrics_calculation(predictions,yt,[\"M\",\"B\"])"
   ]
  },
  {
   "cell_type": "code",
   "execution_count": null,
   "id": "cf07ba21",
   "metadata": {},
   "outputs": [],
   "source": []
  },
  {
   "cell_type": "markdown",
   "id": "1c7e2854",
   "metadata": {},
   "source": [
    "### Guassian Kernel"
   ]
  },
  {
   "cell_type": "code",
   "execution_count": 20,
   "id": "62853576",
   "metadata": {},
   "outputs": [],
   "source": [
    "def euclidean_distance(x,y):\n",
    "    return np.sqrt(np.sum(np.square(x-y)))"
   ]
  },
  {
   "cell_type": "code",
   "execution_count": 21,
   "id": "1168bee8",
   "metadata": {},
   "outputs": [],
   "source": [
    "def guassian_kernel(x_batch,landmark,sigmoid=0.5):\n",
    "    \n",
    "    a = np.repeat(x_batch,landmark.shape[0],0).reshape(x_batch.shape[0],landmark.shape[0],landmark.shape[1])\n",
    "    b = x.reshape(1,landmark.shape[0],landmark.shape[1])\n",
    "\n",
    "    distance = np.sqrt(np.sum(np.square(a - b),-1))\n",
    "    \n",
    "    return np.exp(-np.square(distance)/(2*np.square(sigmoid)))\n",
    "    \n"
   ]
  },
  {
   "cell_type": "code",
   "execution_count": 22,
   "id": "6c4fd6c7",
   "metadata": {},
   "outputs": [],
   "source": [
    "x = X_train.to_numpy()"
   ]
  },
  {
   "cell_type": "code",
   "execution_count": 23,
   "id": "0f4160eb",
   "metadata": {},
   "outputs": [],
   "source": [
    "transformed_x = guassian_kernel(x,x)"
   ]
  },
  {
   "cell_type": "code",
   "execution_count": 24,
   "id": "32f41d9f",
   "metadata": {},
   "outputs": [
    {
     "name": "stdout",
     "output_type": "stream",
     "text": [
      "epoch = 500, cost = 0.6592643164843165\n",
      "epoch = 1000, cost = 0.6586053813608376\n",
      "epoch = 1500, cost = 0.6579471048434532\n",
      "epoch = 2000, cost = 0.6572894862738865\n",
      "epoch = 2500, cost = 0.6566325249945182\n",
      "epoch = 3000, cost = 0.6559762203483858\n",
      "epoch = 3500, cost = 0.6573703596518499\n",
      "epoch = 4000, cost = 0.6567133175394865\n",
      "epoch = 4500, cost = 0.6560569321411517\n",
      "epoch = 5000, cost = 0.6554012028004609\n"
     ]
    }
   ],
   "source": [
    "# weights,bias = train_loop(transformed_x,y_train.to_numpy(),reg_strength=10000,lr=1e-3,epochs=1000)\n",
    "weights,bias = train_loop(transformed_x,y_train.to_numpy())"
   ]
  },
  {
   "cell_type": "code",
   "execution_count": 25,
   "id": "54183b50",
   "metadata": {},
   "outputs": [
    {
     "data": {
      "text/plain": [
       "(455,)"
      ]
     },
     "execution_count": 25,
     "metadata": {},
     "output_type": "execute_result"
    }
   ],
   "source": [
    "weights.shape"
   ]
  },
  {
   "cell_type": "markdown",
   "id": "3afe49b0",
   "metadata": {},
   "source": [
    "### train data metrics"
   ]
  },
  {
   "cell_type": "code",
   "execution_count": 26,
   "id": "616282a0",
   "metadata": {},
   "outputs": [],
   "source": [
    "z = svm(transformed_x,weights,bias)"
   ]
  },
  {
   "cell_type": "code",
   "execution_count": 27,
   "id": "1fd7220c",
   "metadata": {},
   "outputs": [],
   "source": [
    "z[z>=0] = 1"
   ]
  },
  {
   "cell_type": "code",
   "execution_count": 28,
   "id": "3480d578",
   "metadata": {},
   "outputs": [],
   "source": [
    "z[z<0] = -1"
   ]
  },
  {
   "cell_type": "code",
   "execution_count": 31,
   "id": "d76f0a61",
   "metadata": {},
   "outputs": [],
   "source": [
    "diagnosis_reverse_map = { 1:'M',  -1:'B'}"
   ]
  },
  {
   "cell_type": "code",
   "execution_count": 32,
   "id": "b069b12e",
   "metadata": {},
   "outputs": [],
   "source": [
    "predictions = pd.DataFrame(z)[0].map(diagnosis_reverse_map).to_numpy()"
   ]
  },
  {
   "cell_type": "code",
   "execution_count": 33,
   "id": "6a88244e",
   "metadata": {},
   "outputs": [],
   "source": [
    "y = y_train.map(diagnosis_reverse_map).to_numpy()"
   ]
  },
  {
   "cell_type": "code",
   "execution_count": 34,
   "id": "a61b7b11",
   "metadata": {},
   "outputs": [
    {
     "data": {
      "text/plain": [
       "{'M': defaultdict(int,\n",
       "             {'fp': 6,\n",
       "              'tp': 149,\n",
       "              'tn': 280,\n",
       "              'fn': 20,\n",
       "              'precision': 0.9612903225806452,\n",
       "              'recall': 0.8816568047337278,\n",
       "              'f1-score': 0.9197530864197531}),\n",
       " 'B': defaultdict(int,\n",
       "             {'fn': 6,\n",
       "              'tn': 149,\n",
       "              'tp': 280,\n",
       "              'fp': 20,\n",
       "              'precision': 0.9333333333333333,\n",
       "              'recall': 0.9790209790209791,\n",
       "              'f1-score': 0.9556313993174061})}"
      ]
     },
     "execution_count": 34,
     "metadata": {},
     "output_type": "execute_result"
    }
   ],
   "source": [
    "metrics_calculation(predictions,y,[\"M\",\"B\"])"
   ]
  },
  {
   "cell_type": "markdown",
   "id": "241931eb",
   "metadata": {},
   "source": [
    "### test data metrics"
   ]
  },
  {
   "cell_type": "code",
   "execution_count": 35,
   "id": "355b559c",
   "metadata": {},
   "outputs": [],
   "source": [
    "transformed_xtest = guassian_kernel(X_test.to_numpy(),x)"
   ]
  },
  {
   "cell_type": "code",
   "execution_count": 37,
   "id": "1bc7c96c",
   "metadata": {},
   "outputs": [],
   "source": [
    "z = svm(transformed_xtest,weights,bias)"
   ]
  },
  {
   "cell_type": "code",
   "execution_count": 38,
   "id": "4567b1ce",
   "metadata": {},
   "outputs": [],
   "source": [
    "z[z>=0] = 1"
   ]
  },
  {
   "cell_type": "code",
   "execution_count": 39,
   "id": "b1a7fa95",
   "metadata": {},
   "outputs": [],
   "source": [
    "z[z<0] = -1"
   ]
  },
  {
   "cell_type": "code",
   "execution_count": 40,
   "id": "e7803e0b",
   "metadata": {},
   "outputs": [],
   "source": [
    "diagnosis_reverse_map = { 1:'M',  -1:'B'}"
   ]
  },
  {
   "cell_type": "code",
   "execution_count": 41,
   "id": "35b5f2d0",
   "metadata": {},
   "outputs": [],
   "source": [
    "predictions = pd.DataFrame(z)[0].map(diagnosis_reverse_map).to_numpy()"
   ]
  },
  {
   "cell_type": "code",
   "execution_count": 42,
   "id": "ea6a01d8",
   "metadata": {},
   "outputs": [],
   "source": [
    "yt = y_test.map(diagnosis_reverse_map).to_numpy()"
   ]
  },
  {
   "cell_type": "code",
   "execution_count": 43,
   "id": "c52571fa",
   "metadata": {},
   "outputs": [
    {
     "data": {
      "text/plain": [
       "{'M': defaultdict(int,\n",
       "             {'tn': 70,\n",
       "              'tp': 39,\n",
       "              'fp': 1,\n",
       "              'fn': 4,\n",
       "              'precision': 0.975,\n",
       "              'recall': 0.9069767441860465,\n",
       "              'f1-score': 0.9397590361445783}),\n",
       " 'B': defaultdict(int,\n",
       "             {'tp': 70,\n",
       "              'tn': 39,\n",
       "              'fn': 1,\n",
       "              'fp': 4,\n",
       "              'precision': 0.9459459459459459,\n",
       "              'recall': 0.9859154929577465,\n",
       "              'f1-score': 0.9655172413793103})}"
      ]
     },
     "execution_count": 43,
     "metadata": {},
     "output_type": "execute_result"
    }
   ],
   "source": [
    "metrics_calculation(predictions,yt,[\"M\",\"B\"])"
   ]
  },
  {
   "cell_type": "code",
   "execution_count": null,
   "id": "994fb52b",
   "metadata": {},
   "outputs": [],
   "source": []
  }
 ],
 "metadata": {
  "kernelspec": {
   "display_name": "Python 3 (ipykernel)",
   "language": "python",
   "name": "python3"
  },
  "language_info": {
   "codemirror_mode": {
    "name": "ipython",
    "version": 3
   },
   "file_extension": ".py",
   "mimetype": "text/x-python",
   "name": "python",
   "nbconvert_exporter": "python",
   "pygments_lexer": "ipython3",
   "version": "3.10.5"
  }
 },
 "nbformat": 4,
 "nbformat_minor": 5
}
