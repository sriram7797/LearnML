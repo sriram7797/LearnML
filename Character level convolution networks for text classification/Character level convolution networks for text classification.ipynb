{
 "cells": [
  {
   "cell_type": "code",
   "execution_count": 1,
   "metadata": {},
   "outputs": [],
   "source": [
    "import warnings;warnings.filterwarnings('ignore')"
   ]
  },
  {
   "cell_type": "code",
   "execution_count": 2,
   "metadata": {},
   "outputs": [],
   "source": [
    "import torch\n",
    "import torch.nn as nn\n",
    "import torch.nn.functional as F\n",
    "import torch.optim as optim"
   ]
  },
  {
   "cell_type": "code",
   "execution_count": 3,
   "metadata": {},
   "outputs": [],
   "source": [
    "from torch.utils.data import Dataset,TensorDataset,DataLoader"
   ]
  },
  {
   "cell_type": "code",
   "execution_count": 4,
   "metadata": {},
   "outputs": [],
   "source": [
    "from tqdm import tqdm_notebook,tnrange"
   ]
  },
  {
   "cell_type": "code",
   "execution_count": 5,
   "metadata": {},
   "outputs": [],
   "source": [
    "import pandas as pd\n",
    "import numpy as np"
   ]
  },
  {
   "cell_type": "code",
   "execution_count": 6,
   "metadata": {},
   "outputs": [],
   "source": [
    "from sklearn.model_selection import train_test_split"
   ]
  },
  {
   "cell_type": "code",
   "execution_count": 7,
   "metadata": {},
   "outputs": [],
   "source": [
    "from bidict import bidict"
   ]
  },
  {
   "cell_type": "code",
   "execution_count": 8,
   "metadata": {},
   "outputs": [],
   "source": [
    "from pathlib import Path"
   ]
  },
  {
   "cell_type": "code",
   "execution_count": 9,
   "metadata": {},
   "outputs": [],
   "source": [
    "path = Path(\"C:/Users/sappusamy/Documents/SriWK/datasets/bbc/\")"
   ]
  },
  {
   "cell_type": "code",
   "execution_count": 49,
   "metadata": {},
   "outputs": [],
   "source": [
    "classes = [\"sport\",\"business\",\"politics\"]"
   ]
  },
  {
   "cell_type": "code",
   "execution_count": 50,
   "metadata": {},
   "outputs": [],
   "source": [
    "texts=[]\n",
    "labels=[]\n",
    "for folder in path.iterdir():\n",
    "    if folder.name in classes:\n",
    "        for file in folder.iterdir():\n",
    "            with open(file,'r') as f:\n",
    "                texts.append(f.read())\n",
    "                labels.append(folder.name)"
   ]
  },
  {
   "cell_type": "code",
   "execution_count": 51,
   "metadata": {},
   "outputs": [
    {
     "data": {
      "text/plain": [
       "(1438, 1438)"
      ]
     },
     "execution_count": 51,
     "metadata": {},
     "output_type": "execute_result"
    }
   ],
   "source": [
    "len(texts),len(labels)"
   ]
  },
  {
   "cell_type": "code",
   "execution_count": 52,
   "metadata": {},
   "outputs": [],
   "source": [
    "data = pd.DataFrame({'text':texts,'label':labels})"
   ]
  },
  {
   "cell_type": "code",
   "execution_count": 53,
   "metadata": {},
   "outputs": [],
   "source": [
    "data = data.sample(frac=1).reset_index(drop=True)"
   ]
  },
  {
   "cell_type": "code",
   "execution_count": 54,
   "metadata": {},
   "outputs": [],
   "source": [
    "train,remain = train_test_split(data,train_size=0.7)\n",
    "val,test = train_test_split(remain,train_size=0.5)"
   ]
  },
  {
   "cell_type": "code",
   "execution_count": 55,
   "metadata": {},
   "outputs": [
    {
     "data": {
      "text/plain": [
       "(1006, 216, 216)"
      ]
     },
     "execution_count": 55,
     "metadata": {},
     "output_type": "execute_result"
    }
   ],
   "source": [
    "len(train),len(val),len(test)"
   ]
  },
  {
   "cell_type": "code",
   "execution_count": 56,
   "metadata": {},
   "outputs": [],
   "source": [
    "# train.to_csv(\"train.csv\",index=False)\n",
    "# val.to_csv(\"val.csv\",index=False)\n",
    "# test.to_csv(\"test.csv\",index=False)"
   ]
  },
  {
   "cell_type": "code",
   "execution_count": 18,
   "metadata": {},
   "outputs": [],
   "source": [
    "train.text = train.text.apply(lambda x: ' '.join(x.lower().split()))\n",
    "val.text = val.text.apply(lambda x: ' '.join(x.lower().split()))\n",
    "test.text = test.text.apply(lambda x: ' '.join(x.lower().split()))"
   ]
  },
  {
   "cell_type": "code",
   "execution_count": 19,
   "metadata": {},
   "outputs": [],
   "source": [
    "chars=set()\n",
    "for text in train.text:\n",
    "    chars.update(text)"
   ]
  },
  {
   "cell_type": "code",
   "execution_count": 20,
   "metadata": {},
   "outputs": [],
   "source": [
    "unk_token='<unk>'\n",
    "pad_token='<pad>'"
   ]
  },
  {
   "cell_type": "code",
   "execution_count": 21,
   "metadata": {},
   "outputs": [],
   "source": [
    "char2idx={}\n",
    "char2idx[pad_token]=0\n",
    "char2idx[unk_token]=1\n",
    "for c in set(chars):\n",
    "    char2idx[c] = len(char2idx)"
   ]
  },
  {
   "cell_type": "code",
   "execution_count": 22,
   "metadata": {},
   "outputs": [],
   "source": [
    "label2idx = {}\n",
    "for i in train.label.unique():\n",
    "    label2idx[i]=len(label2idx)"
   ]
  },
  {
   "cell_type": "code",
   "execution_count": 23,
   "metadata": {},
   "outputs": [],
   "source": [
    "max_len = 1014"
   ]
  },
  {
   "cell_type": "code",
   "execution_count": 24,
   "metadata": {},
   "outputs": [],
   "source": [
    "def convert_char2idx(text):\n",
    "    text = text[:max_len].lower()\n",
    "    text = [char2idx[c] if c in char2idx else char2idx[unk_token] for c in text]\n",
    "    if len(text)<max_len:\n",
    "        text = text + [char2idx[pad_token]]*(max_len-len(text))\n",
    "    return np.array(text)"
   ]
  },
  {
   "cell_type": "code",
   "execution_count": 25,
   "metadata": {},
   "outputs": [],
   "source": [
    "def convert_label2idx(label):\n",
    "    return label2idx[label]"
   ]
  },
  {
   "cell_type": "code",
   "execution_count": 26,
   "metadata": {},
   "outputs": [],
   "source": [
    "train_x = torch.LongTensor(np.stack(train.text.apply(convert_char2idx)))\n",
    "train_y = torch.LongTensor(np.stack(train.label.apply(convert_label2idx)))"
   ]
  },
  {
   "cell_type": "code",
   "execution_count": 27,
   "metadata": {},
   "outputs": [
    {
     "data": {
      "text/plain": [
       "(torch.Size([735, 1014]), torch.Size([735]))"
      ]
     },
     "execution_count": 27,
     "metadata": {},
     "output_type": "execute_result"
    }
   ],
   "source": [
    "train_x.shape,train_y.shape"
   ]
  },
  {
   "cell_type": "code",
   "execution_count": 28,
   "metadata": {},
   "outputs": [],
   "source": [
    "val_x = torch.LongTensor(np.stack(val.text.apply(convert_char2idx)))\n",
    "val_y = torch.LongTensor(np.stack(val.label.apply(convert_label2idx)))"
   ]
  },
  {
   "cell_type": "code",
   "execution_count": 29,
   "metadata": {},
   "outputs": [
    {
     "data": {
      "text/plain": [
       "(torch.Size([158, 1014]), torch.Size([158]))"
      ]
     },
     "execution_count": 29,
     "metadata": {},
     "output_type": "execute_result"
    }
   ],
   "source": [
    "val_x.shape,val_y.shape"
   ]
  },
  {
   "cell_type": "code",
   "execution_count": 30,
   "metadata": {},
   "outputs": [],
   "source": [
    "test_x = torch.LongTensor(np.stack(test.text.apply(convert_char2idx)))\n",
    "test_y = torch.LongTensor(np.stack(test.label.apply(convert_label2idx)))"
   ]
  },
  {
   "cell_type": "code",
   "execution_count": 31,
   "metadata": {},
   "outputs": [
    {
     "data": {
      "text/plain": [
       "(torch.Size([158, 1014]), torch.Size([158]))"
      ]
     },
     "execution_count": 31,
     "metadata": {},
     "output_type": "execute_result"
    }
   ],
   "source": [
    "test_x.shape,test_y.shape"
   ]
  },
  {
   "cell_type": "code",
   "execution_count": 32,
   "metadata": {},
   "outputs": [],
   "source": [
    "class MyDataset(Dataset):\n",
    "    def __init__(self,x,y):\n",
    "        self.x = x\n",
    "        self.y = y\n",
    "        \n",
    "    def __len__(self):\n",
    "        return self.x.shape[0]\n",
    "    def __getitem__(self,i):\n",
    "        return self.x[i],self.y[i]"
   ]
  },
  {
   "cell_type": "code",
   "execution_count": 33,
   "metadata": {},
   "outputs": [],
   "source": [
    "train_ds = MyDataset(train_x,train_y)"
   ]
  },
  {
   "cell_type": "code",
   "execution_count": 34,
   "metadata": {},
   "outputs": [],
   "source": [
    "val_ds = MyDataset(val_x,val_y)"
   ]
  },
  {
   "cell_type": "code",
   "execution_count": 35,
   "metadata": {},
   "outputs": [],
   "source": [
    "test_ds = MyDataset(test_x,test_y)"
   ]
  },
  {
   "cell_type": "code",
   "execution_count": 36,
   "metadata": {},
   "outputs": [],
   "source": [
    "def to_cuda(x):\n",
    "    if torch.cuda.is_available():\n",
    "        x = x.cuda()\n",
    "    return x"
   ]
  },
  {
   "cell_type": "markdown",
   "metadata": {},
   "source": [
    "## Model:"
   ]
  },
  {
   "cell_type": "code",
   "execution_count": 37,
   "metadata": {},
   "outputs": [],
   "source": [
    "class TextClassification(nn.Module):\n",
    "    def __init__(self,vs=100,emb_dim=16,features=256,hidden_units=1024,num_classes=2,seq_len=1014):\n",
    "        super().__init__()\n",
    "        self.emb = nn.Embedding(vs,emb_dim)\n",
    "        self.model = nn.Sequential(nn.Sequential(nn.Conv1d(16,256,kernel_size=7),nn.ReLU(),nn.MaxPool1d(kernel_size=3)),\n",
    "                     nn.Sequential(nn.Conv1d(256,256,kernel_size=7),nn.ReLU(),nn.MaxPool1d(kernel_size=3)),\n",
    "                     nn.Sequential(nn.Conv1d(256,256,kernel_size=3),nn.ReLU()),\n",
    "                     nn.Sequential(nn.Conv1d(256,256,kernel_size=3),nn.ReLU()),\n",
    "                     nn.Sequential(nn.Conv1d(256,256,kernel_size=3),nn.ReLU()),\n",
    "                     nn.Sequential(nn.Conv1d(256,256,kernel_size=3),nn.ReLU(),\n",
    "                     nn.MaxPool1d(kernel_size=3)))\n",
    "        L = int((seq_len-96)/27)\n",
    "        self.fc_layer = nn.Sequential(nn.Linear(L*features,hidden_units),\n",
    "                                      nn.Linear(hidden_units,hidden_units),\n",
    "                                      nn.Linear(hidden_units,num_classes))\n",
    "        self.init_parameters()\n",
    "\n",
    "        \n",
    "    def forward(self,x):\n",
    "        x = self.emb(x).transpose(1,2) # bs,emb_dim,char_len\n",
    "        x = self.model(x)\n",
    "        bs,_,_ = x.shape\n",
    "        x = x.flatten(start_dim=1,end_dim=2)\n",
    "        logits = self.fc_layer(x)\n",
    "        return logits\n",
    "    \n",
    "    def init_parameters(self):\n",
    "        for p in self.model.parameters():\n",
    "            nn.init.normal_(p,mean=0,std=0.05)\n",
    "        for p in self.fc_layer.parameters():\n",
    "            nn.init.normal_(p,mean=0,std=0.05)"
   ]
  },
  {
   "cell_type": "code",
   "execution_count": 38,
   "metadata": {},
   "outputs": [],
   "source": [
    "model = to_cuda(TextClassification(vs=len(char2idx),num_classes=len(label2idx)))"
   ]
  },
  {
   "cell_type": "markdown",
   "metadata": {},
   "source": [
    "## Training Process:"
   ]
  },
  {
   "cell_type": "code",
   "execution_count": 39,
   "metadata": {},
   "outputs": [],
   "source": [
    "def accuracy(preds,y):\n",
    "    return (preds==y).float().mean().item()"
   ]
  },
  {
   "cell_type": "code",
   "execution_count": 40,
   "metadata": {},
   "outputs": [],
   "source": [
    "epochs=1\n",
    "bs=4\n",
    "initial_lr = 1e-4"
   ]
  },
  {
   "cell_type": "code",
   "execution_count": 41,
   "metadata": {},
   "outputs": [],
   "source": [
    "loss_fn = nn.CrossEntropyLoss()"
   ]
  },
  {
   "cell_type": "code",
   "execution_count": 42,
   "metadata": {},
   "outputs": [],
   "source": [
    "optimizer = optim.Adam(model.parameters(),lr=initial_lr,weight_decay=1e-5)"
   ]
  },
  {
   "cell_type": "code",
   "execution_count": 43,
   "metadata": {},
   "outputs": [],
   "source": [
    "class MyScheduler():\n",
    "    def __init__(self,optimizer,fraction,max_times,interval):\n",
    "        self.optimizer = optimizer\n",
    "        self.fraction = fraction\n",
    "        self.max_times = max_times\n",
    "        self.interval = interval\n",
    "        self.step_count = 0\n",
    "        self.max_count = 0\n",
    "        \n",
    "    def step(self):\n",
    "        self.step_count+=1\n",
    "        if self.step_count%self.interval==0 and self.max_count<self.max_times:\n",
    "            for param_group in self.optimizer.param_groups:\n",
    "                param_group['lr']*=self.fraction\n",
    "            self.max_count+=1"
   ]
  },
  {
   "cell_type": "code",
   "execution_count": 44,
   "metadata": {},
   "outputs": [],
   "source": [
    "scheduler = MyScheduler(optimizer,0.5,10,3)"
   ]
  },
  {
   "cell_type": "code",
   "execution_count": 45,
   "metadata": {},
   "outputs": [
    {
     "name": "stdout",
     "output_type": "stream",
     "text": [
      "Epochs          Train Loss      Val Loss        Val Accuracy   \n"
     ]
    },
    {
     "data": {
      "application/vnd.jupyter.widget-view+json": {
       "model_id": "004382d73f43477099aad003d3736c54",
       "version_major": 2,
       "version_minor": 0
      },
      "text/plain": [
       "HBox(children=(IntProgress(value=0, description='Epochs', max=1, style=ProgressStyle(description_width='initia…"
      ]
     },
     "metadata": {},
     "output_type": "display_data"
    },
    {
     "data": {
      "application/vnd.jupyter.widget-view+json": {
       "model_id": "",
       "version_major": 2,
       "version_minor": 0
      },
      "text/plain": [
       "HBox(children=(IntProgress(value=0, max=184), HTML(value='')))"
      ]
     },
     "metadata": {},
     "output_type": "display_data"
    },
    {
     "data": {
      "application/vnd.jupyter.widget-view+json": {
       "model_id": "",
       "version_major": 2,
       "version_minor": 0
      },
      "text/plain": [
       "HBox(children=(IntProgress(value=0, max=40), HTML(value='')))"
      ]
     },
     "metadata": {},
     "output_type": "display_data"
    },
    {
     "name": "stdout",
     "output_type": "stream",
     "text": [
      "              1          3.6481          1.1452          0.4747\n",
      "\n"
     ]
    }
   ],
   "source": [
    "print(\"{:15} {:15} {:15} {:15}\".format(\"Epochs\",\"Train Loss\",\"Val Loss\",\"Val Accuracy\"))\n",
    "for epoch in tnrange(epochs,desc='Epochs'):\n",
    "    train_losses = []\n",
    "    val_losses = []\n",
    "    train_dl = DataLoader(train_ds,batch_size=bs,shuffle=True)\n",
    "    t = tqdm_notebook(train_dl,total=len(train_dl),leave=False)\n",
    "    for x,y in t:\n",
    "        x,y = to_cuda(x),to_cuda(y)\n",
    "        optimizer.zero_grad()\n",
    "        logits = model(x)\n",
    "        loss = loss_fn(logits,y)\n",
    "        loss.backward()\n",
    "        t.set_postfix(loss=loss.item())\n",
    "        train_losses.append(loss.item())\n",
    "        optimizer.step()\n",
    "    scheduler.step()\n",
    "        \n",
    "    train_loss = np.array(train_losses).mean()\n",
    "    \n",
    "    val_dl = DataLoader(val_ds,batch_size=bs,shuffle=True)\n",
    "    val_preds=[]\n",
    "    val_y=[]\n",
    "    with torch.no_grad():\n",
    "        t = tqdm_notebook(val_dl,total=len(val_dl),leave=False)\n",
    "        for x,y in t:\n",
    "            x,y = to_cuda(x),to_cuda(y)\n",
    "            logits = model(x)\n",
    "            loss = loss_fn(logits,y)\n",
    "            t.set_postfix(loss=loss.item())\n",
    "            val_losses.append(loss.item())\n",
    "            val_preds.append(logits.detach().clone().cpu())\n",
    "            val_y.append(y.clone().cpu())\n",
    "            \n",
    "    val_loss = np.array(val_losses).mean()\n",
    "    val_acc = accuracy(torch.cat(val_preds).softmax(-1).argmax(-1),torch.cat(val_y))\n",
    "    \n",
    "    print(\"{:15} {:15} {:15} {:15}\".format(epoch+1,round(train_loss,4),round(val_loss,4),round(val_acc,4)))\n",
    "        \n",
    "        "
   ]
  },
  {
   "cell_type": "code",
   "execution_count": 47,
   "metadata": {},
   "outputs": [
    {
     "data": {
      "text/plain": [
       "tensor([0, 1, 1, 0, 0, 0, 0, 0, 1, 0, 1, 0, 0, 0, 0, 2, 0, 0, 0, 2, 0, 2, 0, 0,\n",
       "        0, 2, 0, 0, 0, 0, 0, 0, 0, 0, 2, 0, 0, 0, 0, 0, 0, 0, 1, 2, 0, 0, 0, 2,\n",
       "        0, 0, 0, 0, 2, 0, 2, 1, 1, 2, 1, 0, 0, 0, 0, 1, 1, 0, 0, 0, 0, 2, 0, 0,\n",
       "        0, 0, 0, 0, 0, 0, 0, 2, 0, 2, 0, 0, 2, 1, 1, 2, 0, 0, 0, 0, 0, 2, 0, 0,\n",
       "        0, 0, 0, 1, 0, 0, 0, 0, 1, 0, 0, 0, 0, 0, 1, 0, 0, 1, 0, 0, 0, 0, 0, 0,\n",
       "        0, 0, 0, 2, 0, 0, 0, 2, 0, 0, 0, 0, 1, 1, 0, 1, 2, 2, 0, 0, 0, 2, 0, 1,\n",
       "        0, 0, 1, 0, 2, 0, 0, 0, 0, 0, 0, 0, 1, 1])"
      ]
     },
     "execution_count": 47,
     "metadata": {},
     "output_type": "execute_result"
    }
   ],
   "source": [
    "torch.cat(val_preds).softmax(-1).argmax(-1)"
   ]
  },
  {
   "cell_type": "code",
   "execution_count": 48,
   "metadata": {},
   "outputs": [
    {
     "data": {
      "text/plain": [
       "tensor([2, 2, 0, 0, 2, 0, 0, 2, 0, 0, 0, 2, 0, 0, 0, 2, 0, 2, 1, 2, 0, 0, 0, 0,\n",
       "        0, 0, 2, 0, 0, 0, 0, 0, 1, 2, 2, 2, 2, 2, 2, 2, 2, 2, 0, 0, 2, 0, 0, 1,\n",
       "        2, 0, 2, 1, 2, 0, 2, 2, 2, 0, 2, 2, 0, 0, 2, 1, 2, 2, 0, 1, 0, 2, 0, 1,\n",
       "        2, 2, 0, 0, 0, 2, 2, 2, 0, 2, 0, 2, 0, 1, 0, 0, 0, 0, 0, 0, 0, 2, 2, 2,\n",
       "        0, 2, 0, 0, 0, 2, 0, 2, 2, 0, 0, 0, 0, 2, 0, 0, 0, 2, 0, 0, 0, 1, 0, 1,\n",
       "        2, 2, 2, 0, 1, 2, 2, 0, 0, 2, 0, 0, 0, 1, 2, 2, 0, 0, 0, 0, 0, 0, 2, 2,\n",
       "        0, 2, 2, 0, 2, 0, 2, 0, 2, 0, 2, 0, 0, 0])"
      ]
     },
     "execution_count": 48,
     "metadata": {},
     "output_type": "execute_result"
    }
   ],
   "source": [
    "torch.cat(val_y)"
   ]
  },
  {
   "cell_type": "code",
   "execution_count": 45,
   "metadata": {},
   "outputs": [
    {
     "data": {
      "text/plain": [
       "tensor([ 5, 24,  3, 66,  1, 61, 69, 63, 58,  3, 58, 69, 21, 68,  1, 28,  5, 28,\n",
       "        66, 68, 63, 58, 68, 58,  1,  3, 63,  1, 66, 31,  4, 10, 68,  1,  1, 68,\n",
       "         5, 31,  4, 28, 61, 68, 66, 21,  3, 61,  1, 66, 69, 31, 21, 34,  1,  5,\n",
       "        24,  3, 66,  1, 41, 69, 25, 68,  1, 28,  5, 28, 66, 68, 63, 58, 68, 58,\n",
       "         1, 69,  1, 61, 69, 63, 58,  3, 58, 69, 21, 68,  1, 27,  4, 31,  1, 69,\n",
       "        35, 35, 68, 47, 68, 58, 35, 34,  1, 28])"
      ]
     },
     "execution_count": 45,
     "metadata": {},
     "output_type": "execute_result"
    }
   ],
   "source": [
    "x[0][:100]"
   ]
  },
  {
   "cell_type": "code",
   "execution_count": null,
   "metadata": {},
   "outputs": [],
   "source": []
  }
 ],
 "metadata": {
  "kernelspec": {
   "display_name": "Python 3",
   "language": "python",
   "name": "python3"
  },
  "language_info": {
   "codemirror_mode": {
    "name": "ipython",
    "version": 3
   },
   "file_extension": ".py",
   "mimetype": "text/x-python",
   "name": "python",
   "nbconvert_exporter": "python",
   "pygments_lexer": "ipython3",
   "version": "3.7.3"
  }
 },
 "nbformat": 4,
 "nbformat_minor": 2
}
