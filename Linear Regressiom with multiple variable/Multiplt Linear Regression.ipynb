{
 "cells": [
  {
   "cell_type": "code",
   "execution_count": 1,
   "metadata": {},
   "outputs": [],
   "source": [
    "import warnings\n",
    "warnings.filterwarnings('ignore')\n",
    "import pandas as pd"
   ]
  },
  {
   "cell_type": "code",
   "execution_count": 2,
   "metadata": {},
   "outputs": [],
   "source": [
    "import numpy as np\n",
    "import matplotlib.pyplot as plt"
   ]
  },
  {
   "cell_type": "code",
   "execution_count": 3,
   "metadata": {},
   "outputs": [],
   "source": [
    "from sklearn.preprocessing import Imputer\n",
    "from sklearn.preprocessing import LabelEncoder\n",
    "from sklearn.preprocessing import OneHotEncoder\n",
    "from sklearn.preprocessing import StandardScaler"
   ]
  },
  {
   "cell_type": "code",
   "execution_count": 4,
   "metadata": {},
   "outputs": [],
   "source": [
    "dataset = pd.read_csv('train.csv')"
   ]
  },
  {
   "cell_type": "code",
   "execution_count": 5,
   "metadata": {},
   "outputs": [
    {
     "data": {
      "text/html": [
       "<div>\n",
       "<style scoped>\n",
       "    .dataframe tbody tr th:only-of-type {\n",
       "        vertical-align: middle;\n",
       "    }\n",
       "\n",
       "    .dataframe tbody tr th {\n",
       "        vertical-align: top;\n",
       "    }\n",
       "\n",
       "    .dataframe thead th {\n",
       "        text-align: right;\n",
       "    }\n",
       "</style>\n",
       "<table border=\"1\" class=\"dataframe\">\n",
       "  <thead>\n",
       "    <tr style=\"text-align: right;\">\n",
       "      <th></th>\n",
       "      <th>Id</th>\n",
       "      <th>MSSubClass</th>\n",
       "      <th>MSZoning</th>\n",
       "      <th>LotFrontage</th>\n",
       "      <th>LotArea</th>\n",
       "      <th>Street</th>\n",
       "      <th>Alley</th>\n",
       "      <th>LotShape</th>\n",
       "      <th>LandContour</th>\n",
       "      <th>Utilities</th>\n",
       "      <th>...</th>\n",
       "      <th>PoolArea</th>\n",
       "      <th>PoolQC</th>\n",
       "      <th>Fence</th>\n",
       "      <th>MiscFeature</th>\n",
       "      <th>MiscVal</th>\n",
       "      <th>MoSold</th>\n",
       "      <th>YrSold</th>\n",
       "      <th>SaleType</th>\n",
       "      <th>SaleCondition</th>\n",
       "      <th>SalePrice</th>\n",
       "    </tr>\n",
       "  </thead>\n",
       "  <tbody>\n",
       "    <tr>\n",
       "      <th>0</th>\n",
       "      <td>1</td>\n",
       "      <td>60</td>\n",
       "      <td>RL</td>\n",
       "      <td>65.0</td>\n",
       "      <td>8450</td>\n",
       "      <td>Pave</td>\n",
       "      <td>NaN</td>\n",
       "      <td>Reg</td>\n",
       "      <td>Lvl</td>\n",
       "      <td>AllPub</td>\n",
       "      <td>...</td>\n",
       "      <td>0</td>\n",
       "      <td>NaN</td>\n",
       "      <td>NaN</td>\n",
       "      <td>NaN</td>\n",
       "      <td>0</td>\n",
       "      <td>2</td>\n",
       "      <td>2008</td>\n",
       "      <td>WD</td>\n",
       "      <td>Normal</td>\n",
       "      <td>208500</td>\n",
       "    </tr>\n",
       "    <tr>\n",
       "      <th>1</th>\n",
       "      <td>2</td>\n",
       "      <td>20</td>\n",
       "      <td>RL</td>\n",
       "      <td>80.0</td>\n",
       "      <td>9600</td>\n",
       "      <td>Pave</td>\n",
       "      <td>NaN</td>\n",
       "      <td>Reg</td>\n",
       "      <td>Lvl</td>\n",
       "      <td>AllPub</td>\n",
       "      <td>...</td>\n",
       "      <td>0</td>\n",
       "      <td>NaN</td>\n",
       "      <td>NaN</td>\n",
       "      <td>NaN</td>\n",
       "      <td>0</td>\n",
       "      <td>5</td>\n",
       "      <td>2007</td>\n",
       "      <td>WD</td>\n",
       "      <td>Normal</td>\n",
       "      <td>181500</td>\n",
       "    </tr>\n",
       "    <tr>\n",
       "      <th>2</th>\n",
       "      <td>3</td>\n",
       "      <td>60</td>\n",
       "      <td>RL</td>\n",
       "      <td>68.0</td>\n",
       "      <td>11250</td>\n",
       "      <td>Pave</td>\n",
       "      <td>NaN</td>\n",
       "      <td>IR1</td>\n",
       "      <td>Lvl</td>\n",
       "      <td>AllPub</td>\n",
       "      <td>...</td>\n",
       "      <td>0</td>\n",
       "      <td>NaN</td>\n",
       "      <td>NaN</td>\n",
       "      <td>NaN</td>\n",
       "      <td>0</td>\n",
       "      <td>9</td>\n",
       "      <td>2008</td>\n",
       "      <td>WD</td>\n",
       "      <td>Normal</td>\n",
       "      <td>223500</td>\n",
       "    </tr>\n",
       "    <tr>\n",
       "      <th>3</th>\n",
       "      <td>4</td>\n",
       "      <td>70</td>\n",
       "      <td>RL</td>\n",
       "      <td>60.0</td>\n",
       "      <td>9550</td>\n",
       "      <td>Pave</td>\n",
       "      <td>NaN</td>\n",
       "      <td>IR1</td>\n",
       "      <td>Lvl</td>\n",
       "      <td>AllPub</td>\n",
       "      <td>...</td>\n",
       "      <td>0</td>\n",
       "      <td>NaN</td>\n",
       "      <td>NaN</td>\n",
       "      <td>NaN</td>\n",
       "      <td>0</td>\n",
       "      <td>2</td>\n",
       "      <td>2006</td>\n",
       "      <td>WD</td>\n",
       "      <td>Abnorml</td>\n",
       "      <td>140000</td>\n",
       "    </tr>\n",
       "    <tr>\n",
       "      <th>4</th>\n",
       "      <td>5</td>\n",
       "      <td>60</td>\n",
       "      <td>RL</td>\n",
       "      <td>84.0</td>\n",
       "      <td>14260</td>\n",
       "      <td>Pave</td>\n",
       "      <td>NaN</td>\n",
       "      <td>IR1</td>\n",
       "      <td>Lvl</td>\n",
       "      <td>AllPub</td>\n",
       "      <td>...</td>\n",
       "      <td>0</td>\n",
       "      <td>NaN</td>\n",
       "      <td>NaN</td>\n",
       "      <td>NaN</td>\n",
       "      <td>0</td>\n",
       "      <td>12</td>\n",
       "      <td>2008</td>\n",
       "      <td>WD</td>\n",
       "      <td>Normal</td>\n",
       "      <td>250000</td>\n",
       "    </tr>\n",
       "  </tbody>\n",
       "</table>\n",
       "<p>5 rows × 81 columns</p>\n",
       "</div>"
      ],
      "text/plain": [
       "   Id  MSSubClass MSZoning  LotFrontage  LotArea Street Alley LotShape  \\\n",
       "0   1          60       RL         65.0     8450   Pave   NaN      Reg   \n",
       "1   2          20       RL         80.0     9600   Pave   NaN      Reg   \n",
       "2   3          60       RL         68.0    11250   Pave   NaN      IR1   \n",
       "3   4          70       RL         60.0     9550   Pave   NaN      IR1   \n",
       "4   5          60       RL         84.0    14260   Pave   NaN      IR1   \n",
       "\n",
       "  LandContour Utilities  ... PoolArea PoolQC Fence MiscFeature MiscVal MoSold  \\\n",
       "0         Lvl    AllPub  ...        0    NaN   NaN         NaN       0      2   \n",
       "1         Lvl    AllPub  ...        0    NaN   NaN         NaN       0      5   \n",
       "2         Lvl    AllPub  ...        0    NaN   NaN         NaN       0      9   \n",
       "3         Lvl    AllPub  ...        0    NaN   NaN         NaN       0      2   \n",
       "4         Lvl    AllPub  ...        0    NaN   NaN         NaN       0     12   \n",
       "\n",
       "  YrSold  SaleType  SaleCondition  SalePrice  \n",
       "0   2008        WD         Normal     208500  \n",
       "1   2007        WD         Normal     181500  \n",
       "2   2008        WD         Normal     223500  \n",
       "3   2006        WD        Abnorml     140000  \n",
       "4   2008        WD         Normal     250000  \n",
       "\n",
       "[5 rows x 81 columns]"
      ]
     },
     "execution_count": 5,
     "metadata": {},
     "output_type": "execute_result"
    }
   ],
   "source": [
    "dataset.head()"
   ]
  },
  {
   "cell_type": "code",
   "execution_count": 6,
   "metadata": {},
   "outputs": [],
   "source": [
    "x_train = dataset.iloc[:,1:-1]"
   ]
  },
  {
   "cell_type": "code",
   "execution_count": 7,
   "metadata": {},
   "outputs": [],
   "source": [
    "y = dataset.iloc[:,-1].values"
   ]
  },
  {
   "cell_type": "code",
   "execution_count": 8,
   "metadata": {},
   "outputs": [],
   "source": [
    "def differentiate_features(x_train):\n",
    "    discrete_features = []\n",
    "    continuous_features = []\n",
    "    for i,j in zip(x_train,x_train.dtypes):\n",
    "        if j.type==np.int64 or j.type==np.float64:\n",
    "            continuous_features.append(i)\n",
    "        else:\n",
    "            discrete_features.append(i)\n",
    "    return discrete_features,continuous_features"
   ]
  },
  {
   "cell_type": "code",
   "execution_count": 9,
   "metadata": {},
   "outputs": [],
   "source": [
    "discrete_features,continuous_features = differentiate_features(x_train)"
   ]
  },
  {
   "cell_type": "code",
   "execution_count": 10,
   "metadata": {},
   "outputs": [],
   "source": [
    "def get_imputer(x_continuous):\n",
    "    imputer = Imputer(missing_values = np.nan, strategy = 'mean', axis = 0)\n",
    "    imputer.fit(x_continuous)\n",
    "    return imputer"
   ]
  },
  {
   "cell_type": "code",
   "execution_count": 11,
   "metadata": {},
   "outputs": [
    {
     "name": "stderr",
     "output_type": "stream",
     "text": [
      "c:\\users\\sappusamy\\appdata\\local\\continuum\\anaconda3\\envs\\sri\\lib\\site-packages\\sklearn\\utils\\deprecation.py:58: DeprecationWarning: Class Imputer is deprecated; Imputer was deprecated in version 0.20 and will be removed in 0.22. Import impute.SimpleImputer from sklearn instead.\n",
      "  warnings.warn(msg, category=DeprecationWarning)\n"
     ]
    }
   ],
   "source": [
    "x_continuous = dataset.filter(continuous_features).values\n",
    "imputer = get_imputer(x_continuous)"
   ]
  },
  {
   "cell_type": "code",
   "execution_count": 12,
   "metadata": {},
   "outputs": [],
   "source": [
    "def get_data_from_imputer(imputer,x_continuous):\n",
    "    x_continuous = imputer.transform(x_continuous)\n",
    "    return x_continuous"
   ]
  },
  {
   "cell_type": "code",
   "execution_count": 13,
   "metadata": {},
   "outputs": [],
   "source": [
    "x_continuous = get_data_from_imputer(imputer,x_continuous)"
   ]
  },
  {
   "cell_type": "code",
   "execution_count": 14,
   "metadata": {},
   "outputs": [
    {
     "data": {
      "text/plain": [
       "(1460, 36)"
      ]
     },
     "execution_count": 14,
     "metadata": {},
     "output_type": "execute_result"
    }
   ],
   "source": [
    "x_continuous.shape"
   ]
  },
  {
   "cell_type": "code",
   "execution_count": 15,
   "metadata": {},
   "outputs": [],
   "source": [
    "def get_label_encoder(discrete_features,x_discrete):\n",
    "    label_encoder_dict={}\n",
    "    for col in discrete_features:\n",
    "        label_encoder_dict[col] = LabelEncoder()\n",
    "        x_discrete[col] = x_discrete[col].fillna('')\n",
    "        s = x_discrete[col].astype(str).unique()\n",
    "        if '' not in s: s = np.append(s,[''])\n",
    "        label_encoder_dict[col].fit(s)\n",
    "    return label_encoder_dict"
   ]
  },
  {
   "cell_type": "code",
   "execution_count": 16,
   "metadata": {},
   "outputs": [],
   "source": [
    "x_discrete = dataset.filter(discrete_features)"
   ]
  },
  {
   "cell_type": "code",
   "execution_count": 17,
   "metadata": {},
   "outputs": [],
   "source": [
    "label_encoder_dict = get_label_encoder(discrete_features,x_discrete)"
   ]
  },
  {
   "cell_type": "code",
   "execution_count": 18,
   "metadata": {},
   "outputs": [],
   "source": [
    "def get_discrete_encoder(label_encoder_dict,x_discrete):\n",
    "    for col in label_encoder_dict:\n",
    "        x_discrete[col] = label_encoder_dict[col].transform(x_discrete[col])\n",
    "    return x_discrete"
   ]
  },
  {
   "cell_type": "code",
   "execution_count": 19,
   "metadata": {},
   "outputs": [],
   "source": [
    "x_discrete = get_discrete_encoder(label_encoder_dict,x_discrete)"
   ]
  },
  {
   "cell_type": "code",
   "execution_count": 20,
   "metadata": {},
   "outputs": [
    {
     "data": {
      "text/plain": [
       "43"
      ]
     },
     "execution_count": 20,
     "metadata": {},
     "output_type": "execute_result"
    }
   ],
   "source": [
    "try:\n",
    "    n_discrete = x_discrete.shape[1]\n",
    "except:\n",
    "    n_discrete = 0\n",
    "n_discrete"
   ]
  },
  {
   "cell_type": "code",
   "execution_count": 21,
   "metadata": {},
   "outputs": [],
   "source": [
    "def generate_onehot_encoder(n_discrete):\n",
    "    onehotencoder = OneHotEncoder(categorical_features = list(range(n_discrete)))\n",
    "    onehotencoder.fit(x_discrete)\n",
    "    return onehotencoder"
   ]
  },
  {
   "cell_type": "code",
   "execution_count": 22,
   "metadata": {},
   "outputs": [
    {
     "name": "stderr",
     "output_type": "stream",
     "text": [
      "c:\\users\\sappusamy\\appdata\\local\\continuum\\anaconda3\\envs\\sri\\lib\\site-packages\\sklearn\\preprocessing\\_encoders.py:392: DeprecationWarning: The 'categorical_features' keyword is deprecated in version 0.20 and will be removed in 0.22. You can use the ColumnTransformer instead.\n",
      "  \"use the ColumnTransformer instead.\", DeprecationWarning)\n"
     ]
    }
   ],
   "source": [
    "onehotencoder = generate_onehot_encoder(n_discrete)"
   ]
  },
  {
   "cell_type": "code",
   "execution_count": 23,
   "metadata": {},
   "outputs": [],
   "source": [
    "def get_onehot_encoder(onehotencoder,x_continuous,x_discrete):\n",
    "    x_discrete = onehotencoder.transform(x_discrete).toarray()\n",
    "    x = np.concatenate([x_continuous,x_discrete],axis=1)\n",
    "    x = np.concatenate([np.ones((len(x),1)),x],axis=1)\n",
    "    return x"
   ]
  },
  {
   "cell_type": "code",
   "execution_count": 24,
   "metadata": {},
   "outputs": [],
   "source": [
    "x = get_onehot_encoder(onehotencoder,x_continuous,x_discrete)"
   ]
  },
  {
   "cell_type": "code",
   "execution_count": 25,
   "metadata": {},
   "outputs": [],
   "source": [
    "def get_standardscaler(x,y):\n",
    "    sc_X = StandardScaler()\n",
    "    sc_X.fit(x)\n",
    "    sc_y = StandardScaler()\n",
    "    sc_y.fit(y.reshape(-1,1))\n",
    "    return sc_X,sc_y"
   ]
  },
  {
   "cell_type": "code",
   "execution_count": 26,
   "metadata": {},
   "outputs": [],
   "source": [
    "sc_X,sc_Y = get_standardscaler(x,y)"
   ]
  },
  {
   "cell_type": "code",
   "execution_count": 27,
   "metadata": {},
   "outputs": [],
   "source": [
    "def get_normalized(sc_X,sc_Y,x,y):\n",
    "    x = sc_X.transform(x)\n",
    "    y = sc_Y.transform(y.reshape(-1,1))\n",
    "    return x,y.reshape(-1)"
   ]
  },
  {
   "cell_type": "code",
   "execution_count": 28,
   "metadata": {},
   "outputs": [],
   "source": [
    "x_train,y_train = get_normalized(sc_X,sc_Y,x,y)"
   ]
  },
  {
   "cell_type": "code",
   "execution_count": 29,
   "metadata": {},
   "outputs": [
    {
     "data": {
      "text/plain": [
       "305"
      ]
     },
     "execution_count": 29,
     "metadata": {},
     "output_type": "execute_result"
    }
   ],
   "source": [
    "num_features = x.shape[1]\n",
    "num_features"
   ]
  },
  {
   "cell_type": "code",
   "execution_count": 30,
   "metadata": {},
   "outputs": [],
   "source": [
    "# mean square error\n",
    "def mse(preds,actual):\n",
    "    return ((preds-actual)**2).sum()/(2*len(preds))"
   ]
  },
  {
   "cell_type": "code",
   "execution_count": 31,
   "metadata": {},
   "outputs": [],
   "source": [
    "def derivative_w(y,y_train,x):\n",
    "    dw = np.matmul((y-y_train),x)/len(x)\n",
    "    return dw"
   ]
  },
  {
   "cell_type": "code",
   "execution_count": 32,
   "metadata": {},
   "outputs": [],
   "source": [
    "epochs = 100\n",
    "w = np.random.random((num_features))\n",
    "lr = 1e-1"
   ]
  },
  {
   "cell_type": "code",
   "execution_count": 33,
   "metadata": {},
   "outputs": [
    {
     "name": "stdout",
     "output_type": "stream",
     "text": [
      "Epoch  0 :- 51.91264328654337\n",
      "Epoch  1 :- 21.219822573619997\n",
      "Epoch  2 :- 13.822265588711415\n",
      "Epoch  3 :- 10.298879847415712\n",
      "Epoch  4 :- 8.072724837515603\n",
      "Epoch  5 :- 6.50859851229243\n",
      "Epoch  6 :- 5.349501408090067\n",
      "Epoch  7 :- 4.461425451399752\n",
      "Epoch  8 :- 3.764831418192184\n",
      "Epoch  9 :- 3.208640306724622\n",
      "Epoch  10 :- 2.758238795849928\n",
      "Epoch  11 :- 2.3892361752756806\n",
      "Epoch  12 :- 2.083925983256532\n",
      "Epoch  13 :- 1.829148716792564\n",
      "Epoch  14 :- 1.6149357197354797\n",
      "Epoch  15 :- 1.433614504999208\n",
      "Epoch  16 :- 1.2791995680239319\n",
      "Epoch  17 :- 1.1469666570973376\n",
      "Epoch  18 :- 1.033148698639995\n",
      "Epoch  19 :- 0.9347145517966347\n",
      "Epoch  20 :- 0.8492054338296129\n",
      "Epoch  21 :- 0.7746122775768458\n",
      "Epoch  22 :- 0.7092826288944335\n",
      "Epoch  23 :- 0.651849177470491\n",
      "Epoch  24 :- 0.6011743388666435\n",
      "Epoch  25 :- 0.5563068868659519\n",
      "Epoch  26 :- 0.5164477296764571\n",
      "Epoch  27 :- 0.48092269281853767\n",
      "Epoch  28 :- 0.44916071970163435\n",
      "Epoch  29 :- 0.42067629638714726\n",
      "Epoch  30 :- 0.3950551956085357\n",
      "Epoch  31 :- 0.3719428478805256\n",
      "Epoch  32 :- 0.3510348059132674\n",
      "Epoch  33 :- 0.33206888751690006\n",
      "Epoch  34 :- 0.31481867230254046\n",
      "Epoch  35 :- 0.29908809629719435\n",
      "Epoch  36 :- 0.28470694152660436\n",
      "Epoch  37 :- 0.27152705863417376\n",
      "Epoch  38 :- 0.259419192595586\n",
      "Epoch  39 :- 0.24827030670233224\n",
      "Epoch  40 :- 0.23798131982163948\n",
      "Epoch  41 :- 0.22846518769546195\n",
      "Epoch  42 :- 0.21964527162473793\n",
      "Epoch  43 :- 0.21145394798768277\n",
      "Epoch  44 :- 0.20383142019159203\n",
      "Epoch  45 :- 0.19672470126421587\n",
      "Epoch  46 :- 0.19008674066940479\n",
      "Epoch  47 :- 0.18387567332890767\n",
      "Epoch  48 :- 0.1780541724411648\n",
      "Epoch  49 :- 0.1725888906610053\n",
      "Epoch  50 :- 0.16744997666194197\n",
      "Epoch  51 :- 0.16261065614129133\n",
      "Epoch  52 :- 0.15804686802440868\n",
      "Epoch  53 :- 0.1537369480396076\n",
      "Epoch  54 :- 0.14966135301956052\n",
      "Epoch  55 :- 0.1458024202784861\n",
      "Epoch  56 :- 0.14214415724996318\n",
      "Epoch  57 :- 0.13867205727454135\n",
      "Epoch  58 :- 0.13537293802134315\n",
      "Epoch  59 :- 0.1322347995315904\n",
      "Epoch  60 :- 0.12924669929928032\n",
      "Epoch  61 :- 0.12639864216737315\n",
      "Epoch  62 :- 0.12368148312701101\n",
      "Epoch  63 :- 0.12108684137094927\n",
      "Epoch  64 :- 0.11860702417760433\n",
      "Epoch  65 :- 0.11623495939481313\n",
      "Epoch  66 :- 0.11396413545751369\n",
      "Epoch  67 :- 0.11178854801523411\n",
      "Epoch  68 :- 0.10970265236703629\n",
      "Epoch  69 :- 0.10770132100632404\n",
      "Epoch  70 :- 0.10577980566820572\n",
      "Epoch  71 :- 0.10393370334998818\n",
      "Epoch  72 :- 0.10215892584266999\n",
      "Epoch  73 :- 0.10045167236950492\n",
      "Epoch  74 :- 0.0988084049781179\n",
      "Epoch  75 :- 0.09722582637636674\n",
      "Epoch  76 :- 0.09570085994009413\n",
      "Epoch  77 :- 0.09423063165390165\n",
      "Epoch  78 :- 0.09281245377478961\n",
      "Epoch  79 :- 0.09144381003352038\n",
      "Epoch  80 :- 0.09012234221038651\n",
      "Epoch  81 :- 0.08884583794112753\n",
      "Epoch  82 :- 0.08761221962540502\n",
      "Epoch  83 :- 0.08641953432484195\n",
      "Epoch  84 :- 0.08526594455042238\n",
      "Epoch  85 :- 0.08414971985027477\n",
      "Epoch  86 :- 0.08306922911872852\n",
      "Epoch  87 :- 0.08202293355620945\n",
      "Epoch  88 :- 0.08100938021718675\n",
      "Epoch  89 :- 0.08002719609012335\n",
      "Epoch  90 :- 0.07907508265933627\n",
      "Epoch  91 :- 0.07815181090393437\n",
      "Epoch  92 :- 0.07725621669365994\n",
      "Epoch  93 :- 0.07638719654558812\n",
      "Epoch  94 :- 0.07554370370930208\n",
      "Epoch  95 :- 0.07472474455141577\n",
      "Epoch  96 :- 0.07392937521320997\n",
      "Epoch  97 :- 0.07315669851772748\n",
      "Epoch  98 :- 0.07240586110497119\n",
      "Epoch  99 :- 0.07167605077590057\n"
     ]
    }
   ],
   "source": [
    "loss=0\n",
    "for epoch in range(epochs):\n",
    "    pred_y = np.matmul(x_train,w)\n",
    "    loss = mse(pred_y,y_train)\n",
    "    print('Epoch ',epoch,':-',loss)\n",
    "    dw = derivative_w(pred_y,y_train,x_train)\n",
    "    w = w - lr*dw"
   ]
  },
  {
   "cell_type": "code",
   "execution_count": 34,
   "metadata": {},
   "outputs": [
    {
     "data": {
      "text/plain": [
       "(1460, 305)"
      ]
     },
     "execution_count": 34,
     "metadata": {},
     "output_type": "execute_result"
    }
   ],
   "source": [
    "x_train.shape"
   ]
  },
  {
   "cell_type": "code",
   "execution_count": 35,
   "metadata": {},
   "outputs": [],
   "source": [
    "def get_normalized_test_data(x_test,\n",
    "                             y_test,\n",
    "                             continuous_features,\n",
    "                             discrete_features,\n",
    "                             imputer,\n",
    "                             label_encoder_dict,\n",
    "                             onehotencoder,\n",
    "                             sc_X,\n",
    "                             sc_Y\n",
    "                            ):\n",
    "    x_test_continuous = x_test.filter(continuous_features)\n",
    "    x_test_discrete = x_test.filter(discrete_features)\n",
    "    \n",
    "    x_test_continuous = get_data_from_imputer(imputer,x_test_continuous)\n",
    "    \n",
    "    x_test_discrete = x_test_discrete.fillna('')\n",
    "    \n",
    "    x_test_discrete = get_discrete_encoder(label_encoder_dict,x_test_discrete)\n",
    "    \n",
    "    x = get_onehot_encoder(onehotencoder,x_test_continuous,x_test_discrete)\n",
    "    \n",
    "    x_test,y_test = get_normalized(sc_X,sc_Y,x,y_test)\n",
    "    \n",
    "    return x_test,y_test\n",
    "    "
   ]
  },
  {
   "cell_type": "code",
   "execution_count": 36,
   "metadata": {},
   "outputs": [],
   "source": [
    "x_test = pd.read_csv('test.csv')"
   ]
  },
  {
   "cell_type": "code",
   "execution_count": 37,
   "metadata": {},
   "outputs": [],
   "source": [
    "y_test = pd.read_csv('sample_submission.csv')"
   ]
  },
  {
   "cell_type": "code",
   "execution_count": 38,
   "metadata": {},
   "outputs": [],
   "source": [
    "y_test = y_test['SalePrice'].to_numpy()"
   ]
  },
  {
   "cell_type": "code",
   "execution_count": 39,
   "metadata": {},
   "outputs": [],
   "source": [
    "x_test, y_test = get_normalized_test_data(x_test,\n",
    "                             y_test,\n",
    "                             continuous_features,\n",
    "                             discrete_features,\n",
    "                             imputer,\n",
    "                             label_encoder_dict,\n",
    "                             onehotencoder,\n",
    "                             sc_X,\n",
    "                             sc_Y\n",
    "                            )"
   ]
  },
  {
   "cell_type": "code",
   "execution_count": 40,
   "metadata": {},
   "outputs": [],
   "source": [
    "pred_y = np.matmul(x_test,w)"
   ]
  },
  {
   "cell_type": "code",
   "execution_count": 41,
   "metadata": {},
   "outputs": [
    {
     "data": {
      "text/plain": [
       "1.0419742616912262"
      ]
     },
     "execution_count": 41,
     "metadata": {},
     "output_type": "execute_result"
    }
   ],
   "source": [
    "mse(pred_y,y_test)"
   ]
  },
  {
   "cell_type": "code",
   "execution_count": 42,
   "metadata": {},
   "outputs": [
    {
     "data": {
      "image/png": "[encoded data removed]",
      "text/plain": [
       "<Figure size 432x288 with 1 Axes>"
      ]
     },
     "metadata": {
      "needs_background": "light"
     },
     "output_type": "display_data"
    }
   ],
   "source": [
    "# plot of test data points\n",
    "plt.scatter(x_test.mean(1),y_test,color='k',label='data points')\n",
    "# plt.plot(x_test.mean(1),pred_y,'r',label='test',linewidth=2)\n",
    "\n",
    "plt.title('Data points')\n",
    "plt.xlabel('Input')\n",
    "plt.ylabel('Output')\n",
    "\n",
    "plt.legend()\n",
    "\n",
    "plt.grid(False)\n",
    "\n",
    "plt.show()"
   ]
  },
  {
   "cell_type": "code",
   "execution_count": 43,
   "metadata": {},
   "outputs": [
    {
     "data": {
      "image/png": "[encoded data removed]",
      "text/plain": [
       "<Figure size 432x288 with 1 Axes>"
      ]
     },
     "metadata": {
      "needs_background": "light"
     },
     "output_type": "display_data"
    }
   ],
   "source": [
    "# plot of test data points\n",
    "# plt.scatter(x_test.mean(1),y_test,color='k',label='data points')\n",
    "plt.plot(x_test.mean(1),pred_y,'r',label='test',linewidth=2)\n",
    "\n",
    "plt.title('Prediction curve')\n",
    "plt.xlabel('Input')\n",
    "plt.ylabel('Output')\n",
    "\n",
    "plt.legend()\n",
    "\n",
    "plt.grid(False)\n",
    "\n",
    "plt.show()"
   ]
  },
  {
   "cell_type": "code",
   "execution_count": 44,
   "metadata": {},
   "outputs": [
    {
     "data": {
      "image/png": "[encoded data removed]",
      "text/plain": [
       "<Figure size 432x288 with 1 Axes>"
      ]
     },
     "metadata": {
      "needs_background": "light"
     },
     "output_type": "display_data"
    }
   ],
   "source": [
    "# plot of test data points\n",
    "plt.scatter(x_test.mean(1),y_test,color='k',label='data points')\n",
    "plt.plot(x_test.mean(1),pred_y,'r',label='test',linewidth=2)\n",
    "\n",
    "plt.title('Prediction curve for test data points')\n",
    "plt.xlabel('Input')\n",
    "plt.ylabel('Output')\n",
    "\n",
    "plt.legend()\n",
    "\n",
    "plt.grid(False)\n",
    "\n",
    "plt.show()"
   ]
  },
  {
   "cell_type": "code",
   "execution_count": null,
   "metadata": {},
   "outputs": [],
   "source": []
  }
 ],
 "metadata": {
  "kernelspec": {
   "display_name": "Python 3",
   "language": "python",
   "name": "python3"
  },
  "language_info": {
   "codemirror_mode": {
    "name": "ipython",
    "version": 3
   },
   "file_extension": ".py",
   "mimetype": "text/x-python",
   "name": "python",
   "nbconvert_exporter": "python",
   "pygments_lexer": "ipython3",
   "version": "3.7.3"
  }
 },
 "nbformat": 4,
 "nbformat_minor": 2
}
