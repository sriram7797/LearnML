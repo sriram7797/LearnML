{
 "cells": [
  {
   "cell_type": "code",
   "execution_count": 1,
   "metadata": {},
   "outputs": [],
   "source": [
    "import warnings\n",
    "warnings.filterwarnings('ignore')\n",
    "import pandas as pd"
   ]
  },
  {
   "cell_type": "code",
   "execution_count": 2,
   "metadata": {},
   "outputs": [],
   "source": [
    "import numpy as np\n",
    "import matplotlib.pyplot as plt"
   ]
  },
  {
   "cell_type": "code",
   "execution_count": 3,
   "metadata": {},
   "outputs": [],
   "source": [
    "from sklearn.preprocessing import Imputer\n",
    "from sklearn.preprocessing import LabelEncoder\n",
    "from sklearn.preprocessing import OneHotEncoder\n",
    "from sklearn.preprocessing import StandardScaler"
   ]
  },
  {
   "cell_type": "code",
   "execution_count": 4,
   "metadata": {},
   "outputs": [],
   "source": [
    "from sklearn.decomposition import PCA"
   ]
  },
  {
   "cell_type": "code",
   "execution_count": 5,
   "metadata": {},
   "outputs": [],
   "source": [
    "dataset = pd.read_csv('train.csv')"
   ]
  },
  {
   "cell_type": "code",
   "execution_count": 6,
   "metadata": {},
   "outputs": [
    {
     "data": {
      "text/html": [
       "<div>\n",
       "<style scoped>\n",
       "    .dataframe tbody tr th:only-of-type {\n",
       "        vertical-align: middle;\n",
       "    }\n",
       "\n",
       "    .dataframe tbody tr th {\n",
       "        vertical-align: top;\n",
       "    }\n",
       "\n",
       "    .dataframe thead th {\n",
       "        text-align: right;\n",
       "    }\n",
       "</style>\n",
       "<table border=\"1\" class=\"dataframe\">\n",
       "  <thead>\n",
       "    <tr style=\"text-align: right;\">\n",
       "      <th></th>\n",
       "      <th>Id</th>\n",
       "      <th>MSSubClass</th>\n",
       "      <th>MSZoning</th>\n",
       "      <th>LotFrontage</th>\n",
       "      <th>LotArea</th>\n",
       "      <th>Street</th>\n",
       "      <th>Alley</th>\n",
       "      <th>LotShape</th>\n",
       "      <th>LandContour</th>\n",
       "      <th>Utilities</th>\n",
       "      <th>...</th>\n",
       "      <th>PoolArea</th>\n",
       "      <th>PoolQC</th>\n",
       "      <th>Fence</th>\n",
       "      <th>MiscFeature</th>\n",
       "      <th>MiscVal</th>\n",
       "      <th>MoSold</th>\n",
       "      <th>YrSold</th>\n",
       "      <th>SaleType</th>\n",
       "      <th>SaleCondition</th>\n",
       "      <th>SalePrice</th>\n",
       "    </tr>\n",
       "  </thead>\n",
       "  <tbody>\n",
       "    <tr>\n",
       "      <th>0</th>\n",
       "      <td>1</td>\n",
       "      <td>60</td>\n",
       "      <td>RL</td>\n",
       "      <td>65.0</td>\n",
       "      <td>8450</td>\n",
       "      <td>Pave</td>\n",
       "      <td>NaN</td>\n",
       "      <td>Reg</td>\n",
       "      <td>Lvl</td>\n",
       "      <td>AllPub</td>\n",
       "      <td>...</td>\n",
       "      <td>0</td>\n",
       "      <td>NaN</td>\n",
       "      <td>NaN</td>\n",
       "      <td>NaN</td>\n",
       "      <td>0</td>\n",
       "      <td>2</td>\n",
       "      <td>2008</td>\n",
       "      <td>WD</td>\n",
       "      <td>Normal</td>\n",
       "      <td>208500</td>\n",
       "    </tr>\n",
       "    <tr>\n",
       "      <th>1</th>\n",
       "      <td>2</td>\n",
       "      <td>20</td>\n",
       "      <td>RL</td>\n",
       "      <td>80.0</td>\n",
       "      <td>9600</td>\n",
       "      <td>Pave</td>\n",
       "      <td>NaN</td>\n",
       "      <td>Reg</td>\n",
       "      <td>Lvl</td>\n",
       "      <td>AllPub</td>\n",
       "      <td>...</td>\n",
       "      <td>0</td>\n",
       "      <td>NaN</td>\n",
       "      <td>NaN</td>\n",
       "      <td>NaN</td>\n",
       "      <td>0</td>\n",
       "      <td>5</td>\n",
       "      <td>2007</td>\n",
       "      <td>WD</td>\n",
       "      <td>Normal</td>\n",
       "      <td>181500</td>\n",
       "    </tr>\n",
       "    <tr>\n",
       "      <th>2</th>\n",
       "      <td>3</td>\n",
       "      <td>60</td>\n",
       "      <td>RL</td>\n",
       "      <td>68.0</td>\n",
       "      <td>11250</td>\n",
       "      <td>Pave</td>\n",
       "      <td>NaN</td>\n",
       "      <td>IR1</td>\n",
       "      <td>Lvl</td>\n",
       "      <td>AllPub</td>\n",
       "      <td>...</td>\n",
       "      <td>0</td>\n",
       "      <td>NaN</td>\n",
       "      <td>NaN</td>\n",
       "      <td>NaN</td>\n",
       "      <td>0</td>\n",
       "      <td>9</td>\n",
       "      <td>2008</td>\n",
       "      <td>WD</td>\n",
       "      <td>Normal</td>\n",
       "      <td>223500</td>\n",
       "    </tr>\n",
       "    <tr>\n",
       "      <th>3</th>\n",
       "      <td>4</td>\n",
       "      <td>70</td>\n",
       "      <td>RL</td>\n",
       "      <td>60.0</td>\n",
       "      <td>9550</td>\n",
       "      <td>Pave</td>\n",
       "      <td>NaN</td>\n",
       "      <td>IR1</td>\n",
       "      <td>Lvl</td>\n",
       "      <td>AllPub</td>\n",
       "      <td>...</td>\n",
       "      <td>0</td>\n",
       "      <td>NaN</td>\n",
       "      <td>NaN</td>\n",
       "      <td>NaN</td>\n",
       "      <td>0</td>\n",
       "      <td>2</td>\n",
       "      <td>2006</td>\n",
       "      <td>WD</td>\n",
       "      <td>Abnorml</td>\n",
       "      <td>140000</td>\n",
       "    </tr>\n",
       "    <tr>\n",
       "      <th>4</th>\n",
       "      <td>5</td>\n",
       "      <td>60</td>\n",
       "      <td>RL</td>\n",
       "      <td>84.0</td>\n",
       "      <td>14260</td>\n",
       "      <td>Pave</td>\n",
       "      <td>NaN</td>\n",
       "      <td>IR1</td>\n",
       "      <td>Lvl</td>\n",
       "      <td>AllPub</td>\n",
       "      <td>...</td>\n",
       "      <td>0</td>\n",
       "      <td>NaN</td>\n",
       "      <td>NaN</td>\n",
       "      <td>NaN</td>\n",
       "      <td>0</td>\n",
       "      <td>12</td>\n",
       "      <td>2008</td>\n",
       "      <td>WD</td>\n",
       "      <td>Normal</td>\n",
       "      <td>250000</td>\n",
       "    </tr>\n",
       "  </tbody>\n",
       "</table>\n",
       "<p>5 rows × 81 columns</p>\n",
       "</div>"
      ],
      "text/plain": [
       "   Id  MSSubClass MSZoning  LotFrontage  LotArea Street Alley LotShape  \\\n",
       "0   1          60       RL         65.0     8450   Pave   NaN      Reg   \n",
       "1   2          20       RL         80.0     9600   Pave   NaN      Reg   \n",
       "2   3          60       RL         68.0    11250   Pave   NaN      IR1   \n",
       "3   4          70       RL         60.0     9550   Pave   NaN      IR1   \n",
       "4   5          60       RL         84.0    14260   Pave   NaN      IR1   \n",
       "\n",
       "  LandContour Utilities  ... PoolArea PoolQC Fence MiscFeature MiscVal MoSold  \\\n",
       "0         Lvl    AllPub  ...        0    NaN   NaN         NaN       0      2   \n",
       "1         Lvl    AllPub  ...        0    NaN   NaN         NaN       0      5   \n",
       "2         Lvl    AllPub  ...        0    NaN   NaN         NaN       0      9   \n",
       "3         Lvl    AllPub  ...        0    NaN   NaN         NaN       0      2   \n",
       "4         Lvl    AllPub  ...        0    NaN   NaN         NaN       0     12   \n",
       "\n",
       "  YrSold  SaleType  SaleCondition  SalePrice  \n",
       "0   2008        WD         Normal     208500  \n",
       "1   2007        WD         Normal     181500  \n",
       "2   2008        WD         Normal     223500  \n",
       "3   2006        WD        Abnorml     140000  \n",
       "4   2008        WD         Normal     250000  \n",
       "\n",
       "[5 rows x 81 columns]"
      ]
     },
     "execution_count": 6,
     "metadata": {},
     "output_type": "execute_result"
    }
   ],
   "source": [
    "dataset.head()"
   ]
  },
  {
   "cell_type": "code",
   "execution_count": 7,
   "metadata": {},
   "outputs": [],
   "source": [
    "x_train = dataset.iloc[:,1:-1]"
   ]
  },
  {
   "cell_type": "code",
   "execution_count": 8,
   "metadata": {},
   "outputs": [],
   "source": [
    "y = dataset.iloc[:,-1].values"
   ]
  },
  {
   "cell_type": "code",
   "execution_count": 9,
   "metadata": {},
   "outputs": [],
   "source": [
    "# returns discrete and contiuous features\n",
    "\n",
    "def differentiate_features(x_train):\n",
    "    discrete_features = []\n",
    "    continuous_features = []\n",
    "    for i,j in zip(x_train,x_train.dtypes):\n",
    "        if j.type==np.int64 or j.type==np.float64:\n",
    "            continuous_features.append(i)\n",
    "        else:\n",
    "            discrete_features.append(i)\n",
    "    return discrete_features,continuous_features"
   ]
  },
  {
   "cell_type": "code",
   "execution_count": 10,
   "metadata": {},
   "outputs": [],
   "source": [
    "discrete_features,continuous_features = differentiate_features(x_train)"
   ]
  },
  {
   "cell_type": "code",
   "execution_count": 11,
   "metadata": {},
   "outputs": [
    {
     "data": {
      "text/plain": [
       "(['MSZoning', 'Street', 'Alley', 'LotShape', 'LandContour'],\n",
       " ['MSSubClass', 'LotFrontage', 'LotArea', 'OverallQual', 'OverallCond'])"
      ]
     },
     "execution_count": 11,
     "metadata": {},
     "output_type": "execute_result"
    }
   ],
   "source": [
    "discrete_features[:5],continuous_features[:5]"
   ]
  },
  {
   "cell_type": "code",
   "execution_count": 12,
   "metadata": {},
   "outputs": [
    {
     "data": {
      "text/plain": [
       "(43, 36, 79)"
      ]
     },
     "execution_count": 12,
     "metadata": {},
     "output_type": "execute_result"
    }
   ],
   "source": [
    "len(discrete_features),len(continuous_features),len(discrete_features)+len(continuous_features)"
   ]
  },
  {
   "cell_type": "code",
   "execution_count": 13,
   "metadata": {},
   "outputs": [],
   "source": [
    "# replaces NaN values in continuous features to MEAN value\n",
    "def get_imputer(x_continuous):\n",
    "    imputer = Imputer(missing_values = np.nan, strategy = 'mean', axis = 0)\n",
    "    imputer.fit(x_continuous)\n",
    "    return imputer"
   ]
  },
  {
   "cell_type": "code",
   "execution_count": 14,
   "metadata": {},
   "outputs": [
    {
     "name": "stderr",
     "output_type": "stream",
     "text": [
      "C:\\Users\\sappusamy\\AppData\\Local\\Continuum\\anaconda3\\envs\\sri\\lib\\site-packages\\sklearn\\utils\\deprecation.py:66: DeprecationWarning: Class Imputer is deprecated; Imputer was deprecated in version 0.20 and will be removed in 0.22. Import impute.SimpleImputer from sklearn instead.\n",
      "  warnings.warn(msg, category=DeprecationWarning)\n"
     ]
    }
   ],
   "source": [
    "x_continuous = dataset.filter(continuous_features).values\n",
    "imputer = get_imputer(x_continuous)"
   ]
  },
  {
   "cell_type": "code",
   "execution_count": 15,
   "metadata": {},
   "outputs": [],
   "source": [
    "def get_data_from_imputer(imputer,x_continuous):\n",
    "    x_continuous = imputer.transform(x_continuous)\n",
    "    return x_continuous"
   ]
  },
  {
   "cell_type": "code",
   "execution_count": 16,
   "metadata": {},
   "outputs": [],
   "source": [
    "x_continuous = get_data_from_imputer(imputer,x_continuous)"
   ]
  },
  {
   "cell_type": "code",
   "execution_count": 17,
   "metadata": {},
   "outputs": [
    {
     "data": {
      "text/plain": [
       "(1460, 36)"
      ]
     },
     "execution_count": 17,
     "metadata": {},
     "output_type": "execute_result"
    }
   ],
   "source": [
    "x_continuous.shape"
   ]
  },
  {
   "cell_type": "code",
   "execution_count": 18,
   "metadata": {},
   "outputs": [],
   "source": [
    "# creates object of LABEL ENCODER for each discrete varible\n",
    "# each unique categories are replaced with LABEL(index like 0,1,2...)\n",
    "def get_label_encoder(discrete_features,x_discrete):\n",
    "    label_encoder_dict={}\n",
    "    for col in discrete_features:\n",
    "        label_encoder_dict[col] = LabelEncoder()\n",
    "        x_discrete[col] = x_discrete[col].fillna('')\n",
    "        s = x_discrete[col].astype(str).unique()\n",
    "        if '' not in s: s = np.append(s,[''])\n",
    "        label_encoder_dict[col].fit(s)\n",
    "    return label_encoder_dict"
   ]
  },
  {
   "cell_type": "code",
   "execution_count": 19,
   "metadata": {},
   "outputs": [],
   "source": [
    "x_discrete = dataset.filter(discrete_features)"
   ]
  },
  {
   "cell_type": "code",
   "execution_count": 20,
   "metadata": {},
   "outputs": [],
   "source": [
    "label_encoder_dict = get_label_encoder(discrete_features,x_discrete)"
   ]
  },
  {
   "cell_type": "code",
   "execution_count": 21,
   "metadata": {},
   "outputs": [
    {
     "data": {
      "text/plain": [
       "43"
      ]
     },
     "execution_count": 21,
     "metadata": {},
     "output_type": "execute_result"
    }
   ],
   "source": [
    "len(label_encoder_dict)"
   ]
  },
  {
   "cell_type": "code",
   "execution_count": 22,
   "metadata": {},
   "outputs": [],
   "source": [
    "def get_discrete_encoder(label_encoder_dict,x_discrete):\n",
    "    for col in label_encoder_dict:\n",
    "        x_discrete[col] = label_encoder_dict[col].transform(x_discrete[col])\n",
    "    return x_discrete"
   ]
  },
  {
   "cell_type": "code",
   "execution_count": 23,
   "metadata": {},
   "outputs": [],
   "source": [
    "x_discrete = get_discrete_encoder(label_encoder_dict,x_discrete)"
   ]
  },
  {
   "cell_type": "code",
   "execution_count": 24,
   "metadata": {},
   "outputs": [
    {
     "data": {
      "text/html": [
       "<div>\n",
       "<style scoped>\n",
       "    .dataframe tbody tr th:only-of-type {\n",
       "        vertical-align: middle;\n",
       "    }\n",
       "\n",
       "    .dataframe tbody tr th {\n",
       "        vertical-align: top;\n",
       "    }\n",
       "\n",
       "    .dataframe thead th {\n",
       "        text-align: right;\n",
       "    }\n",
       "</style>\n",
       "<table border=\"1\" class=\"dataframe\">\n",
       "  <thead>\n",
       "    <tr style=\"text-align: right;\">\n",
       "      <th></th>\n",
       "      <th>MSZoning</th>\n",
       "      <th>Street</th>\n",
       "      <th>Alley</th>\n",
       "      <th>LotShape</th>\n",
       "      <th>LandContour</th>\n",
       "      <th>Utilities</th>\n",
       "      <th>LotConfig</th>\n",
       "      <th>LandSlope</th>\n",
       "      <th>Neighborhood</th>\n",
       "      <th>Condition1</th>\n",
       "      <th>...</th>\n",
       "      <th>GarageType</th>\n",
       "      <th>GarageFinish</th>\n",
       "      <th>GarageQual</th>\n",
       "      <th>GarageCond</th>\n",
       "      <th>PavedDrive</th>\n",
       "      <th>PoolQC</th>\n",
       "      <th>Fence</th>\n",
       "      <th>MiscFeature</th>\n",
       "      <th>SaleType</th>\n",
       "      <th>SaleCondition</th>\n",
       "    </tr>\n",
       "  </thead>\n",
       "  <tbody>\n",
       "    <tr>\n",
       "      <th>0</th>\n",
       "      <td>4</td>\n",
       "      <td>2</td>\n",
       "      <td>0</td>\n",
       "      <td>4</td>\n",
       "      <td>4</td>\n",
       "      <td>1</td>\n",
       "      <td>5</td>\n",
       "      <td>1</td>\n",
       "      <td>6</td>\n",
       "      <td>3</td>\n",
       "      <td>...</td>\n",
       "      <td>2</td>\n",
       "      <td>2</td>\n",
       "      <td>5</td>\n",
       "      <td>5</td>\n",
       "      <td>3</td>\n",
       "      <td>0</td>\n",
       "      <td>0</td>\n",
       "      <td>0</td>\n",
       "      <td>9</td>\n",
       "      <td>5</td>\n",
       "    </tr>\n",
       "    <tr>\n",
       "      <th>1</th>\n",
       "      <td>4</td>\n",
       "      <td>2</td>\n",
       "      <td>0</td>\n",
       "      <td>4</td>\n",
       "      <td>4</td>\n",
       "      <td>1</td>\n",
       "      <td>3</td>\n",
       "      <td>1</td>\n",
       "      <td>25</td>\n",
       "      <td>2</td>\n",
       "      <td>...</td>\n",
       "      <td>2</td>\n",
       "      <td>2</td>\n",
       "      <td>5</td>\n",
       "      <td>5</td>\n",
       "      <td>3</td>\n",
       "      <td>0</td>\n",
       "      <td>0</td>\n",
       "      <td>0</td>\n",
       "      <td>9</td>\n",
       "      <td>5</td>\n",
       "    </tr>\n",
       "    <tr>\n",
       "      <th>2</th>\n",
       "      <td>4</td>\n",
       "      <td>2</td>\n",
       "      <td>0</td>\n",
       "      <td>1</td>\n",
       "      <td>4</td>\n",
       "      <td>1</td>\n",
       "      <td>5</td>\n",
       "      <td>1</td>\n",
       "      <td>6</td>\n",
       "      <td>3</td>\n",
       "      <td>...</td>\n",
       "      <td>2</td>\n",
       "      <td>2</td>\n",
       "      <td>5</td>\n",
       "      <td>5</td>\n",
       "      <td>3</td>\n",
       "      <td>0</td>\n",
       "      <td>0</td>\n",
       "      <td>0</td>\n",
       "      <td>9</td>\n",
       "      <td>5</td>\n",
       "    </tr>\n",
       "    <tr>\n",
       "      <th>3</th>\n",
       "      <td>4</td>\n",
       "      <td>2</td>\n",
       "      <td>0</td>\n",
       "      <td>1</td>\n",
       "      <td>4</td>\n",
       "      <td>1</td>\n",
       "      <td>1</td>\n",
       "      <td>1</td>\n",
       "      <td>7</td>\n",
       "      <td>3</td>\n",
       "      <td>...</td>\n",
       "      <td>6</td>\n",
       "      <td>3</td>\n",
       "      <td>5</td>\n",
       "      <td>5</td>\n",
       "      <td>3</td>\n",
       "      <td>0</td>\n",
       "      <td>0</td>\n",
       "      <td>0</td>\n",
       "      <td>9</td>\n",
       "      <td>1</td>\n",
       "    </tr>\n",
       "    <tr>\n",
       "      <th>4</th>\n",
       "      <td>4</td>\n",
       "      <td>2</td>\n",
       "      <td>0</td>\n",
       "      <td>1</td>\n",
       "      <td>4</td>\n",
       "      <td>1</td>\n",
       "      <td>3</td>\n",
       "      <td>1</td>\n",
       "      <td>16</td>\n",
       "      <td>3</td>\n",
       "      <td>...</td>\n",
       "      <td>2</td>\n",
       "      <td>2</td>\n",
       "      <td>5</td>\n",
       "      <td>5</td>\n",
       "      <td>3</td>\n",
       "      <td>0</td>\n",
       "      <td>0</td>\n",
       "      <td>0</td>\n",
       "      <td>9</td>\n",
       "      <td>5</td>\n",
       "    </tr>\n",
       "  </tbody>\n",
       "</table>\n",
       "<p>5 rows × 43 columns</p>\n",
       "</div>"
      ],
      "text/plain": [
       "   MSZoning  Street  Alley  LotShape  LandContour  Utilities  LotConfig  \\\n",
       "0         4       2      0         4            4          1          5   \n",
       "1         4       2      0         4            4          1          3   \n",
       "2         4       2      0         1            4          1          5   \n",
       "3         4       2      0         1            4          1          1   \n",
       "4         4       2      0         1            4          1          3   \n",
       "\n",
       "   LandSlope  Neighborhood  Condition1  ...  GarageType  GarageFinish  \\\n",
       "0          1             6           3  ...           2             2   \n",
       "1          1            25           2  ...           2             2   \n",
       "2          1             6           3  ...           2             2   \n",
       "3          1             7           3  ...           6             3   \n",
       "4          1            16           3  ...           2             2   \n",
       "\n",
       "   GarageQual  GarageCond  PavedDrive  PoolQC  Fence  MiscFeature  SaleType  \\\n",
       "0           5           5           3       0      0            0         9   \n",
       "1           5           5           3       0      0            0         9   \n",
       "2           5           5           3       0      0            0         9   \n",
       "3           5           5           3       0      0            0         9   \n",
       "4           5           5           3       0      0            0         9   \n",
       "\n",
       "   SaleCondition  \n",
       "0              5  \n",
       "1              5  \n",
       "2              5  \n",
       "3              1  \n",
       "4              5  \n",
       "\n",
       "[5 rows x 43 columns]"
      ]
     },
     "execution_count": 24,
     "metadata": {},
     "output_type": "execute_result"
    }
   ],
   "source": [
    "x_discrete.head()"
   ]
  },
  {
   "cell_type": "code",
   "execution_count": 25,
   "metadata": {},
   "outputs": [
    {
     "data": {
      "text/plain": [
       "43"
      ]
     },
     "execution_count": 25,
     "metadata": {},
     "output_type": "execute_result"
    }
   ],
   "source": [
    "try:\n",
    "    n_discrete = x_discrete.shape[1]\n",
    "except:\n",
    "    n_discrete = 0\n",
    "n_discrete"
   ]
  },
  {
   "cell_type": "code",
   "execution_count": 26,
   "metadata": {},
   "outputs": [],
   "source": [
    "# ONE HOT ENCODER for feature i.e., [Male,Female]->[0,1] (Label encoder output)\n",
    "# which means 1 column expanded to 2 columns\n",
    "def generate_onehot_encoder(n_discrete):\n",
    "    onehotencoder = OneHotEncoder(categorical_features = list(range(n_discrete)))\n",
    "    onehotencoder.fit(x_discrete)\n",
    "    return onehotencoder"
   ]
  },
  {
   "cell_type": "code",
   "execution_count": 27,
   "metadata": {},
   "outputs": [
    {
     "name": "stderr",
     "output_type": "stream",
     "text": [
      "C:\\Users\\sappusamy\\AppData\\Local\\Continuum\\anaconda3\\envs\\sri\\lib\\site-packages\\sklearn\\preprocessing\\_encoders.py:450: DeprecationWarning: The 'categorical_features' keyword is deprecated in version 0.20 and will be removed in 0.22. You can use the ColumnTransformer instead.\n",
      "  \"use the ColumnTransformer instead.\", DeprecationWarning)\n"
     ]
    }
   ],
   "source": [
    "onehotencoder = generate_onehot_encoder(n_discrete)"
   ]
  },
  {
   "cell_type": "code",
   "execution_count": 28,
   "metadata": {},
   "outputs": [],
   "source": [
    "# returns 2 things\n",
    "# 1 - output of one hot encoder\n",
    "# 2 - concatenation of output of discrete and continuous features\n",
    "def get_onehot_encoder(onehotencoder,x_continuous,x_discrete):\n",
    "    x_discrete = onehotencoder.transform(x_discrete).toarray()\n",
    "    x = np.concatenate([x_continuous,x_discrete],axis=1)\n",
    "    return x,x_discrete"
   ]
  },
  {
   "cell_type": "code",
   "execution_count": 29,
   "metadata": {},
   "outputs": [],
   "source": [
    "x,x_discrete = get_onehot_encoder(onehotencoder,x_continuous,x_discrete)"
   ]
  },
  {
   "cell_type": "code",
   "execution_count": 30,
   "metadata": {},
   "outputs": [
    {
     "data": {
      "text/plain": [
       "(array([[0., 0., 0., ..., 0., 1., 0.],\n",
       "        [0., 0., 0., ..., 0., 1., 0.],\n",
       "        [0., 0., 0., ..., 0., 1., 0.],\n",
       "        ...,\n",
       "        [0., 0., 0., ..., 0., 1., 0.],\n",
       "        [0., 0., 0., ..., 0., 1., 0.],\n",
       "        [0., 0., 0., ..., 0., 1., 0.]]), (1460, 268))"
      ]
     },
     "execution_count": 30,
     "metadata": {},
     "output_type": "execute_result"
    }
   ],
   "source": [
    "x_discrete,x_discrete.shape"
   ]
  },
  {
   "cell_type": "code",
   "execution_count": 31,
   "metadata": {},
   "outputs": [
    {
     "data": {
      "text/plain": [
       "(1460, 304)"
      ]
     },
     "execution_count": 31,
     "metadata": {},
     "output_type": "execute_result"
    }
   ],
   "source": [
    "x.shape"
   ]
  },
  {
   "cell_type": "code",
   "execution_count": 32,
   "metadata": {},
   "outputs": [],
   "source": [
    "# 43 discrete features has been expanded to 268 features\n",
    "# 36 - continuous features\n",
    "# totally 268+36=304 features"
   ]
  },
  {
   "cell_type": "code",
   "execution_count": 33,
   "metadata": {},
   "outputs": [],
   "source": [
    "# standarize the input features\n",
    "# x = (x-mean(x))/std_deviation(x)\n",
    "\n",
    "def get_standardscaler(x,y):\n",
    "    sc_X = StandardScaler()\n",
    "    sc_X.fit(x)\n",
    "    sc_y = StandardScaler()\n",
    "    sc_y.fit(y.reshape(-1,1))\n",
    "    return sc_X,sc_y"
   ]
  },
  {
   "cell_type": "code",
   "execution_count": 34,
   "metadata": {},
   "outputs": [],
   "source": [
    "sc_X,sc_Y = get_standardscaler(x,y)"
   ]
  },
  {
   "cell_type": "code",
   "execution_count": 35,
   "metadata": {},
   "outputs": [],
   "source": [
    "def get_normalized(sc_X,sc_Y,x,y):\n",
    "    x = sc_X.transform(x)\n",
    "    y = sc_Y.transform(y.reshape(-1,1))\n",
    "    return x,y.reshape(-1)"
   ]
  },
  {
   "cell_type": "code",
   "execution_count": 36,
   "metadata": {},
   "outputs": [],
   "source": [
    "x_train,y_train = get_normalized(sc_X,sc_Y,x,y)"
   ]
  },
  {
   "cell_type": "code",
   "execution_count": 37,
   "metadata": {},
   "outputs": [
    {
     "data": {
      "text/plain": [
       "array([ 0.34727322,  0.00728832,  0.53615372, ...,  1.07761115,\n",
       "       -0.48852299, -0.42084081])"
      ]
     },
     "execution_count": 37,
     "metadata": {},
     "output_type": "execute_result"
    }
   ],
   "source": [
    "y_train"
   ]
  },
  {
   "cell_type": "code",
   "execution_count": 38,
   "metadata": {},
   "outputs": [],
   "source": [
    "x_train = np.concatenate([np.ones((len(x_train),1)),x_train],axis=1)"
   ]
  },
  {
   "cell_type": "code",
   "execution_count": 39,
   "metadata": {},
   "outputs": [
    {
     "data": {
      "text/plain": [
       "305"
      ]
     },
     "execution_count": 39,
     "metadata": {},
     "output_type": "execute_result"
    }
   ],
   "source": [
    "num_features = x_train.shape[1]\n",
    "num_features"
   ]
  },
  {
   "cell_type": "code",
   "execution_count": 40,
   "metadata": {},
   "outputs": [],
   "source": [
    "#root mean square error\n",
    "def rmse(preds,actual):\n",
    "    return ((preds-actual)**2).sum()/(2*len(preds))"
   ]
  },
  {
   "cell_type": "code",
   "execution_count": 41,
   "metadata": {},
   "outputs": [],
   "source": [
    "#cost function with regularization\n",
    "def loss_fn(preds,actual,weight):\n",
    "    return ((preds-actual)**2).sum()/(2*len(preds)) + (rp*np.square(weight).sum())"
   ]
  },
  {
   "cell_type": "code",
   "execution_count": 42,
   "metadata": {},
   "outputs": [],
   "source": [
    "#optimize function - derivative with regularization\n",
    "def optimize(y,y_train,x_train,lr,rp,weight):\n",
    "    weight[0] = weight[0]-lr*np.matmul((y-y_train),x_train[:,0])/len(x_train)\n",
    "    weight[1:] = (weight[1:]*(1-(lr*rp/len(x_train)))) - lr*np.matmul((y-y_train),x_train[:,1:])/len(x_train)\n",
    "    return weight"
   ]
  },
  {
   "cell_type": "code",
   "execution_count": 43,
   "metadata": {},
   "outputs": [],
   "source": [
    "epochs = 100\n",
    "w = np.random.uniform(low=-0.1,high=0.1,size=(num_features))\n",
    "# w = np.random.randn((num_features))*np.sqrt(2/(1+num_features))\n",
    "lr = 1e-1\n",
    "rp = 1e-4"
   ]
  },
  {
   "cell_type": "code",
   "execution_count": 44,
   "metadata": {},
   "outputs": [
    {
     "name": "stdout",
     "output_type": "stream",
     "text": [
      "Epoch  0 :- 0.7191300882172751\n",
      "Epoch  1 :- 0.4668236047107748\n",
      "Epoch  2 :- 0.3628611073046162\n",
      "Epoch  3 :- 0.2947263878660034\n",
      "Epoch  4 :- 0.24533464958186552\n",
      "Epoch  5 :- 0.20799645157602129\n",
      "Epoch  6 :- 0.17897278513573994\n",
      "Epoch  7 :- 0.15596978622931262\n",
      "Epoch  8 :- 0.13743571120975887\n",
      "Epoch  9 :- 0.12232759269068973\n",
      "Epoch  10 :- 0.10987089493734109\n",
      "Epoch  11 :- 0.09952346162666394\n",
      "Epoch  12 :- 0.09085309852097753\n",
      "Epoch  13 :- 0.08355260871418402\n",
      "Epoch  14 :- 0.07736142810735111\n",
      "Epoch  15 :- 0.0720946572949349\n",
      "Epoch  16 :- 0.06758597291995463\n",
      "Epoch  17 :- 0.06371908246596907\n",
      "Epoch  18 :- 0.060383101873118766\n",
      "Epoch  19 :- 0.0575024826626874\n",
      "Epoch  20 :- 0.0550007719502095\n",
      "Epoch  21 :- 0.05282771345259615\n",
      "Epoch  22 :- 0.05092918307140145\n",
      "Epoch  23 :- 0.04927117442708518\n",
      "Epoch  24 :- 0.047814552963498944\n",
      "Epoch  25 :- 0.046536032817018576\n",
      "Epoch  26 :- 0.04540682455986381\n",
      "Epoch  27 :- 0.044410858563970756\n",
      "Epoch  28 :- 0.04352664644108601\n",
      "Epoch  29 :- 0.04274304939762716\n",
      "Epoch  30 :- 0.04204382673597125\n",
      "Epoch  31 :- 0.04142124592769806\n",
      "Epoch  32 :- 0.040862896018658654\n",
      "Epoch  33 :- 0.040363415665221516\n",
      "Epoch  34 :- 0.039913225448991466\n",
      "Epoch  35 :- 0.039508622907151326\n",
      "Epoch  36 :- 0.0391421461107525\n",
      "Epoch  37 :- 0.03881125627303201\n",
      "Epoch  38 :- 0.03851009122721053\n",
      "Epoch  39 :- 0.03823692898996293\n",
      "Epoch  40 :- 0.03798712736540658\n",
      "Epoch  41 :- 0.03775953690572582\n",
      "Epoch  42 :- 0.03755045389049663\n",
      "Epoch  43 :- 0.03735912879663724\n",
      "Epoch  44 :- 0.03718258578137078\n",
      "Epoch  45 :- 0.03702035304826351\n",
      "Epoch  46 :- 0.03687002371018317\n",
      "Epoch  47 :- 0.03673131716151173\n",
      "Epoch  48 :- 0.036602274567560364\n",
      "Epoch  49 :- 0.036482745305375486\n",
      "Epoch  50 :- 0.03637112589920136\n",
      "Epoch  51 :- 0.03626735253570545\n",
      "Epoch  52 :- 0.03617010550170772\n",
      "Epoch  53 :- 0.03607937748083606\n",
      "Epoch  54 :- 0.03599407682216334\n",
      "Epoch  55 :- 0.0359142315664257\n",
      "Epoch  56 :- 0.03583893448782719\n",
      "Epoch  57 :- 0.03576823438112926\n",
      "Epoch  58 :- 0.03570137402689209\n",
      "Epoch  59 :- 0.0356384130192193\n",
      "Epoch  60 :- 0.03557871681864631\n",
      "Epoch  61 :- 0.03552234915793553\n",
      "Epoch  62 :- 0.03546877634445699\n",
      "Epoch  63 :- 0.035418061911216346\n",
      "Epoch  64 :- 0.03536975546192167\n",
      "Epoch  65 :- 0.035323917616894476\n",
      "Epoch  66 :- 0.03528016708610278\n",
      "Epoch  67 :- 0.03523855999088569\n",
      "Epoch  68 :- 0.03519877261087929\n",
      "Epoch  69 :- 0.0351608557525423\n",
      "Epoch  70 :- 0.03512453383681144\n",
      "Epoch  71 :- 0.03508985205636734\n",
      "Epoch  72 :- 0.03505657523014511\n",
      "Epoch  73 :- 0.0350247429758633\n",
      "Epoch  74 :- 0.034994154121804164\n",
      "Epoch  75 :- 0.034964842961328346\n",
      "Epoch  76 :- 0.034936637038501986\n",
      "Epoch  77 :- 0.03490956569714215\n",
      "Epoch  78 :- 0.034883480793496596\n",
      "Epoch  79 :- 0.03485840716076483\n",
      "Epoch  80 :- 0.034834217290674645\n",
      "Epoch  81 :- 0.03481093196836077\n",
      "Epoch  82 :- 0.03478844124086506\n",
      "Epoch  83 :- 0.03476676230487518\n",
      "Epoch  84 :- 0.034745800174311905\n",
      "Epoch  85 :- 0.03472556889734867\n",
      "Epoch  86 :- 0.03470598627337301\n",
      "Epoch  87 :- 0.03468706361239032\n",
      "Epoch  88 :- 0.03466872965605002\n",
      "Epoch  89 :- 0.03465099335176531\n",
      "Epoch  90 :- 0.034633792822272004\n",
      "Epoch  91 :- 0.034617134991205036\n",
      "Epoch  92 :- 0.03460096603716834\n",
      "Epoch  93 :- 0.034585291162184964\n",
      "Epoch  94 :- 0.03457006347351788\n",
      "Epoch  95 :- 0.0345552867185495\n",
      "Epoch  96 :- 0.03454091997261849\n",
      "Epoch  97 :- 0.03452696576249504\n",
      "Epoch  98 :- 0.034513388311584216\n",
      "Epoch  99 :- 0.03450018912980937\n"
     ]
    }
   ],
   "source": [
    "loss=0\n",
    "for epoch in range(epochs):\n",
    "    pred_y = np.matmul(x_train,w)\n",
    "    loss = loss_fn(pred_y,y_train,w)\n",
    "    print('Epoch ',epoch,':-',loss)\n",
    "    w = optimize(pred_y,y_train,x_train,lr,rp,w)"
   ]
  },
  {
   "cell_type": "code",
   "execution_count": 45,
   "metadata": {},
   "outputs": [
    {
     "data": {
      "text/plain": [
       "(1460, 305)"
      ]
     },
     "execution_count": 45,
     "metadata": {},
     "output_type": "execute_result"
    }
   ],
   "source": [
    "x_train.shape"
   ]
  },
  {
   "cell_type": "code",
   "execution_count": 46,
   "metadata": {},
   "outputs": [],
   "source": [
    "def get_normalized_test_data(x_test,\n",
    "                             y_test,\n",
    "                             continuous_features,\n",
    "                             discrete_features,\n",
    "                             imputer,\n",
    "                             label_encoder_dict,\n",
    "                             onehotencoder,\n",
    "                             sc_X,\n",
    "                             sc_Y\n",
    "                            ):\n",
    "    x_test_continuous = x_test.filter(continuous_features)\n",
    "    x_test_discrete = x_test.filter(discrete_features)\n",
    "    \n",
    "    x_test_continuous = get_data_from_imputer(imputer,x_test_continuous)\n",
    "    \n",
    "    x_test_discrete = x_test_discrete.fillna('')\n",
    "    \n",
    "    x_test_discrete = get_discrete_encoder(label_encoder_dict,x_test_discrete)\n",
    "    \n",
    "    x,_ = get_onehot_encoder(onehotencoder,x_test_continuous,x_test_discrete)\n",
    "    \n",
    "    x_test,y_test = get_normalized(sc_X,sc_Y,x,y_test)\n",
    "    \n",
    "    x_test = np.concatenate([np.ones((len(x_test),1)),x_test],axis=1)\n",
    "    \n",
    "    return x_test,y_test\n",
    "    "
   ]
  },
  {
   "cell_type": "code",
   "execution_count": 47,
   "metadata": {},
   "outputs": [],
   "source": [
    "x_test = pd.read_csv('test.csv')"
   ]
  },
  {
   "cell_type": "code",
   "execution_count": 48,
   "metadata": {},
   "outputs": [],
   "source": [
    "y_test = pd.read_csv('sample_submission.csv')"
   ]
  },
  {
   "cell_type": "code",
   "execution_count": 49,
   "metadata": {},
   "outputs": [],
   "source": [
    "y_test = y_test['SalePrice'].to_numpy()"
   ]
  },
  {
   "cell_type": "code",
   "execution_count": 50,
   "metadata": {},
   "outputs": [],
   "source": [
    "x_test, y_test = get_normalized_test_data(x_test,\n",
    "                             y_test,\n",
    "                             continuous_features,\n",
    "                             discrete_features,\n",
    "                             imputer,\n",
    "                             label_encoder_dict,\n",
    "                             onehotencoder,\n",
    "                             sc_X,\n",
    "                             sc_Y\n",
    "                            )"
   ]
  },
  {
   "cell_type": "code",
   "execution_count": 51,
   "metadata": {},
   "outputs": [],
   "source": [
    "pred_y = np.matmul(x_test,w)"
   ]
  },
  {
   "cell_type": "code",
   "execution_count": 52,
   "metadata": {},
   "outputs": [
    {
     "data": {
      "text/plain": [
       "0.4687165865017847"
      ]
     },
     "execution_count": 52,
     "metadata": {},
     "output_type": "execute_result"
    }
   ],
   "source": [
    "rmse(pred_y,y_test)"
   ]
  },
  {
   "cell_type": "code",
   "execution_count": null,
   "metadata": {},
   "outputs": [],
   "source": []
  },
  {
   "cell_type": "code",
   "execution_count": 53,
   "metadata": {},
   "outputs": [
    {
     "data": {
      "image/png": "[encoded data removed]",
      "text/plain": [
       "<Figure size 432x288 with 1 Axes>"
      ]
     },
     "metadata": {
      "needs_background": "light"
     },
     "output_type": "display_data"
    }
   ],
   "source": [
    "# plot of test data points\n",
    "plt.scatter(x_test.mean(1),y_test,color='k',label='data points')\n",
    "# plt.plot(x_test.mean(1),pred_y,'r',label='test',linewidth=2)\n",
    "\n",
    "plt.title('Data points')\n",
    "plt.xlabel('Input')\n",
    "plt.ylabel('Output')\n",
    "\n",
    "plt.legend()\n",
    "\n",
    "plt.grid(False)\n",
    "\n",
    "plt.show()"
   ]
  },
  {
   "cell_type": "code",
   "execution_count": 54,
   "metadata": {},
   "outputs": [
    {
     "data": {
      "image/png": "[encoded data removed]",
      "text/plain": [
       "<Figure size 432x288 with 1 Axes>"
      ]
     },
     "metadata": {
      "needs_background": "light"
     },
     "output_type": "display_data"
    }
   ],
   "source": [
    "# plot of test data points\n",
    "# plt.scatter(x_test.mean(1),y_test,color='k',label='data points')\n",
    "plt.plot(x_test.mean(1),pred_y,'r',label='test',linewidth=2)\n",
    "\n",
    "plt.title('Prediction curve')\n",
    "plt.xlabel('Input')\n",
    "plt.ylabel('Output')\n",
    "\n",
    "plt.legend()\n",
    "\n",
    "plt.grid(False)\n",
    "\n",
    "plt.show()"
   ]
  },
  {
   "cell_type": "code",
   "execution_count": 55,
   "metadata": {},
   "outputs": [
    {
     "data": {
      "image/png": "[encoded data removed]",
      "text/plain": [
       "<Figure size 432x288 with 1 Axes>"
      ]
     },
     "metadata": {
      "needs_background": "light"
     },
     "output_type": "display_data"
    }
   ],
   "source": [
    "# plot of test data points\n",
    "plt.scatter(x_test.mean(1),y_test,color='k',label='data points')\n",
    "plt.plot(x_test.mean(1),pred_y,'r',label='test',linewidth=2)\n",
    "\n",
    "plt.title('Prediction curve for test data points')\n",
    "plt.xlabel('Input')\n",
    "plt.ylabel('Output')\n",
    "\n",
    "plt.legend()\n",
    "\n",
    "plt.grid(False)\n",
    "\n",
    "plt.show()"
   ]
  },
  {
   "cell_type": "code",
   "execution_count": null,
   "metadata": {},
   "outputs": [],
   "source": []
  },
  {
   "cell_type": "code",
   "execution_count": null,
   "metadata": {},
   "outputs": [],
   "source": []
  }
 ],
 "metadata": {
  "kernelspec": {
   "display_name": "Python 3",
   "language": "python",
   "name": "python3"
  },
  "language_info": {
   "codemirror_mode": {
    "name": "ipython",
    "version": 3
   },
   "file_extension": ".py",
   "mimetype": "text/x-python",
   "name": "python",
   "nbconvert_exporter": "python",
   "pygments_lexer": "ipython3",
   "version": "3.7.3"
  }
 },
 "nbformat": 4,
 "nbformat_minor": 2
}
