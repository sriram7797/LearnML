{
 "cells": [
  {
   "cell_type": "code",
   "execution_count": 1,
   "metadata": {},
   "outputs": [],
   "source": [
    "import warnings\n",
    "warnings.filterwarnings('ignore')\n",
    "import pandas as pd\n",
    "import numpy as np\n",
    "from collections import defaultdict"
   ]
  },
  {
   "cell_type": "code",
   "execution_count": 2,
   "metadata": {},
   "outputs": [],
   "source": [
    "x_train = pd.read_csv('train.csv')"
   ]
  },
  {
   "cell_type": "code",
   "execution_count": 3,
   "metadata": {},
   "outputs": [
    {
     "data": {
      "text/plain": [
       "(1460, 81)"
      ]
     },
     "execution_count": 3,
     "metadata": {},
     "output_type": "execute_result"
    }
   ],
   "source": [
    "x_train.shape"
   ]
  },
  {
   "cell_type": "code",
   "execution_count": 4,
   "metadata": {},
   "outputs": [],
   "source": [
    "del x_train['Id']"
   ]
  },
  {
   "cell_type": "code",
   "execution_count": 5,
   "metadata": {},
   "outputs": [],
   "source": [
    "y_train = x_train['SalePrice']"
   ]
  },
  {
   "cell_type": "code",
   "execution_count": 6,
   "metadata": {},
   "outputs": [],
   "source": [
    "del x_train['SalePrice']"
   ]
  },
  {
   "cell_type": "code",
   "execution_count": 7,
   "metadata": {},
   "outputs": [],
   "source": [
    "y_train = y_train.to_numpy()"
   ]
  },
  {
   "cell_type": "code",
   "execution_count": 8,
   "metadata": {},
   "outputs": [
    {
     "data": {
      "text/plain": [
       "(1460,)"
      ]
     },
     "execution_count": 8,
     "metadata": {},
     "output_type": "execute_result"
    }
   ],
   "source": [
    "y_train.shape"
   ]
  },
  {
   "cell_type": "code",
   "execution_count": 9,
   "metadata": {},
   "outputs": [],
   "source": [
    "def differentiate_features(x_train):\n",
    "    discrete_features = []\n",
    "    continuous_features = []\n",
    "    for i,j in zip(x_train,x_train.dtypes):\n",
    "        if j.type==np.int64 or j.type==np.float64:\n",
    "            continuous_features.append(i)\n",
    "        else:\n",
    "            discrete_features.append(i)\n",
    "    return discrete_features,continuous_features"
   ]
  },
  {
   "cell_type": "code",
   "execution_count": 10,
   "metadata": {},
   "outputs": [],
   "source": [
    "discrete_features,continuous_features = differentiate_features(x_train)"
   ]
  },
  {
   "cell_type": "code",
   "execution_count": 11,
   "metadata": {},
   "outputs": [],
   "source": [
    "def generate_index_map(x_train,discrete_features):\n",
    "    index_map = {}\n",
    "    for i in x_train.filter(discrete_features):\n",
    "        index_map[i]={}\n",
    "        for item in x_train[i].fillna('').unique():\n",
    "            if item!='' and item.lower() not in index_map[i]:\n",
    "                index_map[i][item.lower()] = len(index_map[i]) + 1\n",
    "    return index_map"
   ]
  },
  {
   "cell_type": "code",
   "execution_count": 12,
   "metadata": {},
   "outputs": [],
   "source": [
    "index_map = generate_index_map(x_train,discrete_features)"
   ]
  },
  {
   "cell_type": "code",
   "execution_count": 13,
   "metadata": {},
   "outputs": [],
   "source": [
    "def generate_feature_mean(x_train,continuous_features,discrete_features,index_map):\n",
    "    feat_mean_dict = {}\n",
    "    for col in continuous_features:\n",
    "        feat_mean_dict[col] = x_train[col].mean()\n",
    "    for col in discrete_features:\n",
    "        feat_mean_dict[col] = sum(list(index_map[col].values()))/len(index_map[col])\n",
    "    return feat_mean_dict"
   ]
  },
  {
   "cell_type": "code",
   "execution_count": 14,
   "metadata": {},
   "outputs": [],
   "source": [
    "feat_mean_dict = generate_feature_mean(x_train,continuous_features,discrete_features,index_map)"
   ]
  },
  {
   "cell_type": "code",
   "execution_count": 15,
   "metadata": {},
   "outputs": [],
   "source": [
    "def remove_noise_cont_feature(data,continuous_features,feat_mean_dict):\n",
    "    for col in continuous_features:\n",
    "        data = data.fillna(value={col:feat_mean_dict[col]})\n",
    "    return data"
   ]
  },
  {
   "cell_type": "code",
   "execution_count": 16,
   "metadata": {},
   "outputs": [],
   "source": [
    "x_train = remove_noise_cont_feature(x_train,continuous_features,feat_mean_dict)"
   ]
  },
  {
   "cell_type": "code",
   "execution_count": 17,
   "metadata": {},
   "outputs": [],
   "source": [
    "def remove_noise_disc_feature(data,discrete_features,feat_mean_dict,index_map):\n",
    "    for col in discrete_features:\n",
    "        data[col] = data[col].fillna('').apply(lambda x: index_map[col][x.lower()] if x.lower() in index_map[col] else feat_mean_dict[col])\n",
    "    return data"
   ]
  },
  {
   "cell_type": "code",
   "execution_count": 18,
   "metadata": {},
   "outputs": [],
   "source": [
    "x_train = remove_noise_disc_feature(x_train,discrete_features,feat_mean_dict,index_map)"
   ]
  },
  {
   "cell_type": "code",
   "execution_count": 19,
   "metadata": {},
   "outputs": [],
   "source": [
    "def get_feature_mean(x_train,feat_mean_dict):\n",
    "    feature_mean = []\n",
    "    for col in x_train.columns:\n",
    "        try:\n",
    "            feature_mean.append(feat_mean_dict[col])\n",
    "        except:\n",
    "            feature_mean.append(feat_mean_dict[col])\n",
    "\n",
    "    feature_mean = np.array(feature_mean)\n",
    "    return feature_mean"
   ]
  },
  {
   "cell_type": "code",
   "execution_count": 20,
   "metadata": {},
   "outputs": [],
   "source": [
    "feature_mean = get_feature_mean(x_train,feat_mean_dict)"
   ]
  },
  {
   "cell_type": "code",
   "execution_count": 21,
   "metadata": {},
   "outputs": [],
   "source": [
    "x = x_train.to_numpy()"
   ]
  },
  {
   "cell_type": "code",
   "execution_count": 24,
   "metadata": {},
   "outputs": [],
   "source": [
    "xstd = x.mean(0)"
   ]
  },
  {
   "cell_type": "code",
   "execution_count": 26,
   "metadata": {},
   "outputs": [],
   "source": [
    "x = (x - feature_mean)/xstd"
   ]
  },
  {
   "cell_type": "code",
   "execution_count": 27,
   "metadata": {},
   "outputs": [
    {
     "data": {
      "text/plain": [
       "(1460, 79)"
      ]
     },
     "execution_count": 27,
     "metadata": {},
     "output_type": "execute_result"
    }
   ],
   "source": [
    "x.shape"
   ]
  },
  {
   "cell_type": "code",
   "execution_count": 28,
   "metadata": {},
   "outputs": [],
   "source": [
    "x = np.concatenate([np.ones((len(x),1)),x],axis=1)"
   ]
  },
  {
   "cell_type": "code",
   "execution_count": 29,
   "metadata": {},
   "outputs": [
    {
     "data": {
      "text/plain": [
       "(1460, 80)"
      ]
     },
     "execution_count": 29,
     "metadata": {},
     "output_type": "execute_result"
    }
   ],
   "source": [
    "m,n = x.shape\n",
    "m,n"
   ]
  },
  {
   "cell_type": "code",
   "execution_count": 30,
   "metadata": {},
   "outputs": [
    {
     "data": {
      "text/plain": [
       "(180921.19589041095, 79415.29188606751)"
      ]
     },
     "execution_count": 30,
     "metadata": {},
     "output_type": "execute_result"
    }
   ],
   "source": [
    "ymean = y_train.mean()\n",
    "ystd = y_train.std()\n",
    "ymean,ystd"
   ]
  },
  {
   "cell_type": "code",
   "execution_count": 31,
   "metadata": {},
   "outputs": [],
   "source": [
    "y_train = (y_train-y_train.mean())/y_train.std()"
   ]
  },
  {
   "cell_type": "code",
   "execution_count": 32,
   "metadata": {},
   "outputs": [],
   "source": [
    "# mean square error\n",
    "def mse(preds,actual):\n",
    "    return ((preds-actual)**2).sum()/(2*len(preds))"
   ]
  },
  {
   "cell_type": "code",
   "execution_count": 33,
   "metadata": {},
   "outputs": [],
   "source": [
    "def derivative_w(y,y_train,x):\n",
    "    dw = np.matmul((y-y_train),x)/m\n",
    "    return dw"
   ]
  },
  {
   "cell_type": "code",
   "execution_count": 46,
   "metadata": {},
   "outputs": [],
   "source": [
    "epochs = 100\n",
    "w = np.random.random((n))\n",
    "lr = 1e-3"
   ]
  },
  {
   "cell_type": "code",
   "execution_count": 47,
   "metadata": {},
   "outputs": [
    {
     "name": "stdout",
     "output_type": "stream",
     "text": [
      "Epoch  0 :- 437.0589237772281\n",
      "Epoch  1 :- 336.3207925489368\n",
      "Epoch  2 :- 263.3260262334873\n",
      "Epoch  3 :- 209.34598654282442\n",
      "Epoch  4 :- 168.64929000973493\n",
      "Epoch  5 :- 137.4203392876566\n",
      "Epoch  6 :- 113.0782670254786\n",
      "Epoch  7 :- 93.84609869884237\n",
      "Epoch  8 :- 78.47664883986819\n",
      "Epoch  9 :- 66.07688981387355\n",
      "Epoch  10 :- 55.99442693709622\n",
      "Epoch  11 :- 47.74333428565249\n",
      "Epoch  12 :- 40.955087937152335\n",
      "Epoch  13 :- 35.345623145496965\n",
      "Epoch  14 :- 30.692846480518206\n",
      "Epoch  15 :- 26.821002892840404\n",
      "Epoch  16 :- 23.589596641301394\n",
      "Epoch  17 :- 20.885383485773193\n",
      "Epoch  18 :- 18.61646956156713\n",
      "Epoch  19 :- 16.707882043482652\n",
      "Epoch  20 :- 15.098187998669035\n",
      "Epoch  21 :- 13.736874390620159\n",
      "Epoch  22 :- 12.582291367565396\n",
      "Epoch  23 :- 11.600019902800655\n",
      "Epoch  24 :- 10.761564354731876\n",
      "Epoch  25 :- 10.04329741133575\n",
      "Epoch  26 :- 9.425603519173702\n",
      "Epoch  27 :- 8.892180048559302\n",
      "Epoch  28 :- 8.42946490482084\n",
      "Epoch  29 :- 8.026166226456905\n",
      "Epoch  30 :- 7.67287498160732\n",
      "Epoch  31 :- 7.361745196303319\n",
      "Epoch  32 :- 7.0862295676996485\n",
      "Epoch  33 :- 6.840860571146801\n",
      "Epoch  34 :- 6.621069028310269\n",
      "Epoch  35 :- 6.4230335834886105\n",
      "Epoch  36 :- 6.243555723158479\n",
      "Epoch  37 :- 6.079955933392947\n",
      "Epoch  38 :- 5.929987369118305\n",
      "Epoch  39 :- 5.791764044792005\n",
      "Epoch  40 :- 5.663701076313333\n",
      "Epoch  41 :- 5.544464930981281\n",
      "Epoch  42 :- 5.432931993616266\n",
      "Epoch  43 :- 5.3281540465405355\n",
      "Epoch  44 :- 5.229329500191818\n",
      "Epoch  45 :- 5.13577940879576\n",
      "Epoch  46 :- 5.046927469107345\n",
      "Epoch  47 :- 4.962283335750898\n",
      "Epoch  48 :- 4.881428699049688\n",
      "Epoch  49 :- 4.804005664462759\n",
      "Epoch  50 :- 4.729707050145495\n",
      "Epoch  51 :- 4.6582682834433635\n",
      "Epoch  52 :- 4.589460630560753\n",
      "Epoch  53 :- 4.523085538072423\n",
      "Epoch  54 :- 4.458969901896375\n",
      "Epoch  55 :- 4.3969621100923675\n",
      "Epoch  56 :- 4.336928731440149\n",
      "Epoch  57 :- 4.278751743056493\n",
      "Epoch  58 :- 4.222326208052594\n",
      "Epoch  59 :- 4.167558329012466\n",
      "Epoch  60 :- 4.114363815386751\n",
      "Epoch  61 :- 4.062666513157847\n",
      "Epoch  62 :- 4.012397253685561\n",
      "Epoch  63 :- 3.963492885773035\n",
      "Epoch  64 :- 3.9158954609383576\n",
      "Epoch  65 :- 3.869551546835627\n",
      "Epoch  66 :- 3.8244116479050057\n",
      "Epoch  67 :- 3.780429715781419\n",
      "Epoch  68 :- 3.7375627348700955\n",
      "Epoch  69 :- 3.695770370899231\n",
      "Epoch  70 :- 3.655014672264685\n",
      "Epoch  71 :- 3.6152598156549898\n",
      "Epoch  72 :- 3.5764718888417444\n",
      "Epoch  73 :- 3.538618704686785\n",
      "Epoch  74 :- 3.5016696413913966\n",
      "Epoch  75 :- 3.4655955048261053\n",
      "Epoch  76 :- 3.430368409459009\n",
      "Epoch  77 :- 3.3959616749680546\n",
      "Epoch  78 :- 3.3623497360968524\n",
      "Epoch  79 :- 3.3295080637098766\n",
      "Epoch  80 :- 3.297413095334005\n",
      "Epoch  81 :- 3.266042173750251\n",
      "Epoch  82 :- 3.235373492430913\n",
      "Epoch  83 :- 3.205386046810972\n",
      "Epoch  84 :- 3.176059590544442\n",
      "Epoch  85 :- 3.1473745960317814\n",
      "Epoch  86 :- 3.1193122186178712\n",
      "Epoch  87 :- 3.0918542639548727\n",
      "Epoch  88 :- 3.0649831581037597\n",
      "Epoch  89 :- 3.038681920014815\n",
      "Epoch  90 :- 3.0129341360831523\n",
      "Epoch  91 :- 2.987723936522031\n",
      "Epoch  92 :- 2.963035973335927\n",
      "Epoch  93 :- 2.9388553997081845\n",
      "Epoch  94 :- 2.9151678506456826\n",
      "Epoch  95 :- 2.891959424746122\n",
      "Epoch  96 :- 2.8692166669730135\n",
      "Epoch  97 :- 2.846926552339851\n",
      "Epoch  98 :- 2.825076470418754\n",
      "Epoch  99 :- 2.803654210600454\n"
     ]
    }
   ],
   "source": [
    "loss=0\n",
    "for epoch in range(epochs):\n",
    "    y = np.matmul(x,w)\n",
    "    loss = mse(y,y_train)\n",
    "    print('Epoch ',epoch,':-',loss)\n",
    "    dw = derivative_w(y,y_train,x)\n",
    "    w = w - lr*dw"
   ]
  },
  {
   "cell_type": "code",
   "execution_count": 48,
   "metadata": {},
   "outputs": [],
   "source": [
    "x_test = pd.read_csv('test.csv')"
   ]
  },
  {
   "cell_type": "code",
   "execution_count": 49,
   "metadata": {},
   "outputs": [],
   "source": [
    "y_test = pd.read_csv('sample_submission.csv')"
   ]
  },
  {
   "cell_type": "code",
   "execution_count": 50,
   "metadata": {},
   "outputs": [],
   "source": [
    "y_test = y_test['SalePrice'].to_numpy()"
   ]
  },
  {
   "cell_type": "code",
   "execution_count": 51,
   "metadata": {},
   "outputs": [],
   "source": [
    "del x_test['Id']"
   ]
  },
  {
   "cell_type": "code",
   "execution_count": 52,
   "metadata": {},
   "outputs": [],
   "source": [
    "x_test = remove_noise_cont_feature(x_test,continuous_features,feat_mean_dict)"
   ]
  },
  {
   "cell_type": "code",
   "execution_count": 53,
   "metadata": {},
   "outputs": [],
   "source": [
    "x_test = remove_noise_disc_feature(x_test,discrete_features,feat_mean_dict,index_map)"
   ]
  },
  {
   "cell_type": "code",
   "execution_count": 54,
   "metadata": {},
   "outputs": [],
   "source": [
    "x_test = x_test.to_numpy()"
   ]
  },
  {
   "cell_type": "code",
   "execution_count": 55,
   "metadata": {},
   "outputs": [],
   "source": [
    "x_test = (x_test - feature_mean)/xstd"
   ]
  },
  {
   "cell_type": "code",
   "execution_count": 56,
   "metadata": {},
   "outputs": [],
   "source": [
    "x_test = np.concatenate([np.ones((len(x_test),1)),x_test],axis=1)"
   ]
  },
  {
   "cell_type": "code",
   "execution_count": 57,
   "metadata": {},
   "outputs": [],
   "source": [
    "preds = np.matmul(x_test,w)"
   ]
  },
  {
   "cell_type": "code",
   "execution_count": 58,
   "metadata": {},
   "outputs": [],
   "source": [
    "y_test = (y_test-ymean)/ystd"
   ]
  },
  {
   "cell_type": "code",
   "execution_count": 59,
   "metadata": {},
   "outputs": [
    {
     "data": {
      "text/plain": [
       "3.6079149935628125"
      ]
     },
     "execution_count": 59,
     "metadata": {},
     "output_type": "execute_result"
    }
   ],
   "source": [
    "mse(preds,y_test)"
   ]
  },
  {
   "cell_type": "code",
   "execution_count": 60,
   "metadata": {},
   "outputs": [
    {
     "data": {
      "text/plain": [
       "array([-0.68387414,  1.36433069,  0.99579062, ...,  0.03842964,\n",
       "       -0.63224161,  3.35581584])"
      ]
     },
     "execution_count": 60,
     "metadata": {},
     "output_type": "execute_result"
    }
   ],
   "source": [
    "preds"
   ]
  },
  {
   "cell_type": "code",
   "execution_count": 64,
   "metadata": {},
   "outputs": [
    {
     "data": {
      "text/plain": [
       "array([-0.61690024,  2.91634173, -0.73851798, ..., -0.68601002,\n",
       "       -0.34800346, -0.62905421])"
      ]
     },
     "execution_count": 64,
     "metadata": {},
     "output_type": "execute_result"
    }
   ],
   "source": [
    "x_test.mean(1)"
   ]
  },
  {
   "cell_type": "code",
   "execution_count": 66,
   "metadata": {},
   "outputs": [],
   "source": [
    "import matplotlib.pyplot as plt"
   ]
  },
  {
   "cell_type": "code",
   "execution_count": 71,
   "metadata": {},
   "outputs": [
    {
     "data": {
      "image/png": "[encoded data removed]",
      "text/plain": [
       "<Figure size 432x288 with 1 Axes>"
      ]
     },
     "metadata": {
      "needs_background": "light"
     },
     "output_type": "display_data"
    }
   ],
   "source": [
    "# plot of test data points\n",
    "plt.scatter(x_test.mean(1),y_test,color='k',label='data points')\n",
    "# plt.plot(x_test.mean(1),preds,'r',label='test',linewidth=2)\n",
    "\n",
    "plt.title('Data points')\n",
    "plt.xlabel('Input')\n",
    "plt.ylabel('Output')\n",
    "\n",
    "plt.legend()\n",
    "\n",
    "plt.grid(False)\n",
    "\n",
    "plt.show()"
   ]
  },
  {
   "cell_type": "code",
   "execution_count": 72,
   "metadata": {},
   "outputs": [
    {
     "data": {
      "image/png": "[encoded data removed]",
      "text/plain": [
       "<Figure size 432x288 with 1 Axes>"
      ]
     },
     "metadata": {
      "needs_background": "light"
     },
     "output_type": "display_data"
    }
   ],
   "source": [
    "# plot of test data points\n",
    "# plt.scatter(x_test.mean(1),y_test,color='k',label='data points')\n",
    "plt.plot(x_test.mean(1),preds,'r',label='test',linewidth=2)\n",
    "\n",
    "plt.title('Prediction curve')\n",
    "plt.xlabel('Input')\n",
    "plt.ylabel('Output')\n",
    "\n",
    "plt.legend()\n",
    "\n",
    "plt.grid(False)\n",
    "\n",
    "plt.show()"
   ]
  },
  {
   "cell_type": "code",
   "execution_count": 73,
   "metadata": {},
   "outputs": [
    {
     "data": {
      "image/png": "[encoded data removed]",
      "text/plain": [
       "<Figure size 432x288 with 1 Axes>"
      ]
     },
     "metadata": {
      "needs_background": "light"
     },
     "output_type": "display_data"
    }
   ],
   "source": [
    "# plot of test data points\n",
    "plt.scatter(x_test.mean(1),y_test,color='k',label='data points')\n",
    "plt.plot(x_test.mean(1),preds,'r',label='test',linewidth=2)\n",
    "\n",
    "plt.title('Prediction curve for test data points')\n",
    "plt.xlabel('Input')\n",
    "plt.ylabel('Output')\n",
    "\n",
    "plt.legend()\n",
    "\n",
    "plt.grid(False)\n",
    "\n",
    "plt.show()"
   ]
  },
  {
   "cell_type": "code",
   "execution_count": null,
   "metadata": {},
   "outputs": [],
   "source": []
  }
 ],
 "metadata": {
  "kernelspec": {
   "display_name": "Python 3",
   "language": "python",
   "name": "python3"
  },
  "language_info": {
   "codemirror_mode": {
    "name": "ipython",
    "version": 3
   },
   "file_extension": ".py",
   "mimetype": "text/x-python",
   "name": "python",
   "nbconvert_exporter": "python",
   "pygments_lexer": "ipython3",
   "version": "3.7.3"
  }
 },
 "nbformat": 4,
 "nbformat_minor": 2
}
