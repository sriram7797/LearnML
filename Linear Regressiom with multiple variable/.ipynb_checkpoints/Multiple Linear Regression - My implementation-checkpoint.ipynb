{
 "cells": [
  {
   "cell_type": "code",
   "execution_count": 1,
   "metadata": {},
   "outputs": [],
   "source": [
    "import warnings\n",
    "warnings.filterwarnings('ignore')\n",
    "import pandas as pd\n",
    "import numpy as np\n",
    "from collections import defaultdict"
   ]
  },
  {
   "cell_type": "code",
   "execution_count": 149,
   "metadata": {},
   "outputs": [],
   "source": [
    "x_train = pd.read_csv('train.csv')"
   ]
  },
  {
   "cell_type": "code",
   "execution_count": 150,
   "metadata": {},
   "outputs": [
    {
     "data": {
      "text/plain": [
       "(1460, 81)"
      ]
     },
     "execution_count": 150,
     "metadata": {},
     "output_type": "execute_result"
    }
   ],
   "source": [
    "x_train.shape"
   ]
  },
  {
   "cell_type": "code",
   "execution_count": 151,
   "metadata": {},
   "outputs": [],
   "source": [
    "del x_train['Id']"
   ]
  },
  {
   "cell_type": "code",
   "execution_count": 152,
   "metadata": {},
   "outputs": [],
   "source": [
    "y_train = x_train['SalePrice']"
   ]
  },
  {
   "cell_type": "code",
   "execution_count": 153,
   "metadata": {},
   "outputs": [],
   "source": [
    "del x_train['SalePrice']"
   ]
  },
  {
   "cell_type": "code",
   "execution_count": 154,
   "metadata": {},
   "outputs": [],
   "source": [
    "y_train = y_train.to_numpy()"
   ]
  },
  {
   "cell_type": "code",
   "execution_count": 155,
   "metadata": {},
   "outputs": [
    {
     "data": {
      "text/plain": [
       "(1460,)"
      ]
     },
     "execution_count": 155,
     "metadata": {},
     "output_type": "execute_result"
    }
   ],
   "source": [
    "y_train.shape"
   ]
  },
  {
   "cell_type": "code",
   "execution_count": 156,
   "metadata": {},
   "outputs": [],
   "source": [
    "def differentiate_features(x_train):\n",
    "    discrete_features = []\n",
    "    continuous_features = []\n",
    "    for i,j in zip(x_train,x_train.dtypes):\n",
    "        if j.type==np.int64 or j.type==np.float64:\n",
    "            continuous_features.append(i)\n",
    "        else:\n",
    "            discrete_features.append(i)\n",
    "    return discrete_features,continuous_features"
   ]
  },
  {
   "cell_type": "code",
   "execution_count": 157,
   "metadata": {},
   "outputs": [],
   "source": [
    "discrete_features,continuous_features = differentiate_features(x_train)"
   ]
  },
  {
   "cell_type": "code",
   "execution_count": 158,
   "metadata": {},
   "outputs": [],
   "source": [
    "def generate_index_map(x_train,discrete_features):\n",
    "    index_map = {}\n",
    "    for i in x_train.filter(discrete_features):\n",
    "        index_map[i]={}\n",
    "        for item in x_train[i].fillna('').unique():\n",
    "            if item!='' and item.lower() not in index_map[i]:\n",
    "                index_map[i][item.lower()] = len(index_map[i]) + 1\n",
    "    return index_map"
   ]
  },
  {
   "cell_type": "code",
   "execution_count": 159,
   "metadata": {},
   "outputs": [],
   "source": [
    "index_map = generate_index_map(x_train,discrete_features)"
   ]
  },
  {
   "cell_type": "code",
   "execution_count": 160,
   "metadata": {},
   "outputs": [],
   "source": [
    "def generate_feature_mean(x_train,continuous_features,discrete_features,index_map):\n",
    "    feat_mean_dict = {}\n",
    "    for col in continuous_features:\n",
    "        feat_mean_dict[col] = x_train[col].mean()\n",
    "    for col in discrete_features:\n",
    "        feat_mean_dict[col] = sum(list(index_map[col].values()))/len(index_map[col])\n",
    "    return feat_mean_dict"
   ]
  },
  {
   "cell_type": "code",
   "execution_count": 161,
   "metadata": {},
   "outputs": [],
   "source": [
    "feat_mean_dict = generate_feature_mean(x_train,continuous_features,discrete_features,index_map)"
   ]
  },
  {
   "cell_type": "code",
   "execution_count": 162,
   "metadata": {},
   "outputs": [],
   "source": [
    "def remove_noise_cont_feature(data,continuous_features,feat_mean_dict):\n",
    "    for col in continuous_features:\n",
    "        data = data.fillna(value={col:feat_mean_dict[col]})\n",
    "    return data"
   ]
  },
  {
   "cell_type": "code",
   "execution_count": 163,
   "metadata": {},
   "outputs": [],
   "source": [
    "x_train = remove_noise_cont_feature(x_train,continuous_features,feat_mean_dict)"
   ]
  },
  {
   "cell_type": "code",
   "execution_count": 164,
   "metadata": {},
   "outputs": [],
   "source": [
    "def remove_noise_disc_feature(data,discrete_features,feat_mean_dict,index_map):\n",
    "    for col in discrete_features:\n",
    "        data[col] = data[col].fillna('').apply(lambda x: index_map[col][x.lower()] if x.lower() in index_map[col] else feat_mean_dict[col])\n",
    "    return data"
   ]
  },
  {
   "cell_type": "code",
   "execution_count": 165,
   "metadata": {},
   "outputs": [],
   "source": [
    "x_train = remove_noise_disc_feature(x_train,discrete_features,feat_mean_dict,index_map)"
   ]
  },
  {
   "cell_type": "code",
   "execution_count": 166,
   "metadata": {},
   "outputs": [],
   "source": [
    "def get_feature_mean(x_train,feat_mean_dict):\n",
    "    feature_mean = []\n",
    "    for col in x_train.columns:\n",
    "        try:\n",
    "            feature_mean.append(feat_mean_dict[col])\n",
    "        except:\n",
    "            feature_mean.append(feat_mean_dict[col])\n",
    "\n",
    "    feature_mean = np.array(feature_mean)\n",
    "    return feature_mean"
   ]
  },
  {
   "cell_type": "code",
   "execution_count": 167,
   "metadata": {},
   "outputs": [],
   "source": [
    "feature_mean = get_feature_mean(x_train,feat_mean_dict)"
   ]
  },
  {
   "cell_type": "code",
   "execution_count": 168,
   "metadata": {},
   "outputs": [],
   "source": [
    "x = x_train.to_numpy()"
   ]
  },
  {
   "cell_type": "code",
   "execution_count": 169,
   "metadata": {},
   "outputs": [
    {
     "data": {
      "text/plain": [
       "array([4.22860820e+01, 7.98035153e-01, 2.20164789e+01, 9.97784611e+03,\n",
       "       6.39742160e-02, 1.24790592e-01, 5.82096688e-01, 6.41790325e-01,\n",
       "       2.61622319e-02, 1.01001250e+00, 2.76137848e-01, 5.83578349e+00,\n",
       "       1.20819277e+00, 3.74062912e-01, 1.06774188e+00, 1.32430032e+00,\n",
       "       1.38252284e+00, 1.11241818e+00, 3.01925588e+01, 2.06383353e+01,\n",
       "       6.11693689e-01, 5.39417807e-01, 2.50623645e+00, 2.66143012e+00,\n",
       "       6.30364387e-01, 1.80507263e+02, 5.74565686e-01, 4.40071025e-01,\n",
       "       8.30892497e-01, 7.28083400e-01, 4.63862373e-01, 1.12950294e+00,\n",
       "       1.47813595e+00, 4.55941866e+02, 1.07477212e+00, 1.61264017e+02,\n",
       "       4.41715605e+02, 4.38555057e+02, 3.06073965e-01, 9.59172174e-01,\n",
       "       2.46646679e-01, 5.32355275e-01, 3.86455322e+02, 4.36378914e+02,\n",
       "       4.86064268e+01, 5.25300394e+02, 5.18732867e-01, 2.38670868e-01,\n",
       "       5.50727099e-01, 5.02713131e-01, 8.15498620e-01, 2.20262727e-01,\n",
       "       7.06129505e-01, 1.62483655e+00, 7.16968556e-01, 6.44445572e-01,\n",
       "       8.79062560e-01, 9.16852587e-01, 2.39863645e+01, 7.26524771e-01,\n",
       "       7.47059036e-01, 2.13731608e+02, 5.59509392e-01, 5.54694731e-01,\n",
       "       3.65075561e-01, 1.25295863e+02, 6.62333334e+01, 6.10982138e+01,\n",
       "       2.93072887e+01, 5.57383170e+01, 4.01635452e+01, 5.85165652e-02,\n",
       "       5.06225435e-01, 2.74422576e-01, 4.95953090e+02, 2.70270015e+00,\n",
       "       1.32764022e+00, 8.04277304e-01, 8.87566320e-01])"
      ]
     },
     "execution_count": 169,
     "metadata": {},
     "output_type": "execute_result"
    }
   ],
   "source": [
    "xstd = x.std(0)\n",
    "xstd"
   ]
  },
  {
   "cell_type": "code",
   "execution_count": 170,
   "metadata": {},
   "outputs": [],
   "source": [
    "x = (x - feature_mean)/xstd"
   ]
  },
  {
   "cell_type": "code",
   "execution_count": 171,
   "metadata": {},
   "outputs": [
    {
     "data": {
      "text/plain": [
       "(1460, 79)"
      ]
     },
     "execution_count": 171,
     "metadata": {},
     "output_type": "execute_result"
    }
   ],
   "source": [
    "x.shape"
   ]
  },
  {
   "cell_type": "code",
   "execution_count": 172,
   "metadata": {},
   "outputs": [],
   "source": [
    "x = np.concatenate([np.ones((len(x),1)),x],axis=1)"
   ]
  },
  {
   "cell_type": "code",
   "execution_count": 173,
   "metadata": {},
   "outputs": [
    {
     "data": {
      "text/plain": [
       "(1460, 80)"
      ]
     },
     "execution_count": 173,
     "metadata": {},
     "output_type": "execute_result"
    }
   ],
   "source": [
    "m,n = x.shape\n",
    "m,n"
   ]
  },
  {
   "cell_type": "code",
   "execution_count": 174,
   "metadata": {},
   "outputs": [
    {
     "data": {
      "text/plain": [
       "(180921.19589041095, 79415.29188606751)"
      ]
     },
     "execution_count": 174,
     "metadata": {},
     "output_type": "execute_result"
    }
   ],
   "source": [
    "ymean = y_train.mean()\n",
    "ystd = y_train.std()\n",
    "ymean,ystd"
   ]
  },
  {
   "cell_type": "code",
   "execution_count": 175,
   "metadata": {},
   "outputs": [],
   "source": [
    "y_train = (y_train-y_train.mean())/y_train.std()"
   ]
  },
  {
   "cell_type": "code",
   "execution_count": 176,
   "metadata": {},
   "outputs": [],
   "source": [
    "# mean square error\n",
    "def mse(preds,actual):\n",
    "    return ((preds-actual)**2).sum()/(2*len(preds))"
   ]
  },
  {
   "cell_type": "code",
   "execution_count": 177,
   "metadata": {},
   "outputs": [],
   "source": [
    "def derivative_w(y,y_train,x):\n",
    "    dw = np.matmul((y-y_train),x)/m\n",
    "    return dw"
   ]
  },
  {
   "cell_type": "code",
   "execution_count": 178,
   "metadata": {},
   "outputs": [],
   "source": [
    "epochs = 50\n",
    "w = np.random.random((n))\n",
    "lr = 1e-1"
   ]
  },
  {
   "cell_type": "code",
   "execution_count": 179,
   "metadata": {},
   "outputs": [
    {
     "data": {
      "text/plain": [
       "array([ 0.34727322,  0.00728832,  0.53615372, ...,  1.07761115,\n",
       "       -0.48852299, -0.42084081])"
      ]
     },
     "execution_count": 179,
     "metadata": {},
     "output_type": "execute_result"
    }
   ],
   "source": [
    "y_train"
   ]
  },
  {
   "cell_type": "code",
   "execution_count": 180,
   "metadata": {},
   "outputs": [
    {
     "name": "stdout",
     "output_type": "stream",
     "text": [
      "Epoch  0 :- 1815.1500663987924\n",
      "(80,)\n"
     ]
    }
   ],
   "source": [
    "loss=0\n",
    "for epoch in range(epochs):\n",
    "    y = np.matmul(x,w)\n",
    "    loss = mse(y,y_train)\n",
    "    print('Epoch ',epoch,':-',loss)\n",
    "    dw = derivative_w(y,y_train,x)\n",
    "    print(dw.shape)\n",
    "    w = w - lr*dw\n",
    "    break"
   ]
  },
  {
   "cell_type": "code",
   "execution_count": 101,
   "metadata": {},
   "outputs": [],
   "source": [
    "x_test = pd.read_csv('test.csv')"
   ]
  },
  {
   "cell_type": "code",
   "execution_count": 102,
   "metadata": {},
   "outputs": [],
   "source": [
    "y_test = pd.read_csv('sample_submission.csv')"
   ]
  },
  {
   "cell_type": "code",
   "execution_count": 103,
   "metadata": {},
   "outputs": [],
   "source": [
    "y_test = y_test['SalePrice'].to_numpy()"
   ]
  },
  {
   "cell_type": "code",
   "execution_count": 104,
   "metadata": {},
   "outputs": [],
   "source": [
    "del x_test['Id']"
   ]
  },
  {
   "cell_type": "code",
   "execution_count": 105,
   "metadata": {},
   "outputs": [],
   "source": [
    "x_test = remove_noise_cont_feature(x_test,continuous_features,feat_mean_dict)"
   ]
  },
  {
   "cell_type": "code",
   "execution_count": 106,
   "metadata": {},
   "outputs": [],
   "source": [
    "x_test = remove_noise_disc_feature(x_test,discrete_features,feat_mean_dict,index_map)"
   ]
  },
  {
   "cell_type": "code",
   "execution_count": 107,
   "metadata": {},
   "outputs": [],
   "source": [
    "x_test = x_test.to_numpy()"
   ]
  },
  {
   "cell_type": "code",
   "execution_count": 108,
   "metadata": {},
   "outputs": [],
   "source": [
    "x_test = (x_test - feature_mean)/xstd"
   ]
  },
  {
   "cell_type": "code",
   "execution_count": 109,
   "metadata": {},
   "outputs": [],
   "source": [
    "x_test = np.concatenate([np.ones((len(x_test),1)),x_test],axis=1)"
   ]
  },
  {
   "cell_type": "code",
   "execution_count": 110,
   "metadata": {},
   "outputs": [],
   "source": [
    "preds = np.matmul(x_test,w)"
   ]
  },
  {
   "cell_type": "code",
   "execution_count": 111,
   "metadata": {},
   "outputs": [],
   "source": [
    "y_test = (y_test-ymean)/ystd"
   ]
  },
  {
   "cell_type": "code",
   "execution_count": 112,
   "metadata": {},
   "outputs": [
    {
     "data": {
      "text/plain": [
       "4.870142399367679e+193"
      ]
     },
     "execution_count": 112,
     "metadata": {},
     "output_type": "execute_result"
    }
   ],
   "source": [
    "mse(preds,y_test)"
   ]
  },
  {
   "cell_type": "code",
   "execution_count": 113,
   "metadata": {},
   "outputs": [
    {
     "data": {
      "text/plain": [
       "array([-9.89224886e+96, -9.97286431e+96, -1.02085759e+97, ...,\n",
       "       -1.01339575e+97, -9.74616783e+96, -1.00393682e+97])"
      ]
     },
     "execution_count": 113,
     "metadata": {},
     "output_type": "execute_result"
    }
   ],
   "source": [
    "preds"
   ]
  },
  {
   "cell_type": "code",
   "execution_count": 114,
   "metadata": {},
   "outputs": [
    {
     "data": {
      "text/plain": [
       "array([-0.14662344,  0.08609423,  0.03352613, ...,  0.48229033,\n",
       "        0.05040696,  0.08588611])"
      ]
     },
     "execution_count": 114,
     "metadata": {},
     "output_type": "execute_result"
    }
   ],
   "source": [
    "y_test"
   ]
  },
  {
   "cell_type": "code",
   "execution_count": null,
   "metadata": {},
   "outputs": [],
   "source": []
  },
  {
   "cell_type": "code",
   "execution_count": null,
   "metadata": {},
   "outputs": [],
   "source": []
  }
 ],
 "metadata": {
  "kernelspec": {
   "display_name": "Python 3",
   "language": "python",
   "name": "python3"
  },
  "language_info": {
   "codemirror_mode": {
    "name": "ipython",
    "version": 3
   },
   "file_extension": ".py",
   "mimetype": "text/x-python",
   "name": "python",
   "nbconvert_exporter": "python",
   "pygments_lexer": "ipython3",
   "version": "3.7.3"
  }
 },
 "nbformat": 4,
 "nbformat_minor": 2
}
