{
 "cells": [
  {
   "cell_type": "markdown",
   "metadata": {},
   "source": [
    "## Schedulers"
   ]
  },
  {
   "cell_type": "markdown",
   "metadata": {},
   "source": [
    "### In training deep networks, it is helpful to reduce the learning rate as the number of training epochs increases."
   ]
  },
  {
   "cell_type": "markdown",
   "metadata": {},
   "source": [
    "<img src=\"https://miro.medium.com/max/334/1*iYWyu8hemMyaBlK6V-2vqg.png\"/>"
   ]
  },
  {
   "cell_type": "markdown",
   "metadata": {},
   "source": [
    "The above figure depicts that a high learning rate will lead to random to and fro moment of the vector around local minima while a slow learning rate results in getting stuck into false minima. Thus, knowing when to decay the learning rate can be hard to find out."
   ]
  },
  {
   "cell_type": "code",
   "execution_count": 1,
   "metadata": {},
   "outputs": [],
   "source": [
    "import warnings;warnings.filterwarnings('ignore')\n",
    "import torch\n",
    "import torch.nn as nn\n",
    "import torch.optim as optim"
   ]
  },
  {
   "cell_type": "code",
   "execution_count": 2,
   "metadata": {},
   "outputs": [],
   "source": [
    "import matplotlib.pyplot as plt\n",
    "%matplotlib inline"
   ]
  },
  {
   "cell_type": "code",
   "execution_count": 3,
   "metadata": {},
   "outputs": [],
   "source": [
    "model = nn.Linear(2,2)"
   ]
  },
  {
   "cell_type": "markdown",
   "metadata": {},
   "source": [
    "Normally,\n",
    "- Unlike optimizers, lr is updated after few epochs instead of each iteration"
   ]
  },
  {
   "cell_type": "markdown",
   "metadata": {},
   "source": [
    "## StepLR"
   ]
  },
  {
   "cell_type": "code",
   "execution_count": 4,
   "metadata": {},
   "outputs": [],
   "source": [
    "gamma = 0.5\n",
    "step_size = 5\n",
    "epochs = 20\n",
    "lr = 1e-1"
   ]
  },
  {
   "cell_type": "code",
   "execution_count": 5,
   "metadata": {},
   "outputs": [],
   "source": [
    "optimizer = optim.Adam(model.parameters(),lr=lr)"
   ]
  },
  {
   "cell_type": "code",
   "execution_count": 6,
   "metadata": {},
   "outputs": [
    {
     "data": {
      "text/plain": [
       "[{'params': [Parameter containing:\n",
       "   tensor([[-0.6057,  0.2098],\n",
       "           [ 0.0487,  0.6376]], requires_grad=True), Parameter containing:\n",
       "   tensor([-0.0901, -0.3237], requires_grad=True)],\n",
       "  'lr': 0.1,\n",
       "  'betas': (0.9, 0.999),\n",
       "  'eps': 1e-08,\n",
       "  'weight_decay': 0,\n",
       "  'amsgrad': False}]"
      ]
     },
     "execution_count": 6,
     "metadata": {},
     "output_type": "execute_result"
    }
   ],
   "source": [
    "optimizer.param_groups"
   ]
  },
  {
   "cell_type": "markdown",
   "metadata": {},
   "source": [
    "    function(epoch):\n",
    "\n",
    "        if epoch%step_size == 0:\n",
    "            lr = lr*gamma\n",
    "        return lr"
   ]
  },
  {
   "cell_type": "code",
   "execution_count": 7,
   "metadata": {},
   "outputs": [],
   "source": [
    "scheduler = optim.lr_scheduler.StepLR(optimizer,step_size=step_size,gamma=gamma)"
   ]
  },
  {
   "cell_type": "markdown",
   "metadata": {},
   "source": [
    "Assumption:\n",
    "\n",
    "- randomly i choose some number 10, iterations for each epoch"
   ]
  },
  {
   "cell_type": "code",
   "execution_count": 8,
   "metadata": {},
   "outputs": [],
   "source": [
    "iterations = 10"
   ]
  },
  {
   "cell_type": "code",
   "execution_count": 9,
   "metadata": {},
   "outputs": [],
   "source": [
    "lrs = []\n",
    "itrs = []\n",
    "step=0\n",
    "for epoch in range(epochs):\n",
    "    for index in range(iterations):\n",
    "        pass\n",
    "#         optimizer.zero_grad()\n",
    "#         preds = model(inp[index])\n",
    "#         loss = loss_function(preds,y)\n",
    "#         loss.backward()\n",
    "#         optimzer.step()\n",
    "        \n",
    "        step+=1\n",
    "    lrs.append(optimizer.param_groups[0]['lr'])\n",
    "    itrs.append(epoch+1)\n",
    "        \n",
    "    scheduler.step()"
   ]
  },
  {
   "cell_type": "code",
   "execution_count": 10,
   "metadata": {},
   "outputs": [
    {
     "data": {
      "text/plain": [
       "(20, 20)"
      ]
     },
     "execution_count": 10,
     "metadata": {},
     "output_type": "execute_result"
    }
   ],
   "source": [
    "len(lrs),len(itrs)"
   ]
  },
  {
   "cell_type": "code",
   "execution_count": 11,
   "metadata": {},
   "outputs": [
    {
     "data": {
      "image/png": "[encoded data removed]",
      "text/plain": [
       "<Figure size 432x288 with 1 Axes>"
      ]
     },
     "metadata": {
      "needs_background": "light"
     },
     "output_type": "display_data"
    }
   ],
   "source": [
    "plt.plot(itrs,lrs)\n",
    "plt.xlabel(\"Epochs\")\n",
    "plt.ylabel(\"Learning rate\")\n",
    "plt.title(\"Step Decay of LR\")\n",
    "plt.show()"
   ]
  },
  {
   "cell_type": "markdown",
   "metadata": {},
   "source": [
    "## MultiStepLR:"
   ]
  },
  {
   "cell_type": "code",
   "execution_count": 12,
   "metadata": {},
   "outputs": [],
   "source": [
    "gamma = 0.5\n",
    "step_size = 2\n",
    "epochs = 20\n",
    "lr = 1e-1"
   ]
  },
  {
   "cell_type": "code",
   "execution_count": 13,
   "metadata": {},
   "outputs": [],
   "source": [
    "optimizer = optim.Adam(model.parameters(),lr=lr)"
   ]
  },
  {
   "cell_type": "code",
   "execution_count": 14,
   "metadata": {},
   "outputs": [
    {
     "data": {
      "text/plain": [
       "[{'params': [Parameter containing:\n",
       "   tensor([[-0.6057,  0.2098],\n",
       "           [ 0.0487,  0.6376]], requires_grad=True), Parameter containing:\n",
       "   tensor([-0.0901, -0.3237], requires_grad=True)],\n",
       "  'lr': 0.1,\n",
       "  'betas': (0.9, 0.999),\n",
       "  'eps': 1e-08,\n",
       "  'weight_decay': 0,\n",
       "  'amsgrad': False}]"
      ]
     },
     "execution_count": 14,
     "metadata": {},
     "output_type": "execute_result"
    }
   ],
   "source": [
    "optimizer.param_groups"
   ]
  },
  {
   "cell_type": "markdown",
   "metadata": {},
   "source": [
    "    function(epoch):\n",
    "    \n",
    "        '''\n",
    "        milestones - list of epoch index\n",
    "        counter = Counter(milestones) # dict[key = epoch index, value = count of epoch index in milestones]\n",
    "        '''\n",
    "            \n",
    "        lr = lr * gamma**counter[epoch]\n",
    "        return lr"
   ]
  },
  {
   "cell_type": "markdown",
   "metadata": {},
   "source": [
    "Note:\n",
    "\n",
    "- Literal meaning is, customizable step size"
   ]
  },
  {
   "cell_type": "code",
   "execution_count": 15,
   "metadata": {},
   "outputs": [],
   "source": [
    "scheduler = optim.lr_scheduler.MultiStepLR(optimizer,milestones=[2,4,7,15,19],gamma=gamma)"
   ]
  },
  {
   "cell_type": "code",
   "execution_count": 16,
   "metadata": {},
   "outputs": [],
   "source": [
    "iterations = 10"
   ]
  },
  {
   "cell_type": "code",
   "execution_count": 17,
   "metadata": {},
   "outputs": [],
   "source": [
    "lrs = []\n",
    "itrs = []\n",
    "step=0\n",
    "for epoch in range(epochs):\n",
    "    for index in range(iterations):\n",
    "#         optimizer.zero_grad()\n",
    "#         preds = model(inp[index])\n",
    "#         loss = loss_function(preds,y)\n",
    "#         loss.backward()\n",
    "#         optimzer.step()\n",
    "        \n",
    "        step+=1\n",
    "    lrs.append(optimizer.param_groups[0]['lr'])\n",
    "    itrs.append(epoch+1)\n",
    "        \n",
    "    scheduler.step()"
   ]
  },
  {
   "cell_type": "code",
   "execution_count": 18,
   "metadata": {},
   "outputs": [
    {
     "data": {
      "text/plain": [
       "(20, 20)"
      ]
     },
     "execution_count": 18,
     "metadata": {},
     "output_type": "execute_result"
    }
   ],
   "source": [
    "len(lrs),len(itrs)"
   ]
  },
  {
   "cell_type": "code",
   "execution_count": 19,
   "metadata": {},
   "outputs": [
    {
     "data": {
      "image/png": "[encoded data removed]",
      "text/plain": [
       "<Figure size 432x288 with 1 Axes>"
      ]
     },
     "metadata": {
      "needs_background": "light"
     },
     "output_type": "display_data"
    }
   ],
   "source": [
    "plt.plot(itrs,lrs)\n",
    "plt.xlabel(\"Iterations\")\n",
    "plt.ylabel(\"Learning rate\")\n",
    "plt.title(\"Step Decay of LR\")\n",
    "plt.show()"
   ]
  },
  {
   "cell_type": "markdown",
   "metadata": {},
   "source": [
    "## LambdaLR"
   ]
  },
  {
   "cell_type": "markdown",
   "metadata": {},
   "source": [
    "<mark>Same StepLR can be achieved by LambdaLR</mark>\n",
    "- pass learning rate updater as lambda function"
   ]
  },
  {
   "cell_type": "code",
   "execution_count": 20,
   "metadata": {},
   "outputs": [],
   "source": [
    "import math"
   ]
  },
  {
   "cell_type": "code",
   "execution_count": 21,
   "metadata": {},
   "outputs": [],
   "source": [
    "def step_decay(epoch):\n",
    "    initial_lrate = 0.1\n",
    "    drop = 0.5\n",
    "    epochs_drop = 10.0\n",
    "    lrate = initial_lrate * math.pow(drop,  \n",
    "           math.floor((1+epoch)/epochs_drop))\n",
    "    return lrate"
   ]
  },
  {
   "cell_type": "code",
   "execution_count": 22,
   "metadata": {},
   "outputs": [],
   "source": [
    "drop = 0.5\n",
    "epochs_drop = 2\n",
    "lr = 1e-1\n",
    "epochs = 20"
   ]
  },
  {
   "cell_type": "markdown",
   "metadata": {},
   "source": [
    "    function(epoch):\n",
    "    \n",
    "        return base_lr * lambda_fn(epoch)"
   ]
  },
  {
   "cell_type": "code",
   "execution_count": 23,
   "metadata": {},
   "outputs": [],
   "source": [
    "step_decay = lambda epoch: math.pow(drop,math.floor((1+epoch)/epochs_drop))"
   ]
  },
  {
   "cell_type": "code",
   "execution_count": 24,
   "metadata": {},
   "outputs": [],
   "source": [
    "optimizer = optim.Adam(model.parameters(),lr=lr)"
   ]
  },
  {
   "cell_type": "code",
   "execution_count": 25,
   "metadata": {},
   "outputs": [
    {
     "data": {
      "text/plain": [
       "[{'params': [Parameter containing:\n",
       "   tensor([[-0.6057,  0.2098],\n",
       "           [ 0.0487,  0.6376]], requires_grad=True), Parameter containing:\n",
       "   tensor([-0.0901, -0.3237], requires_grad=True)],\n",
       "  'lr': 0.1,\n",
       "  'betas': (0.9, 0.999),\n",
       "  'eps': 1e-08,\n",
       "  'weight_decay': 0,\n",
       "  'amsgrad': False}]"
      ]
     },
     "execution_count": 25,
     "metadata": {},
     "output_type": "execute_result"
    }
   ],
   "source": [
    "optimizer.param_groups"
   ]
  },
  {
   "cell_type": "code",
   "execution_count": 26,
   "metadata": {},
   "outputs": [],
   "source": [
    "scheduler = optim.lr_scheduler.LambdaLR(optimizer,lr_lambda=step_decay)"
   ]
  },
  {
   "cell_type": "code",
   "execution_count": 27,
   "metadata": {},
   "outputs": [],
   "source": [
    "iterations = 10\n",
    "\n",
    "lrs = []\n",
    "itrs = []\n",
    "step=0\n",
    "for epoch in range(epochs):\n",
    "    for index in range(iterations):\n",
    "#         optimizer.zero_grad()\n",
    "#         preds = model(inp[index])\n",
    "#         loss = loss_function(preds,y)\n",
    "#         loss.backward()\n",
    "#         optimzer.step()\n",
    "        \n",
    "        step+=1\n",
    "    lrs.append(optimizer.param_groups[0]['lr'])\n",
    "    itrs.append(epoch+1)\n",
    "        \n",
    "    scheduler.step()"
   ]
  },
  {
   "cell_type": "code",
   "execution_count": 28,
   "metadata": {},
   "outputs": [
    {
     "data": {
      "text/plain": [
       "(20, 20)"
      ]
     },
     "execution_count": 28,
     "metadata": {},
     "output_type": "execute_result"
    }
   ],
   "source": [
    "len(lrs),len(itrs)"
   ]
  },
  {
   "cell_type": "code",
   "execution_count": 29,
   "metadata": {},
   "outputs": [
    {
     "data": {
      "image/png": "[encoded data removed]",
      "text/plain": [
       "<Figure size 432x288 with 1 Axes>"
      ]
     },
     "metadata": {
      "needs_background": "light"
     },
     "output_type": "display_data"
    }
   ],
   "source": [
    "plt.plot(itrs,lrs)\n",
    "plt.xlabel(\"Iterations\")\n",
    "plt.ylabel(\"Learning rate\")\n",
    "plt.title(\"Step of LR\")\n",
    "plt.show()"
   ]
  },
  {
   "cell_type": "markdown",
   "metadata": {},
   "source": [
    "## ExponentialLR"
   ]
  },
  {
   "cell_type": "code",
   "execution_count": 30,
   "metadata": {},
   "outputs": [],
   "source": [
    "gamma = 0.5\n",
    "step_size = 2\n",
    "epochs = 20\n",
    "lr = 1e-1"
   ]
  },
  {
   "cell_type": "code",
   "execution_count": 31,
   "metadata": {},
   "outputs": [],
   "source": [
    "optimizer = optim.Adam(model.parameters(),lr=lr)"
   ]
  },
  {
   "cell_type": "code",
   "execution_count": 32,
   "metadata": {},
   "outputs": [
    {
     "data": {
      "text/plain": [
       "[{'params': [Parameter containing:\n",
       "   tensor([[-0.6057,  0.2098],\n",
       "           [ 0.0487,  0.6376]], requires_grad=True), Parameter containing:\n",
       "   tensor([-0.0901, -0.3237], requires_grad=True)],\n",
       "  'lr': 0.1,\n",
       "  'betas': (0.9, 0.999),\n",
       "  'eps': 1e-08,\n",
       "  'weight_decay': 0,\n",
       "  'amsgrad': False}]"
      ]
     },
     "execution_count": 32,
     "metadata": {},
     "output_type": "execute_result"
    }
   ],
   "source": [
    "optimizer.param_groups"
   ]
  },
  {
   "cell_type": "markdown",
   "metadata": {},
   "source": [
    "    function(epoch):\n",
    "        \n",
    "        lr = lr*gamma"
   ]
  },
  {
   "cell_type": "code",
   "execution_count": 33,
   "metadata": {},
   "outputs": [],
   "source": [
    "scheduler = optim.lr_scheduler.ExponentialLR(optimizer,gamma=gamma)"
   ]
  },
  {
   "cell_type": "code",
   "execution_count": 34,
   "metadata": {},
   "outputs": [],
   "source": [
    "iterations = 10"
   ]
  },
  {
   "cell_type": "code",
   "execution_count": 35,
   "metadata": {},
   "outputs": [],
   "source": [
    "lrs = []\n",
    "itrs = []\n",
    "step=0\n",
    "for epoch in range(epochs):\n",
    "    for index in range(iterations):\n",
    "#         optimizer.zero_grad()\n",
    "#         preds = model(inp[index])\n",
    "#         loss = loss_function(preds,y)\n",
    "#         loss.backward()\n",
    "#         optimzer.step()\n",
    "        \n",
    "        step+=1\n",
    "        \n",
    "    lrs.append(optimizer.param_groups[0]['lr'])\n",
    "    itrs.append(epoch+1)\n",
    "        \n",
    "    scheduler.step()"
   ]
  },
  {
   "cell_type": "code",
   "execution_count": 36,
   "metadata": {},
   "outputs": [
    {
     "data": {
      "text/plain": [
       "(20, 20)"
      ]
     },
     "execution_count": 36,
     "metadata": {},
     "output_type": "execute_result"
    }
   ],
   "source": [
    "len(lrs),len(itrs)"
   ]
  },
  {
   "cell_type": "code",
   "execution_count": 37,
   "metadata": {},
   "outputs": [
    {
     "data": {
      "image/png": "[encoded data removed]",
      "text/plain": [
       "<Figure size 432x288 with 1 Axes>"
      ]
     },
     "metadata": {
      "needs_background": "light"
     },
     "output_type": "display_data"
    }
   ],
   "source": [
    "plt.plot(itrs,lrs)\n",
    "plt.xlabel(\"Iterations\")\n",
    "plt.ylabel(\"Learning rate\")\n",
    "plt.title(\"Exponential of LR\")\n",
    "plt.show()"
   ]
  },
  {
   "cell_type": "markdown",
   "metadata": {},
   "source": [
    "## Cyclical Learning rate for training Neural networks"
   ]
  },
  {
   "cell_type": "markdown",
   "metadata": {},
   "source": [
    "- Instead of monotonically decreasing the learning rate, this method lets the learning rate cyclically vary between reasonable boundary values."
   ]
  },
  {
   "cell_type": "markdown",
   "metadata": {},
   "source": [
    "***An intuitive understanding of why CLR methods work comes from considering the loss function topology***"
   ]
  },
  {
   "cell_type": "markdown",
   "metadata": {},
   "source": [
    "- difficulty in the minimizing loss arises from <mark>saddle points</mark> rather than poor local minima\n",
    "- saddle points have small gradients that slow the learning process\n",
    "- Hence, increasing the learning rate allows more rapid travesal of saddle point plateaus"
   ]
  },
  {
   "cell_type": "markdown",
   "metadata": {},
   "source": [
    "**Terminologies:**\n",
    "\n",
    "- max_iterations = total number of iterations in training loop. It can be calculated by multiplying total number of epochs and number of iterations per epoch.\n",
    "- stepsize = number of iterations to reach boundary value (pytorch has stepsize down and stepsize down)\n",
    "- base_lr = minimum learning rate\n",
    "- max_lr = maximum learning rate (learning rate varies between these 2 boundaries for each cycle)"
   ]
  },
  {
   "cell_type": "markdown",
   "metadata": {},
   "source": [
    "    function(step):\n",
    "    \n",
    "        cycle = 1 + step/(2*stepsize)\n",
    "        x = abs(step/stepsize - (2*cycle) + 1)\n",
    "        lr = base_lr + (max_lr - base_lr)*max(0,(1-x))"
   ]
  },
  {
   "cell_type": "markdown",
   "metadata": {},
   "source": [
    "**Policies:**\n",
    "<img src=\"https://www.jeremyjordan.me/content/images/2018/02/Screen-Shot-2018-02-25-at-8.44.49-PM.png\"/>\n"
   ]
  },
  {
   "cell_type": "code",
   "execution_count": 38,
   "metadata": {},
   "outputs": [],
   "source": [
    "lr=1e-3"
   ]
  },
  {
   "cell_type": "code",
   "execution_count": 39,
   "metadata": {},
   "outputs": [],
   "source": [
    "optimizer = optim.Adam(model.parameters(),lr=lr)"
   ]
  },
  {
   "cell_type": "code",
   "execution_count": 40,
   "metadata": {},
   "outputs": [
    {
     "data": {
      "text/plain": [
       "[{'params': [Parameter containing:\n",
       "   tensor([[-0.6057,  0.2098],\n",
       "           [ 0.0487,  0.6376]], requires_grad=True), Parameter containing:\n",
       "   tensor([-0.0901, -0.3237], requires_grad=True)],\n",
       "  'lr': 0.001,\n",
       "  'betas': (0.9, 0.999),\n",
       "  'eps': 1e-08,\n",
       "  'weight_decay': 0,\n",
       "  'amsgrad': False}]"
      ]
     },
     "execution_count": 40,
     "metadata": {},
     "output_type": "execute_result"
    }
   ],
   "source": [
    "optimizer.param_groups"
   ]
  },
  {
   "cell_type": "code",
   "execution_count": 41,
   "metadata": {},
   "outputs": [],
   "source": [
    "scheduler = optim.lr_scheduler.CyclicLR(optimizer,\n",
    "                                        base_lr=1e-3,\n",
    "                                        max_lr=0.006,\n",
    "                                        step_size_up=10,\n",
    "                                        step_size_down=90,\n",
    "                                        cycle_momentum=False)"
   ]
  },
  {
   "cell_type": "code",
   "execution_count": 42,
   "metadata": {},
   "outputs": [],
   "source": [
    "iterations = 10"
   ]
  },
  {
   "cell_type": "code",
   "execution_count": 43,
   "metadata": {},
   "outputs": [],
   "source": [
    "lrs = []\n",
    "itrs = []\n",
    "step=0\n",
    "epochs=10\n",
    "for epoch in range(epochs):\n",
    "    for index in range(iterations):\n",
    "#         optimizer.zero_grad()\n",
    "#         preds = model(inp[index])\n",
    "#         loss = loss_function(preds,y)\n",
    "#         loss.backward()\n",
    "#         optimzer.step()\n",
    "        scheduler.step()\n",
    "        \n",
    "        step+=1\n",
    "        lrs.append(optimizer.param_groups[0]['lr'])\n",
    "        itrs.append(step)\n",
    "        \n",
    "    "
   ]
  },
  {
   "cell_type": "code",
   "execution_count": 44,
   "metadata": {},
   "outputs": [
    {
     "data": {
      "image/png": "[encoded data removed]",
      "text/plain": [
       "<Figure size 432x288 with 1 Axes>"
      ]
     },
     "metadata": {
      "needs_background": "light"
     },
     "output_type": "display_data"
    }
   ],
   "source": [
    "plt.plot(itrs,lrs)\n",
    "plt.xlabel(\"Epochs\")\n",
    "plt.ylabel(\"Learning rate\")\n",
    "plt.title(\"CLR\")\n",
    "plt.show()"
   ]
  },
  {
   "cell_type": "code",
   "execution_count": null,
   "metadata": {},
   "outputs": [],
   "source": []
  }
 ],
 "metadata": {
  "kernelspec": {
   "display_name": "Python 3",
   "language": "python",
   "name": "python3"
  },
  "language_info": {
   "codemirror_mode": {
    "name": "ipython",
    "version": 3
   },
   "file_extension": ".py",
   "mimetype": "text/x-python",
   "name": "python",
   "nbconvert_exporter": "python",
   "pygments_lexer": "ipython3",
   "version": "3.7.3"
  }
 },
 "nbformat": 4,
 "nbformat_minor": 2
}
